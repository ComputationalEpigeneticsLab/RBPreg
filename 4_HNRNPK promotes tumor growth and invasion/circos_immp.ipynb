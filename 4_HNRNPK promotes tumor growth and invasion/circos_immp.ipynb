{
 "cells": [
  {
   "cell_type": "code",
   "execution_count": null,
   "metadata": {},
   "outputs": [],
   "source": [
    "import matplotlib.pyplot as plt\n",
    "import numpy as np ,pandas as pd\n",
    "from collections import OrderedDict,Counter\n",
    "import os\n",
    "import statsmodels.stats.multitest as multi\n",
    "import scipy.stats as stats\n",
    "from collections import Counter\n",
    "from IPython.core.interactiveshell import InteractiveShell\n",
    "InteractiveShell.ast_node_interactivity=\"all\"\n",
    "import math"
   ]
  },
  {
   "cell_type": "code",
   "execution_count": null,
   "metadata": {},
   "outputs": [],
   "source": [
    "dir=\"E:\\\\project\\\\singcells\\\\3_function_analyse\\\\\"\n",
    "dir1=\"D:\\\\Circos\\\\circos\\\\circos-0.68-1\\\\circos-tutorials-0.67\\\\tutorials\\\\zww\\\\SCENIC\\\\function_imm\\\\imm2\\\\base\\\\\""
   ]
  },
  {
   "cell_type": "code",
   "execution_count": null,
   "metadata": {},
   "outputs": [],
   "source": [
    "data=pd.read_csv(dir+\"ggalluvial_data.txt\",header=0,sep=\"\\t\",index_col=0)"
   ]
  },
  {
   "cell_type": "code",
   "execution_count": null,
   "metadata": {
    "scrolled": true
   },
   "outputs": [],
   "source": [
    "data.head(3)"
   ]
  },
  {
   "cell_type": "code",
   "execution_count": null,
   "metadata": {},
   "outputs": [],
   "source": [
    "data_genes=list(set(data[\"genes\"]))\n",
    "\n",
    "data_immp=list(set(data[\"imm_p\"]))\n",
    "\n",
    "data_reg_bc=list(set(data.loc[\"BC\"][\"regulons\"]))\n",
    "data_reg_lc=list(set(data.loc[\"LC\"][\"regulons\"]))\n",
    "data_reg_crc=list(set(data.loc[\"CRC\"][\"regulons\"]))\n",
    "data_reg_ovc=list(set(data.loc[\"OvC\"][\"regulons\"]))"
   ]
  },
  {
   "cell_type": "code",
   "execution_count": null,
   "metadata": {},
   "outputs": [],
   "source": [
    "len(data_genes)"
   ]
  },
  {
   "cell_type": "code",
   "execution_count": null,
   "metadata": {},
   "outputs": [],
   "source": [
    "hs=[]\n",
    "st=[]\n",
    "end=[]\n",
    "sy=[]"
   ]
  },
  {
   "cell_type": "code",
   "execution_count": null,
   "metadata": {},
   "outputs": [],
   "source": [
    "###cancers###\n",
    "\n",
    "###bc\n",
    "sp=3\n",
    "nu=0\n",
    "for ww in data_reg_bc:\n",
    "    hs.append(\"hs1\")\n",
    "    st.append(nu)\n",
    "    end.append(nu+sp)\n",
    "    nu=end[-1]+1\n",
    "    sy.append(\"\".join(ww.split(\" \")))\n",
    "\n",
    "###crc\n",
    "sp=3\n",
    "nu=0\n",
    "for ww in data_reg_crc:\n",
    "    hs.append(\"hs2\")\n",
    "    st.append(nu)\n",
    "    end.append(nu+sp)\n",
    "    nu=end[-1]+1\n",
    "    sy.append(\"\".join(ww.split(\" \")))\n",
    "\n",
    "###lc\n",
    "sp=3\n",
    "nu=0\n",
    "for ww in data_reg_lc:\n",
    "    hs.append(\"hs3\")\n",
    "    st.append(nu)\n",
    "    end.append(nu+sp)\n",
    "    nu=end[-1]+1\n",
    "    sy.append(\"\".join(ww.split(\" \")))\n",
    "\n",
    "###ovc\n",
    "sp=3\n",
    "nu=0\n",
    "for ww in data_reg_ovc:\n",
    "    hs.append(\"hs4\")\n",
    "    st.append(nu)\n",
    "    end.append(nu+sp)\n",
    "    nu=end[-1]+1\n",
    "    sy.append(\"\".join(ww.split(\" \")))\n",
    "\n",
    "###immp\n",
    "\n",
    "sp=8\n",
    "nu=0\n",
    "for ww in data_immp:\n",
    "    hs.append(\"hs5\")\n",
    "    st.append(nu)\n",
    "    end.append(nu+sp)\n",
    "    nu=end[-1]+1\n",
    "    sy.append(\"\".join(ww.split(\"_\")))\n",
    "\n",
    "###genes\n",
    "\n",
    "sp=2\n",
    "nu=0\n",
    "for ww in data_genes:\n",
    "    hs.append(\"hs6\")\n",
    "    st.append(nu)\n",
    "    end.append(nu+sp)\n",
    "    nu=end[-1]+1\n",
    "    sy.append(\"\".join(ww.split(\" \")))"
   ]
  },
  {
   "cell_type": "code",
   "execution_count": null,
   "metadata": {},
   "outputs": [],
   "source": [
    "labels=pd.DataFrame()\n",
    "\n",
    "\n",
    "labels[\"hs\"]=hs\n",
    "labels[\"st\"]=st\n",
    "labels[\"end\"]=end\n",
    "labels[\"sy\"]=sy\n"
   ]
  },
  {
   "cell_type": "code",
   "execution_count": null,
   "metadata": {},
   "outputs": [],
   "source": [
    "labels.to_csv(dir1+\"labels.txt\",header=False,index=False,sep=\"\\t\")"
   ]
  },
  {
   "cell_type": "code",
   "execution_count": null,
   "metadata": {},
   "outputs": [],
   "source": [
    "##############link##################"
   ]
  },
  {
   "cell_type": "code",
   "execution_count": null,
   "metadata": {},
   "outputs": [],
   "source": [
    "g_hs_all=[]\n",
    "g_st_all=[]\n",
    "g_end_all=[]\n",
    "tar_hs=[]\n",
    "tar_st=[]\n",
    "tar_end=[]\n",
    "colors=[]"
   ]
  },
  {
   "cell_type": "code",
   "execution_count": null,
   "metadata": {},
   "outputs": [],
   "source": [
    "\n",
    "#gene0=\"TGFBR1\"\n",
    "for gene0 in data_genes:\n",
    "    g_hs=labels[labels[\"sy\"]==gene0].iloc[0,0]\n",
    "    g_st=labels[labels[\"sy\"]==gene0].iloc[0,1]\n",
    "    g_end=labels[labels[\"sy\"]==gene0].iloc[0,2]\n",
    "\n",
    "\n",
    "    data0=data[data[\"genes\"]==gene0]\n",
    "\n",
    "    if \"BC\" in data0.index:\n",
    "        for ind,cols in data0[data0[\"color_fill\"]==\"BC\"].iterrows():\n",
    "            reg0=\"\".join(cols[0].split(\" \"))\n",
    "            reg0_hs=labels[labels[\"sy\"]==reg0].iloc[0,0]\n",
    "            reg0_st=labels[labels[\"sy\"]==reg0].iloc[0,1]\n",
    "            reg0_end=labels[labels[\"sy\"]==reg0].iloc[0,2]\n",
    "            g_hs_all.append(g_hs)\n",
    "            g_st_all.append(g_st)\n",
    "            g_end_all.append(g_end)\n",
    "            tar_hs.append(reg0_hs)\n",
    "            tar_st.append(reg0_st)\n",
    "            tar_end.append(reg0_end)\n",
    "            colors.append(\"color=233,105,101\")\n",
    "\n",
    "    if \"CRC\" in data0.index:\n",
    "        for ind,cols in data0[data0[\"color_fill\"]==\"CRC\"].iterrows():\n",
    "            reg0=\"\".join(cols[0].split(\" \"))\n",
    "            reg0_hs=labels[labels[\"sy\"]==reg0].iloc[0,0]\n",
    "            reg0_st=labels[labels[\"sy\"]==reg0].iloc[0,1]\n",
    "            reg0_end=labels[labels[\"sy\"]==reg0].iloc[0,2]\n",
    "            g_hs_all.append(g_hs)\n",
    "            g_st_all.append(g_st)\n",
    "            g_end_all.append(g_end)\n",
    "            tar_hs.append(reg0_hs)\n",
    "            tar_st.append(reg0_st)\n",
    "            tar_end.append(reg0_end)\n",
    "            colors.append(\"color=112,161,40\")\n",
    "\n",
    "    if \"LC\" in data0.index:\n",
    "        for ind,cols in data0[data0[\"color_fill\"]==\"LC\"].iterrows():\n",
    "            reg0=\"\".join(cols[0].split(\" \"))\n",
    "            reg0_hs=labels[labels[\"sy\"]==reg0].iloc[0,0]\n",
    "            reg0_st=labels[labels[\"sy\"]==reg0].iloc[0,1]\n",
    "            reg0_end=labels[labels[\"sy\"]==reg0].iloc[0,2]\n",
    "            g_hs_all.append(g_hs)\n",
    "            g_st_all.append(g_st)\n",
    "            g_end_all.append(g_end)\n",
    "            tar_hs.append(reg0_hs)\n",
    "            tar_st.append(reg0_st)\n",
    "            tar_end.append(reg0_end)\n",
    "            colors.append(\"color=0,171,183\")\n",
    "\n",
    "    if \"OvC\" in data0.index:\n",
    "        for ind,cols in data0[data0[\"color_fill\"]==\"OvC\"].iterrows():\n",
    "            reg0=\"\".join(cols[0].split(\" \"))\n",
    "            reg0_hs=labels[labels[\"sy\"]==reg0].iloc[0,0]\n",
    "            reg0_st=labels[labels[\"sy\"]==reg0].iloc[0,1]\n",
    "            reg0_end=labels[labels[\"sy\"]==reg0].iloc[0,2]\n",
    "            g_hs_all.append(g_hs)\n",
    "            g_st_all.append(g_st)\n",
    "            g_end_all.append(g_end)\n",
    "            tar_hs.append(reg0_hs)\n",
    "            tar_st.append(reg0_st)\n",
    "            tar_end.append(reg0_end)\n",
    "            colors.append(\"color=159,122,180\")"
   ]
  },
  {
   "cell_type": "code",
   "execution_count": null,
   "metadata": {},
   "outputs": [],
   "source": [
    "link=pd.DataFrame()\n",
    "\n",
    "link[\"g_hs\"]=g_hs_all\n",
    "link[\"g_st_all\"]=g_st_all\n",
    "link[\"g_end_all\"]=g_end_all\n",
    "link[\"tar_hs\"]=tar_hs\n",
    "link[\"tar_st\"]=tar_st\n",
    "link[\"tar_end\"]=tar_end\n",
    "link[\"colors\"]=colors"
   ]
  },
  {
   "cell_type": "code",
   "execution_count": null,
   "metadata": {},
   "outputs": [],
   "source": [
    "link.to_csv(dir1+\"link.txt\",header=False,index=False,sep=\"\\t\")"
   ]
  },
  {
   "cell_type": "code",
   "execution_count": null,
   "metadata": {},
   "outputs": [],
   "source": [
    "#####immp_link####"
   ]
  },
  {
   "cell_type": "code",
   "execution_count": null,
   "metadata": {},
   "outputs": [],
   "source": [
    "data_imm=pd.read_csv(dir+\"hypergeom_p005_inter_gene.txt\",header=0,sep=\"\\t\")"
   ]
  },
  {
   "cell_type": "code",
   "execution_count": null,
   "metadata": {
    "scrolled": false
   },
   "outputs": [],
   "source": [
    "data_imm.head(3)"
   ]
  },
  {
   "cell_type": "code",
   "execution_count": null,
   "metadata": {},
   "outputs": [],
   "source": [
    "p_hs_all=[]\n",
    "p_st_all=[]\n",
    "p_end_all=[]\n",
    "reg_hs=[]\n",
    "reg_st=[]\n",
    "reg_end=[]\n",
    "colors_imm=[]"
   ]
  },
  {
   "cell_type": "code",
   "execution_count": null,
   "metadata": {},
   "outputs": [],
   "source": [
    "#immp0=data_immp[0]\n",
    "for immp0 in data_immp:\n",
    "\n",
    "    p_hs=labels[labels[\"sy\"]==(\"\".join(immp0.split(\"_\")))].iloc[0,0]\n",
    "    p_st=labels[labels[\"sy\"]==(\"\".join(immp0.split(\"_\")))].iloc[0,1]\n",
    "    p_end=labels[labels[\"sy\"]==(\"\".join(immp0.split(\"_\")))].iloc[0,2]\n",
    "\n",
    "    data0=data_imm[data_imm[\"imm_pathway\"]==immp0]\n",
    "\n",
    "    regall=data0[\"cancer_celltype_regulon\"].tolist()\n",
    "\n",
    "    for reg0 in regall:\n",
    "        cacner0=reg0.split(\"_\")[0]\n",
    "        reg0=\"\".join(reg0.split(\"_\")[-1].split(\" \"))\n",
    "\n",
    "        reg0_hs=labels[labels[\"sy\"]==reg0].iloc[0,0]\n",
    "        reg0_st=labels[labels[\"sy\"]==reg0].iloc[0,1]\n",
    "        reg0_end=labels[labels[\"sy\"]==reg0].iloc[0,2]\n",
    "\n",
    "        p_hs_all.append(p_hs)\n",
    "        p_st_all.append(p_st)\n",
    "        p_end_all.append(p_end)\n",
    "        reg_hs.append(reg0_hs)\n",
    "        reg_st.append(reg0_st)\n",
    "        reg_end.append(reg0_end)\n",
    "\n",
    "        if cacner0==\"BC\":\n",
    "            colors_imm.append(\"color=233,105,101\")\n",
    "        elif cacner0==\"CRC\":\n",
    "            colors_imm.append(\"color=112,161,40\")\n",
    "        elif cacner0==\"LC\":\n",
    "            colors_imm.append(\"color=0,171,183\")\n",
    "        elif cacner0==\"OvC\":\n",
    "            colors_imm.append(\"color=159,122,180\")"
   ]
  },
  {
   "cell_type": "code",
   "execution_count": null,
   "metadata": {},
   "outputs": [],
   "source": [
    "link_imm=pd.DataFrame()\n",
    "\n",
    "link_imm[\"g_hs\"]=p_hs_all\n",
    "link_imm[\"g_st_all\"]=p_st_all\n",
    "link_imm[\"g_end_all\"]=p_end_all\n",
    "link_imm[\"tar_hs\"]=reg_hs\n",
    "link_imm[\"tar_st\"]=reg_st\n",
    "link_imm[\"tar_end\"]=reg_end\n",
    "link_imm[\"colors\"]=colors_imm"
   ]
  },
  {
   "cell_type": "code",
   "execution_count": null,
   "metadata": {},
   "outputs": [],
   "source": [
    "link_imm.shape"
   ]
  },
  {
   "cell_type": "code",
   "execution_count": null,
   "metadata": {},
   "outputs": [],
   "source": [
    "link_imm.to_csv(dir1+\"link_immp.txt\",header=False,index=False,sep=\"\\t\")"
   ]
  },
  {
   "cell_type": "code",
   "execution_count": null,
   "metadata": {},
   "outputs": [],
   "source": [
    "####imm-genes"
   ]
  },
  {
   "cell_type": "code",
   "execution_count": null,
   "metadata": {},
   "outputs": [],
   "source": [
    "data.head(3)"
   ]
  },
  {
   "cell_type": "code",
   "execution_count": null,
   "metadata": {},
   "outputs": [],
   "source": [
    "p_hs_all=[]\n",
    "p_st_all=[]\n",
    "p_end_all=[]\n",
    "reg_hs=[]\n",
    "reg_st=[]\n",
    "reg_end=[]\n",
    "colors_imm=[]"
   ]
  },
  {
   "cell_type": "code",
   "execution_count": null,
   "metadata": {},
   "outputs": [],
   "source": [
    "for ind,cols in data.iterrows():\n",
    "    immp0=\"\".join(cols[1].split(\"_\"))\n",
    "    gene0=cols[2]\n",
    "    p_hs_all.append(labels[labels[\"sy\"]==immp0].iloc[0,0])\n",
    "    p_st_all.append(labels[labels[\"sy\"]==immp0].iloc[0,1])\n",
    "    p_end_all.append(labels[labels[\"sy\"]==immp0].iloc[0,2])\n",
    "    reg_hs.append(labels[labels[\"sy\"]==gene0].iloc[0,0])\n",
    "    reg_st.append(labels[labels[\"sy\"]==gene0].iloc[0,1])\n",
    "    reg_end.append(labels[labels[\"sy\"]==gene0].iloc[0,2])\n",
    "    if cols[-1]==\"BC\":\n",
    "        colors_imm.append(\"color=233,105,101\")\n",
    "    elif cols[-1]==\"CRC\":\n",
    "        colors_imm.append(\"color=112,161,40\")\n",
    "    elif cols[-1]==\"LC\":\n",
    "        colors_imm.append(\"color=0,171,183\")\n",
    "    elif cols[-1]==\"OvC\":\n",
    "        colors_imm.append(\"color=159,122,180\")"
   ]
  },
  {
   "cell_type": "code",
   "execution_count": null,
   "metadata": {},
   "outputs": [],
   "source": [
    "link_imm_gene=pd.DataFrame()\n",
    "\n",
    "link_imm_gene[\"g_hs\"]=p_hs_all\n",
    "link_imm_gene[\"g_st_all\"]=p_st_all\n",
    "link_imm_gene[\"g_end_all\"]=p_end_all\n",
    "link_imm_gene[\"tar_hs\"]=reg_hs\n",
    "link_imm_gene[\"tar_st\"]=reg_st\n",
    "link_imm_gene[\"tar_end\"]=reg_end\n",
    "link_imm_gene[\"colors\"]=colors_imm"
   ]
  },
  {
   "cell_type": "code",
   "execution_count": null,
   "metadata": {},
   "outputs": [],
   "source": [
    "link_imm_gene.to_csv(dir1+\"link_immp_gene.txt\",header=False,index=False,sep=\"\\t\")"
   ]
  }
 ],
 "metadata": {
  "kernelspec": {
   "display_name": "Python [conda env:root] *",
   "language": "python",
   "name": "conda-root-py"
  },
  "language_info": {
   "codemirror_mode": {
    "name": "ipython",
    "version": 3
   },
   "file_extension": ".py",
   "mimetype": "text/x-python",
   "name": "python",
   "nbconvert_exporter": "python",
   "pygments_lexer": "ipython3",
   "version": "3.6.5"
  }
 },
 "nbformat": 4,
 "nbformat_minor": 2
}
