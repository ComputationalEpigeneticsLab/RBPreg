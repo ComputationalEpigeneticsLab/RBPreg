{
 "cells": [
  {
   "cell_type": "code",
   "execution_count": null,
   "metadata": {},
   "outputs": [],
   "source": [
    "import matplotlib.pyplot as plt\n",
    "import numpy as np ,pandas as pd\n",
    "from collections import OrderedDict,Counter\n",
    "import os\n",
    "import statsmodels.stats.multitest as multi\n",
    "import scipy.stats as stats\n",
    "from scipy.stats import pearsonr\n",
    "from collections import Counter\n",
    "from IPython.core.interactiveshell import InteractiveShell\n",
    "InteractiveShell.ast_node_interactivity=\"all\"\n",
    "import math"
   ]
  },
  {
   "cell_type": "code",
   "execution_count": null,
   "metadata": {},
   "outputs": [],
   "source": [
    "dir=\"E:\\\\project\\\\singcells\\\\7_Correlation\\\\HNRNPK\\\\SC_cancer\\\\\"\n",
    "dir1=\"E:\\\\project\\\\singcells\\\\7_Correlation\\\\HNRNPK\\\\TCGA_disease\\\\\"\n",
    "dir3=\"E:\\\\project\\\\Expression profile\\\\1_gene_lnc\\\\LUAD\\\\\"\n",
    "dir4=\"E:\\\\project\\\\singcells\\\\SCENIC\\\\jt_4cancer_scenic_result\\\\\""
   ]
  },
  {
   "cell_type": "code",
   "execution_count": null,
   "metadata": {},
   "outputs": [],
   "source": [
    "#####sc######\n",
    "lc_cancer_sc=pd.read_csv(dir+\"lc_cancer_exp_matrix.txt\",header=0,sep=\"\\t\",index_col=0)\n",
    "\n",
    "lc_cancer_sc_log2=np.log2(lc_cancer_sc+1)\n",
    "\n",
    "regulons_tar=pd.read_csv(dir4+\"4_cancer_reglons_targetgene.txt\",header=0,sep=\"\\t\")\n",
    "\n",
    "HNRNPK_tar_gene=regulons_tar[(regulons_tar[\"cancer\"]==\"LC\")&(regulons_tar[\"celltype\"]==\"Cancer\")&(regulons_tar[\"reglons\"]==\"HNRNPK (2280g)\")].iloc[0,-1].split(\",\")"
   ]
  },
  {
   "cell_type": "code",
   "execution_count": null,
   "metadata": {},
   "outputs": [],
   "source": [
    "HNRNPK_num=lc_cancer_sc_log2.loc[\"HNRNPK\"].tolist()"
   ]
  },
  {
   "cell_type": "code",
   "execution_count": null,
   "metadata": {},
   "outputs": [],
   "source": [
    "r_value=[]\n",
    "p_value=[]\n",
    "genes=[]\n",
    "\n",
    "#targene0=HNRNPK_tar_gene[0]\n",
    "for targene0 in HNRNPK_tar_gene:\n",
    "\n",
    "    targene0_num=lc_cancer_sc_log2.loc[targene0].tolist()\n",
    "\n",
    "    correlation,pvalue = stats.stats. spearmanr (HNRNPK_num,targene0_num)\n",
    "    r_value.append(correlation)\n",
    "    p_value.append(pvalue)\n",
    "    genes.append(targene0)"
   ]
  },
  {
   "cell_type": "code",
   "execution_count": null,
   "metadata": {},
   "outputs": [],
   "source": [
    "HNRNPK_SC_cancer_spearman=pd.DataFrame()\n",
    "\n",
    "HNRNPK_SC_cancer_spearman[\"genes\"]=genes\n",
    "HNRNPK_SC_cancer_spearman[\"p_value\"]=p_value\n",
    "HNRNPK_SC_cancer_spearman[\"r_value\"]=r_value"
   ]
  },
  {
   "cell_type": "code",
   "execution_count": null,
   "metadata": {},
   "outputs": [],
   "source": [
    "#####TCGA####"
   ]
  },
  {
   "cell_type": "code",
   "execution_count": null,
   "metadata": {},
   "outputs": [],
   "source": [
    "luad_tcga_disease=pd.read_csv(dir3+\"gene_cancer_exp.txt\",header=None,sep=\"\\t\",index_col=0)\n",
    "luad_tcga_disease_log=np.log2(luad_tcga_disease+1)\n",
    "\n",
    "sy_ensg=pd.read_csv(\"E:\\\\project\\\\A_normal_infor\\\\geneID\\\\mRNA\\\\mRNA_unique.txt\",header=None,sep=\"\\t\")"
   ]
  },
  {
   "cell_type": "code",
   "execution_count": null,
   "metadata": {},
   "outputs": [],
   "source": [
    "HNRNPK_sy=sy_ensg[sy_ensg[0]==\"HNRNPK\"].iloc[0,-1].split(\".\")[0]\n",
    "\n",
    "HNRNPK_num=luad_tcga_disease_log.loc[HNRNPK_sy].tolist()"
   ]
  },
  {
   "cell_type": "code",
   "execution_count": null,
   "metadata": {},
   "outputs": [],
   "source": [
    "r_value_tcga_disease=[]\n",
    "p_value_tcga_disease=[]\n",
    "nofind=[]\n",
    "\n",
    "#targene0=HNRNPK_tar_gene[0]\n",
    "for targene0 in HNRNPK_tar_gene:\n",
    "    if targene0 in sy_ensg[0].tolist():\n",
    "        targene0_ensg=sy_ensg[sy_ensg[0]==targene0].iloc[0,-1].split(\".\")[0]\n",
    "        if targene0_ensg in luad_tcga_disease_log.index:\n",
    "            targene0_num=luad_tcga_disease_log.loc[targene0_ensg].tolist()\n",
    "\n",
    "            correlation,pvalue = stats.stats. spearmanr (HNRNPK_num,targene0_num)\n",
    "            r_value_tcga_disease.append(correlation)\n",
    "            p_value_tcga_disease.append(pvalue)\n",
    "        else:\n",
    "            r_value_tcga_disease.append(\"none\")\n",
    "            p_value_tcga_disease.append(\"none\")\n",
    "            nofind.append(targene0)\n",
    "    else:\n",
    "        r_value_tcga_disease.append(\"none\")\n",
    "        p_value_tcga_disease.append(\"none\")\n",
    "        nofind.append(targene0)"
   ]
  },
  {
   "cell_type": "code",
   "execution_count": null,
   "metadata": {},
   "outputs": [],
   "source": [
    "nofind"
   ]
  },
  {
   "cell_type": "code",
   "execution_count": null,
   "metadata": {},
   "outputs": [],
   "source": [
    "HNRNPK_SC_cancer_spearman[\"r_value_tcga_disease\"]=r_value_tcga_disease\n",
    "HNRNPK_SC_cancer_spearman[\"p_value_tcga_disease\"]=p_value_tcga_disease"
   ]
  },
  {
   "cell_type": "code",
   "execution_count": null,
   "metadata": {},
   "outputs": [],
   "source": [
    "HNRNPK_SC_cancer_spearman.to_csv(dir+\"HNRNPK_SC_TCGA_spearman.txt\",header=True,sep=\"\\t\",index=False)"
   ]
  },
  {
   "cell_type": "code",
   "execution_count": null,
   "metadata": {},
   "outputs": [],
   "source": []
  }
 ],
 "metadata": {
  "kernelspec": {
   "display_name": "Python [conda env:root] *",
   "language": "python",
   "name": "conda-root-py"
  },
  "language_info": {
   "codemirror_mode": {
    "name": "ipython",
    "version": 3
   },
   "file_extension": ".py",
   "mimetype": "text/x-python",
   "name": "python",
   "nbconvert_exporter": "python",
   "pygments_lexer": "ipython3",
   "version": "3.6.5"
  }
 },
 "nbformat": 4,
 "nbformat_minor": 2
}
