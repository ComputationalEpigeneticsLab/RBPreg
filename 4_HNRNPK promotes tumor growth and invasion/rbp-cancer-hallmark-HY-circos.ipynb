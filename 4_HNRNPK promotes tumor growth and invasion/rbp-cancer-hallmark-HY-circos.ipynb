{
 "cells": [
  {
   "cell_type": "code",
   "execution_count": null,
   "metadata": {},
   "outputs": [],
   "source": [
    "import matplotlib.pyplot as plt\n",
    "import numpy as np ,pandas as pd\n",
    "from collections import OrderedDict,Counter\n",
    "import os\n",
    "import statsmodels.stats.multitest as multi\n",
    "import scipy.stats as stats\n",
    "from scipy.stats import pearsonr\n",
    "from collections import Counter\n",
    "from IPython.core.interactiveshell import InteractiveShell\n",
    "InteractiveShell.ast_node_interactivity=\"all\"\n",
    "import math"
   ]
  },
  {
   "cell_type": "code",
   "execution_count": null,
   "metadata": {},
   "outputs": [],
   "source": [
    "dir=\"E:\\\\project\\\\singcells\\\\3_function_analyse\\\\\"\n",
    "dir1=\"E:\\\\project\\\\singcells\\\\SCENIC\\\\jt_4cancer_scenic_result\\\\\"\n",
    "dir2=\"E:\\\\project\\\\A_normal_infor\\\\MsigDB\\\\cancer_hallmark\\\\\""
   ]
  },
  {
   "cell_type": "code",
   "execution_count": null,
   "metadata": {},
   "outputs": [],
   "source": [
    "tar=pd.read_csv(dir1+\"4_cancer_reglons_targetgene.txt\",header=0,index_col=0,sep=\"\\t\")"
   ]
  },
  {
   "cell_type": "code",
   "execution_count": null,
   "metadata": {},
   "outputs": [],
   "source": [
    "tar.head(3)"
   ]
  },
  {
   "cell_type": "code",
   "execution_count": null,
   "metadata": {},
   "outputs": [],
   "source": [
    "cacner_hallmark=OrderedDict()\n",
    "\n",
    "r=open(dir2+\"h.all.v7.2.symbols.xls\")\n",
    "\n",
    "line=r.readline()\n",
    "while line:\n",
    "    arr=line.strip().split(\"\\t\")\n",
    "\n",
    "    cacner_hallmark[arr[0]]=\"\\t\".join(arr[2:])\n",
    "    line=r.readline()\n",
    "r.close()"
   ]
  },
  {
   "cell_type": "code",
   "execution_count": null,
   "metadata": {},
   "outputs": [],
   "source": [
    "c_r=[]\n",
    "im_p=[]\n",
    "p_v=[]\n",
    "inter_gene=[]\n",
    "all_n=19954"
   ]
  },
  {
   "cell_type": "code",
   "execution_count": null,
   "metadata": {},
   "outputs": [],
   "source": [
    "for ind,cols in tar.iterrows():\n",
    "    reg_ta_gene=cols[2].split(\",\")\n",
    "    \n",
    "    for k,v in cacner_hallmark.items():\n",
    "        c_r.append(ind+\"_\"+cols[0]+\"_\"+cols[1])\n",
    "        im_p.append(k)\n",
    "        cancer_hallmark_gene=v.split(\"\\t\")\n",
    "        inter=list(set(cancer_hallmark_gene).intersection(set(reg_ta_gene)))\n",
    "        if len(inter)>3:\n",
    "            p=stats.hypergeom.sf(len(inter)-1,all_n,len(cancer_hallmark_gene),len(reg_ta_gene))\n",
    "            p_v.append(p)\n",
    "            inter_gene.append(\",\".join(inter))\n",
    "        else:\n",
    "            p_v.append(\"-\")\n",
    "            inter_gene.append(\"-\")\n",
    "            "
   ]
  },
  {
   "cell_type": "code",
   "execution_count": null,
   "metadata": {},
   "outputs": [],
   "source": [
    "hypergeom_re=pd.DataFrame()\n",
    "\n",
    "hypergeom_re[\"cancer_celltype_regulon\"]=c_r\n",
    "hypergeom_re[\"cacer_hallmark\"]=im_p\n",
    "hypergeom_re[\"p_value\"]=p_v\n",
    "hypergeom_re[\"inter_gene\"]=inter_gene"
   ]
  },
  {
   "cell_type": "code",
   "execution_count": null,
   "metadata": {},
   "outputs": [],
   "source": [
    "hypergeom_re.head(3)"
   ]
  },
  {
   "cell_type": "code",
   "execution_count": null,
   "metadata": {},
   "outputs": [],
   "source": [
    "hypergeom_re.to_csv(\"E:\\\\project\\\\singcells\\\\3_function_analyse\\\\cancer_hallmark_function_analyse\\\\rbp_cancer_hallmark_hypergeom.txt\",header=True,sep=\"\\t\",index=False)"
   ]
  },
  {
   "cell_type": "code",
   "execution_count": null,
   "metadata": {},
   "outputs": [],
   "source": [
    "data_on=hypergeom_re[hypergeom_re[\"p_value\"]!=\"-\"]\n",
    "data_on.shape"
   ]
  },
  {
   "cell_type": "code",
   "execution_count": null,
   "metadata": {},
   "outputs": [],
   "source": [
    "data_on.to_csv(\"E:\\\\project\\\\singcells\\\\3_function_analyse\\\\cancer_hallmark_function_analyse\\\\rbp_cancer_hallmark_hypergeom_on.txt\",header=True,sep=\"\\t\",index=False)"
   ]
  },
  {
   "cell_type": "code",
   "execution_count": null,
   "metadata": {},
   "outputs": [],
   "source": [
    "df_p=data_on[data_on[\"p_value\"]<0.05]"
   ]
  },
  {
   "cell_type": "code",
   "execution_count": null,
   "metadata": {},
   "outputs": [],
   "source": [
    "df_p.to_csv(\"E:\\\\project\\\\singcells\\\\3_function_analyse\\\\cancer_hallmark_function_analyse\\\\rbp_cancer_hallmark_hypergeom_on_sig(p005).txt\",header=True,sep=\"\\t\",index=False)"
   ]
  },
  {
   "cell_type": "code",
   "execution_count": null,
   "metadata": {
    "scrolled": true
   },
   "outputs": [],
   "source": [
    "len(set(data_on[\"cacer_hallmark\"]))"
   ]
  },
  {
   "cell_type": "code",
   "execution_count": null,
   "metadata": {},
   "outputs": [],
   "source": [
    "len(set(df_p[\"cacer_hallmark\"]))"
   ]
  },
  {
   "cell_type": "code",
   "execution_count": null,
   "metadata": {},
   "outputs": [],
   "source": [
    "data_fdr=pd.read_csv(\"E:\\\\project\\\\singcells\\\\3_function_analyse\\\\cancer_hallmark_function_analyse\\\\rbp_cancer_hallmark_hypergeom_on_fdr.txt\",header=0,sep=\"\\t\")"
   ]
  },
  {
   "cell_type": "code",
   "execution_count": null,
   "metadata": {},
   "outputs": [],
   "source": [
    "data_fdr.head(3)"
   ]
  },
  {
   "cell_type": "code",
   "execution_count": null,
   "metadata": {},
   "outputs": [],
   "source": [
    "df_p=data_fdr[data_fdr[\"fdr\"]<0.001]"
   ]
  },
  {
   "cell_type": "code",
   "execution_count": null,
   "metadata": {},
   "outputs": [],
   "source": [
    "df_p.head(3)"
   ]
  },
  {
   "cell_type": "code",
   "execution_count": null,
   "metadata": {},
   "outputs": [],
   "source": [
    "cancer_all=[]\n",
    "celltype_all=[]\n",
    "regulons_all=[]\n",
    "cancer_hallmark=[]\n",
    "gene_all=[]\n"
   ]
  },
  {
   "cell_type": "code",
   "execution_count": null,
   "metadata": {},
   "outputs": [],
   "source": [
    "for ind,cols in df_p.iterrows():\n",
    "    for ww in cols[-2].split(\",\"):\n",
    "        cancer_all.append(cols[0].split(\"_\")[0])\n",
    "        celltype_all.append(cols[0].split(\"_\")[1])\n",
    "        regulons_all.append(cols[0].split(\"_\")[-1])\n",
    "        cancer_hallmark.append(cols[1])\n",
    "        gene_all.append(ww)"
   ]
  },
  {
   "cell_type": "code",
   "execution_count": null,
   "metadata": {},
   "outputs": [],
   "source": [
    "rbp_cancer_hallmark_infor=pd.DataFrame()\n",
    "\n",
    "rbp_cancer_hallmark_infor[\"cancer\"]=cancer_all\n",
    "rbp_cancer_hallmark_infor[\"celltype\"]=celltype_all\n",
    "rbp_cancer_hallmark_infor[\"regulons\"]=regulons_all\n",
    "rbp_cancer_hallmark_infor[\"cancer_hallmark\"]=cancer_hallmark\n",
    "rbp_cancer_hallmark_infor[\"genes\"]=gene_all"
   ]
  },
  {
   "cell_type": "code",
   "execution_count": null,
   "metadata": {},
   "outputs": [],
   "source": [
    "rbp_cancer_hallmark_infor.head(3)"
   ]
  },
  {
   "cell_type": "code",
   "execution_count": null,
   "metadata": {},
   "outputs": [],
   "source": [
    "rbp_cancer_hallmark_infor.to_csv(\"E:\\\\project\\\\singcells\\\\3_function_analyse\\\\cancer_hallmark_function_analyse\\\\rbp_cancer_hallmark_hypergeom_on_sig(fdr0.001)_link.txt\",header=True,sep=\"\\t\",index=False)"
   ]
  },
  {
   "cell_type": "code",
   "execution_count": null,
   "metadata": {},
   "outputs": [],
   "source": [
    "rbp_cancer_hallmark_infor.index=rbp_cancer_hallmark_infor[\"cancer\"].tolist()\n",
    "data=rbp_cancer_hallmark_infor"
   ]
  },
  {
   "cell_type": "code",
   "execution_count": null,
   "metadata": {},
   "outputs": [],
   "source": [
    "data_genes=list(set(data[\"genes\"]))\n",
    "\n",
    "data_cancer_hallmark=list(set(data[\"cancer_hallmark\"]))\n",
    "\n",
    "data_reg_bc=list(set(data.loc[\"BC\"][\"regulons\"]))\n",
    "data_reg_lc=list(set(data.loc[\"LC\"][\"regulons\"]))\n",
    "data_reg_crc=list(set(data.loc[\"CRC\"][\"regulons\"]))\n",
    "data_reg_ovc=list(set(data.loc[\"OvC\"][\"regulons\"]))"
   ]
  },
  {
   "cell_type": "code",
   "execution_count": null,
   "metadata": {},
   "outputs": [],
   "source": [
    "len(data_genes)\n",
    "len(data_cancer_hallmark)\n",
    "len(data_reg_bc)\n",
    "len(data_reg_lc)\n",
    "len(data_reg_crc)\n",
    "len(data_reg_ovc)\n",
    "data.shape"
   ]
  },
  {
   "cell_type": "code",
   "execution_count": null,
   "metadata": {},
   "outputs": [],
   "source": [
    "gene_2c_h=[]\n",
    "for gene0 in data_genes:\n",
    "    if len(set(data[data[\"genes\"]==gene0][\"cancer_hallmark\"].tolist()))>=2:\n",
    "        gene_2c_h.append(gene0)\n",
    "len(gene_2c_h)\n",
    "data_2=data[data[\"genes\"].isin(gene_2c_h)]"
   ]
  },
  {
   "cell_type": "code",
   "execution_count": null,
   "metadata": {},
   "outputs": [],
   "source": [
    "data_2.to_csv(\"E:\\\\project\\\\singcells\\\\3_function_analyse\\\\cancer_hallmark_function_analyse\\\\rbp_cancer_hallmark_hypergeom_on_sig(fdr0.001)_2patheway_infor.txt\",header=True,sep=\"\\t\",index=False)"
   ]
  },
  {
   "cell_type": "code",
   "execution_count": null,
   "metadata": {},
   "outputs": [],
   "source": [
    "data_genes=list(set(data_2[\"genes\"]))\n",
    "\n",
    "data_cancer_hallmark=list(set(data_2[\"cancer_hallmark\"]))\n",
    "\n",
    "data_reg_bc=list(set(data_2.loc[\"BC\"][\"regulons\"]))\n",
    "data_reg_lc=list(set(data_2.loc[\"LC\"][\"regulons\"]))\n",
    "data_reg_crc=list(set(data_2.loc[\"CRC\"][\"regulons\"]))\n",
    "data_reg_ovc=list(set(data_2.loc[\"OvC\"][\"regulons\"]))"
   ]
  },
  {
   "cell_type": "code",
   "execution_count": null,
   "metadata": {},
   "outputs": [],
   "source": [
    "len(data_genes)\n",
    "len(data_cancer_hallmark)\n",
    "len(data_reg_bc)\n",
    "len(data_reg_lc)\n",
    "len(data_reg_crc)\n",
    "len(data_reg_ovc)"
   ]
  },
  {
   "cell_type": "code",
   "execution_count": 449,
   "metadata": {},
   "outputs": [],
   "source": [
    "def color_change(value):\n",
    "  digit = list(map(str, range(10))) + list(\"ABCDEF\")\n",
    "  if isinstance(value, tuple):\n",
    "    string = '#'\n",
    "    for i in value:\n",
    "      a1 = i // 16\n",
    "      a2 = i % 16\n",
    "      string += digit[a1] + digit[a2]\n",
    "    return string\n",
    "  elif isinstance(value, str):\n",
    "    a1 = digit.index(value[1]) * 16 + digit.index(value[2])\n",
    "    a2 = digit.index(value[3]) * 16 + digit.index(value[4])\n",
    "    a3 = digit.index(value[5]) * 16 + digit.index(value[6])\n",
    "    return (a1, a2, a3)"
   ]
  },
  {
   "cell_type": "code",
   "execution_count": 457,
   "metadata": {},
   "outputs": [
    {
     "data": {
      "text/plain": [
       "(217, 141, 44)"
      ]
     },
     "execution_count": 457,
     "metadata": {},
     "output_type": "execute_result"
    }
   ],
   "source": [
    "color_change(\"#d98d2c\".upper())"
   ]
  },
  {
   "cell_type": "code",
   "execution_count": 475,
   "metadata": {},
   "outputs": [
    {
     "name": "stdout",
     "output_type": "stream",
     "text": [
      "   cancer    celltype       regulons          cancer_hallmark   genes\n",
      "LC     LC  Fibroblast  HNRNPF (537g)  HALLMARK_MYC_TARGETS_V1   HSPD1\n",
      "LC     LC           T  HNRNPF (537g)  HALLMARK_MYC_TARGETS_V1  NAP1L1\n"
     ]
    }
   ],
   "source": [
    "\n",
    "for ww in data_reg_lc:\n",
    "    data_text=data_2[(data_2[\"cancer\"]==\"LC\")&(data_2[\"regulons\"]==ww)].drop_duplicates(subset=['celltype', 'regulons'], keep='first')\n",
    "    if data_text.shape[0] ==2:\n",
    "        print(data_text)\n",
    "        "
   ]
  },
  {
   "cell_type": "code",
   "execution_count": 477,
   "metadata": {},
   "outputs": [
    {
     "data": {
      "text/plain": [
       "'Epithelial'"
      ]
     },
     "execution_count": 477,
     "metadata": {},
     "output_type": "execute_result"
    }
   ],
   "source": [
    "data_2[(data_2[\"cancer\"]==\"LC\")&(data_2[\"regulons\"]==ww)].drop_duplicates(subset=['celltype', 'regulons'], keep='first').iloc[0,1]"
   ]
  },
  {
   "cell_type": "code",
   "execution_count": 479,
   "metadata": {},
   "outputs": [],
   "source": [
    "color_celltype=pd.read_csv(\"E:\\\\project\\\\singcells\\\\celltype_colors.txt\",header=None,sep=\"\\t\")"
   ]
  },
  {
   "cell_type": "code",
   "execution_count": 483,
   "metadata": {},
   "outputs": [
    {
     "data": {
      "text/html": [
       "<div>\n",
       "<style scoped>\n",
       "    .dataframe tbody tr th:only-of-type {\n",
       "        vertical-align: middle;\n",
       "    }\n",
       "\n",
       "    .dataframe tbody tr th {\n",
       "        vertical-align: top;\n",
       "    }\n",
       "\n",
       "    .dataframe thead th {\n",
       "        text-align: right;\n",
       "    }\n",
       "</style>\n",
       "<table border=\"1\" class=\"dataframe\">\n",
       "  <thead>\n",
       "    <tr style=\"text-align: right;\">\n",
       "      <th></th>\n",
       "      <th>0</th>\n",
       "      <th>1</th>\n",
       "      <th>2</th>\n",
       "    </tr>\n",
       "  </thead>\n",
       "  <tbody>\n",
       "    <tr>\n",
       "      <th>0</th>\n",
       "      <td>BC</td>\n",
       "      <td>B_cell</td>\n",
       "      <td>#d98d2c</td>\n",
       "    </tr>\n",
       "    <tr>\n",
       "      <th>1</th>\n",
       "      <td>BC</td>\n",
       "      <td>Mast</td>\n",
       "      <td>#7f88c2</td>\n",
       "    </tr>\n",
       "    <tr>\n",
       "      <th>2</th>\n",
       "      <td>BC</td>\n",
       "      <td>Cancer</td>\n",
       "      <td>#bca131</td>\n",
       "    </tr>\n",
       "  </tbody>\n",
       "</table>\n",
       "</div>"
      ],
      "text/plain": [
       "    0       1        2\n",
       "0  BC  B_cell  #d98d2c\n",
       "1  BC    Mast  #7f88c2\n",
       "2  BC  Cancer  #bca131"
      ]
     },
     "execution_count": 483,
     "metadata": {},
     "output_type": "execute_result"
    }
   ],
   "source": [
    "color_celltype.head(3)"
   ]
  },
  {
   "cell_type": "code",
   "execution_count": 487,
   "metadata": {},
   "outputs": [],
   "source": [
    "hs=[]\n",
    "st=[]\n",
    "end=[]\n",
    "sy=[]\n",
    "color=[]"
   ]
  },
  {
   "cell_type": "code",
   "execution_count": 488,
   "metadata": {},
   "outputs": [],
   "source": [
    "###cancers###\n",
    "\n",
    "###bc\n",
    "sp=3\n",
    "nu=0\n",
    "for ww in data_reg_bc:\n",
    "    hs.append(\"hs1\")\n",
    "    st.append(nu)\n",
    "    end.append(nu+sp)\n",
    "    nu=end[-1]+1\n",
    "    sy.append(\"\".join(ww.split(\" \")))\n",
    "    cell_type0=data_2[(data_2[\"cancer\"]==\"BC\")&(data_2[\"regulons\"]==ww)].drop_duplicates(subset=['celltype', 'regulons'], keep='first').iloc[0,1]\n",
    "    if cell_type0==\"B\":\n",
    "        color0=color_celltype[(color_celltype[0]==\"BC\")&(color_celltype[1]==\"B_cell\")].iloc[0,2]\n",
    "    elif cell_type0==\"T\":\n",
    "        color0=color_celltype[(color_celltype[0]==\"BC\")&(color_celltype[1]==\"T_cell\")].iloc[0,2]\n",
    "    else:\n",
    "        color0=color_celltype[(color_celltype[0]==\"BC\")&(color_celltype[1]==cell_type0)].iloc[0,2]\n",
    "    color_rgb=color_change(color0.upper())\n",
    "    color.append(\"color=\"+str(color_rgb[0])+\",\"+str(color_rgb[1])+\",\"+str(color_rgb[2]))\n",
    "###crc\n",
    "sp=3\n",
    "nu=0\n",
    "for ww in data_reg_crc:\n",
    "    hs.append(\"hs2\")\n",
    "    st.append(nu)\n",
    "    end.append(nu+sp)\n",
    "    nu=end[-1]+1\n",
    "    sy.append(\"\".join(ww.split(\" \")))\n",
    "    cell_type0=data_2[(data_2[\"cancer\"]==\"CRC\")&(data_2[\"regulons\"]==ww)].drop_duplicates(subset=['celltype', 'regulons'], keep='first').iloc[0,1]\n",
    "    if cell_type0==\"B\":\n",
    "        color0=color_celltype[(color_celltype[0]==\"CRC\")&(color_celltype[1]==\"B_cell\")].iloc[0,2]\n",
    "    elif cell_type0==\"T\":\n",
    "        color0=color_celltype[(color_celltype[0]==\"CRC\")&(color_celltype[1]==\"T_cell\")].iloc[0,2]\n",
    "    elif cell_type0==\"Mast\":\n",
    "        color0=color_celltype[(color_celltype[0]==\"CRC\")&(color_celltype[1]==\"Mast_cell\")].iloc[0,2]\n",
    "    else:\n",
    "        color0=color_celltype[(color_celltype[0]==\"CRC\")&(color_celltype[1]==cell_type0)].iloc[0,2]\n",
    "    color_rgb=color_change(color0.upper())\n",
    "    color.append(\"color=\"+str(color_rgb[0])+\",\"+str(color_rgb[1])+\",\"+str(color_rgb[2]))\n",
    "\n",
    "###lc\n",
    "sp=3\n",
    "nu=0\n",
    "for ww in data_reg_lc:\n",
    "    hs.append(\"hs3\")\n",
    "    st.append(nu)\n",
    "    end.append(nu+sp)\n",
    "    nu=end[-1]+1\n",
    "    sy.append(\"\".join(ww.split(\" \")))\n",
    "    \n",
    "    cell_type0=data_2[(data_2[\"cancer\"]==\"LC\")&(data_2[\"regulons\"]==ww)].drop_duplicates(subset=['celltype', 'regulons'], keep='first').iloc[0,1]\n",
    "    if cell_type0==\"B\":\n",
    "        color0=color_celltype[(color_celltype[0]==\"LC\")&(color_celltype[1]==\"B_cell\")].iloc[0,2]\n",
    "    elif cell_type0==\"T\":\n",
    "        color0=color_celltype[(color_celltype[0]==\"LC\")&(color_celltype[1]==\"T_cell\")].iloc[0,2]\n",
    "    elif cell_type0==\"Mast\":\n",
    "        color0=color_celltype[(color_celltype[0]==\"CRC\")&(color_celltype[1]==\"Mast_cell\")].iloc[0,2]\n",
    "    else:\n",
    "        color0=color_celltype[(color_celltype[0]==\"LC\")&(color_celltype[1]==cell_type0)].iloc[0,2]\n",
    "    color_rgb=color_change(color0.upper())\n",
    "    color.append(\"color=\"+str(color_rgb[0])+\",\"+str(color_rgb[1])+\",\"+str(color_rgb[2]))\n",
    "\n",
    "###ovc\n",
    "sp=3\n",
    "nu=0\n",
    "for ww in data_reg_ovc:\n",
    "    hs.append(\"hs4\")\n",
    "    st.append(nu)\n",
    "    end.append(nu+sp)\n",
    "    nu=end[-1]+1\n",
    "    sy.append(\"\".join(ww.split(\" \")))\n",
    "    cell_type0=data_2[(data_2[\"cancer\"]==\"OvC\")&(data_2[\"regulons\"]==ww)].drop_duplicates(subset=['celltype', 'regulons'], keep='first').iloc[0,1]\n",
    "    if cell_type0==\"B\":\n",
    "        color0=color_celltype[(color_celltype[0]==\"OvC\")&(color_celltype[1]==\"B_cell\")].iloc[0,2]\n",
    "    elif cell_type0==\"T\":\n",
    "        color0=color_celltype[(color_celltype[0]==\"OvC\")&(color_celltype[1]==\"T_cell\")].iloc[0,2]\n",
    "    else:\n",
    "        color0=color_celltype[(color_celltype[0]==\"OvC\")&(color_celltype[1]==cell_type0)].iloc[0,2]\n",
    "    color_rgb=color_change(color0.upper())\n",
    "    color.append(\"color=\"+str(color_rgb[0])+\",\"+str(color_rgb[1])+\",\"+str(color_rgb[2]))\n",
    "\n"
   ]
  },
  {
   "cell_type": "code",
   "execution_count": 489,
   "metadata": {},
   "outputs": [
    {
     "data": {
      "text/plain": [
       "'EC'"
      ]
     },
     "execution_count": 489,
     "metadata": {},
     "output_type": "execute_result"
    }
   ],
   "source": [
    "cell_type0"
   ]
  },
  {
   "cell_type": "code",
   "execution_count": 490,
   "metadata": {},
   "outputs": [],
   "source": [
    "###cancer_hallmark\n",
    "\n",
    "sp=10\n",
    "nu=0\n",
    "for ww in data_cancer_hallmark:\n",
    "    hs.append(\"hs5\")\n",
    "    st.append(nu)\n",
    "    end.append(nu+sp)\n",
    "    nu=end[-1]+1\n",
    "    sy.append(\"\".join(ww.split(\" \")))\n",
    "    color.append(\"color=15,15,15\")\n"
   ]
  },
  {
   "cell_type": "code",
   "execution_count": 491,
   "metadata": {},
   "outputs": [],
   "source": [
    "###genes\n",
    "\n",
    "sp=4\n",
    "nu=0\n",
    "for ww in data_genes:\n",
    "    hs.append(\"hs6\")\n",
    "    st.append(nu)\n",
    "    end.append(nu+sp)\n",
    "    nu=end[-1]+1\n",
    "    sy.append(\"\".join(ww.split(\" \")))\n",
    "    color.append(\"color=15,15,15\")"
   ]
  },
  {
   "cell_type": "code",
   "execution_count": 492,
   "metadata": {},
   "outputs": [],
   "source": [
    "labels_all=pd.DataFrame()\n",
    "labels_all[\"hs\"]=hs\n",
    "labels_all[\"st\"]=st\n",
    "labels_all[\"end\"]=end\n",
    "labels_all[\"sy\"]=sy\n",
    "labels_all[\"color\"]=color\n"
   ]
  },
  {
   "cell_type": "code",
   "execution_count": 493,
   "metadata": {},
   "outputs": [],
   "source": [
    "dir_circos=\"D:\\\\Circos\\\\circos\\\\circos-0.68-1\\\\circos-tutorials-0.67\\\\tutorials\\\\zww\\\\SCENIC\\\\function_cancer_hallmark\\\\circos\\\\base\\\\\""
   ]
  },
  {
   "cell_type": "code",
   "execution_count": 494,
   "metadata": {},
   "outputs": [],
   "source": [
    "labels_all.to_csv(dir_circos+\"labels_all.txt\",header=False,index=False,sep=\"\\t\")"
   ]
  },
  {
   "cell_type": "code",
   "execution_count": null,
   "metadata": {},
   "outputs": [],
   "source": [
    "hs=[]\n",
    "st=[]\n",
    "end=[]\n",
    "sy=[]\n",
    "hs1=[]\n",
    "st1=[]\n",
    "end1=[]\n",
    "sy1=[]"
   ]
  },
  {
   "cell_type": "code",
   "execution_count": null,
   "metadata": {},
   "outputs": [],
   "source": [
    "###genes\n",
    "\n",
    "sp=4\n",
    "nu=0\n",
    "i=0\n",
    "for ww in data_genes:\n",
    "    i=i+1\n",
    "    if i%2 ==0:\n",
    "        hs.append(\"hs6\")\n",
    "        st.append(nu)\n",
    "        end.append(nu+sp)\n",
    "        nu=end[-1]+1\n",
    "        sy.append(\"\".join(ww.split(\" \")))\n",
    "    else:\n",
    "        hs1.append(\"hs6\")\n",
    "        st1.append(nu)\n",
    "        end1.append(nu+sp)\n",
    "        nu=end1[-1]+1\n",
    "        sy1.append(\"\".join(ww.split(\" \")))\n",
    "        "
   ]
  },
  {
   "cell_type": "code",
   "execution_count": null,
   "metadata": {},
   "outputs": [],
   "source": [
    "labels_gene=pd.DataFrame()\n",
    "labels_gene[\"hs\"]=hs\n",
    "labels_gene[\"st\"]=st\n",
    "labels_gene[\"end\"]=end\n",
    "labels_gene[\"sy\"]=sy\n",
    "labels_gene1=pd.DataFrame()\n",
    "labels_gene1[\"hs\"]=hs1\n",
    "labels_gene1[\"st\"]=st1\n",
    "labels_gene1[\"end\"]=end1\n",
    "labels_gene1[\"sy\"]=sy1"
   ]
  },
  {
   "cell_type": "code",
   "execution_count": null,
   "metadata": {},
   "outputs": [],
   "source": [
    "labels_gene.to_csv(dir_circos+\"labels_gene.txt\",header=False,index=False,sep=\"\\t\")\n",
    "labels_gene1.to_csv(dir_circos+\"labels_gene1.txt\",header=False,index=False,sep=\"\\t\")"
   ]
  },
  {
   "cell_type": "code",
   "execution_count": null,
   "metadata": {},
   "outputs": [],
   "source": [
    "####connector ####"
   ]
  },
  {
   "cell_type": "code",
   "execution_count": null,
   "metadata": {},
   "outputs": [],
   "source": [
    "hs=[]\n",
    "st=[]\n",
    "end=[]"
   ]
  },
  {
   "cell_type": "code",
   "execution_count": null,
   "metadata": {},
   "outputs": [],
   "source": [
    "data_connector=labels[labels[\"hs\"]==\"hs6\"]"
   ]
  },
  {
   "cell_type": "code",
   "execution_count": null,
   "metadata": {},
   "outputs": [],
   "source": [
    "for ind,cols in data_connector.iterrows():\n",
    "    hs.append(cols[0])\n",
    "    st.append(int((cols[1]+cols[2])/2))\n",
    "    end.append(int((cols[1]+cols[2])/2))"
   ]
  },
  {
   "cell_type": "code",
   "execution_count": null,
   "metadata": {},
   "outputs": [],
   "source": [
    "connector=pd.DataFrame()\n",
    "\n",
    "connector[\"hs\"]=hs\n",
    "connector[\"st\"]=st\n",
    "connector[\"end\"]=end"
   ]
  },
  {
   "cell_type": "code",
   "execution_count": null,
   "metadata": {},
   "outputs": [],
   "source": [
    "connector.to_csv(dir_circos+\"connector.txt\",header=False,index=False,sep=\"\\t\")"
   ]
  },
  {
   "cell_type": "code",
   "execution_count": null,
   "metadata": {},
   "outputs": [],
   "source": [
    "hs=[]\n",
    "st=[]\n",
    "end=[]\n",
    "for ind,cols in labels_gene.iterrows():\n",
    "    hs.append(cols[0])\n",
    "    st.append(int((cols[1]+cols[2])/2))\n",
    "    end.append(int((cols[1]+cols[2])/2))\n",
    "connector1=pd.DataFrame()\n",
    "\n",
    "connector1[\"hs\"]=hs\n",
    "connector1[\"st\"]=st\n",
    "connector1[\"end\"]=end"
   ]
  },
  {
   "cell_type": "code",
   "execution_count": null,
   "metadata": {},
   "outputs": [],
   "source": [
    "connector1.to_csv(dir_circos+\"connector1.txt\",header=False,index=False,sep=\"\\t\")"
   ]
  },
  {
   "cell_type": "code",
   "execution_count": null,
   "metadata": {},
   "outputs": [],
   "source": [
    "hs=[]\n",
    "st=[]\n",
    "end=[]\n",
    "for ind,cols in labels_gene1.iterrows():\n",
    "    hs.append(cols[0])\n",
    "    st.append(int((cols[1]+cols[2])/2))\n",
    "    end.append(int((cols[1]+cols[2])/2))\n",
    "connector2=pd.DataFrame()\n",
    "\n",
    "connector2[\"hs\"]=hs\n",
    "connector2[\"st\"]=st\n",
    "connector2[\"end\"]=end"
   ]
  },
  {
   "cell_type": "code",
   "execution_count": null,
   "metadata": {},
   "outputs": [],
   "source": [
    "connector2.to_csv(dir_circos+\"connector2.txt\",header=False,index=False,sep=\"\\t\")"
   ]
  },
  {
   "cell_type": "code",
   "execution_count": null,
   "metadata": {},
   "outputs": [],
   "source": [
    "######link#####"
   ]
  },
  {
   "cell_type": "code",
   "execution_count": null,
   "metadata": {},
   "outputs": [],
   "source": [
    "g_hs_all=[]\n",
    "g_st_all=[]\n",
    "g_end_all=[]\n",
    "tar_hs=[]\n",
    "tar_st=[]\n",
    "tar_end=[]\n",
    "colors=[]"
   ]
  },
  {
   "cell_type": "code",
   "execution_count": null,
   "metadata": {},
   "outputs": [],
   "source": [
    "for gene0 in data_genes:\n",
    "    g_hs=labels_all[labels_all[\"sy\"]==gene0].iloc[0,0]\n",
    "    g_st=labels_all[labels_all[\"sy\"]==gene0].iloc[0,1]\n",
    "    g_end=labels_all[labels_all[\"sy\"]==gene0].iloc[0,2]\n",
    "\n",
    "\n",
    "    data0=data_2[data_2[\"genes\"]==gene0]\n",
    "\n",
    "    if \"BC\" in data0.index:\n",
    "        for ind,cols in data0[data0[\"cancer\"]==\"BC\"].iterrows():\n",
    "            reg0=\"\".join(cols[2].split(\" \"))\n",
    "            reg0_hs=labels_all[(labels_all[\"sy\"]==reg0)&(labels_all[\"hs\"]==\"hs1\")].iloc[0,0]\n",
    "            reg0_st=labels_all[(labels_all[\"sy\"]==reg0)&(labels_all[\"hs\"]==\"hs1\")].iloc[0,1]\n",
    "            reg0_end=labels_all[(labels_all[\"sy\"]==reg0)&(labels_all[\"hs\"]==\"hs1\")].iloc[0,2]\n",
    "            g_hs_all.append(g_hs)\n",
    "            g_st_all.append(g_st)\n",
    "            g_end_all.append(g_end)\n",
    "            tar_hs.append(reg0_hs)\n",
    "            tar_st.append(reg0_st)\n",
    "            tar_end.append(reg0_end)\n",
    "            colors.append(\"color=233,105,101\")\n",
    "\n",
    "    if \"CRC\" in data0.index:\n",
    "        for ind,cols in data0[data0[\"cancer\"]==\"CRC\"].iterrows():\n",
    "            reg0=\"\".join(cols[2].split(\" \"))\n",
    "            reg0_hs=labels_all[(labels_all[\"sy\"]==reg0)&(labels_all[\"hs\"]==\"hs2\")].iloc[0,0]\n",
    "            reg0_st=labels_all[(labels_all[\"sy\"]==reg0)&(labels_all[\"hs\"]==\"hs2\")].iloc[0,1]\n",
    "            reg0_end=labels_all[(labels_all[\"sy\"]==reg0)&(labels_all[\"hs\"]==\"hs2\")].iloc[0,2]\n",
    "            g_hs_all.append(g_hs)\n",
    "            g_st_all.append(g_st)\n",
    "            g_end_all.append(g_end)\n",
    "            tar_hs.append(reg0_hs)\n",
    "            tar_st.append(reg0_st)\n",
    "            tar_end.append(reg0_end)\n",
    "            colors.append(\"color=112,161,40\")\n",
    "\n",
    "    if \"LC\" in data0.index:\n",
    "        for ind,cols in data0[data0[\"cancer\"]==\"LC\"].iterrows():\n",
    "            reg0=\"\".join(cols[2].split(\" \"))\n",
    "            reg0_hs=labels_all[(labels_all[\"sy\"]==reg0)&(labels_all[\"hs\"]==\"hs3\")].iloc[0,0]\n",
    "            reg0_st=labels_all[(labels_all[\"sy\"]==reg0)&(labels_all[\"hs\"]==\"hs3\")].iloc[0,1]\n",
    "            reg0_end=labels_all[(labels_all[\"sy\"]==reg0)&(labels_all[\"hs\"]==\"hs3\")].iloc[0,2]\n",
    "            g_hs_all.append(g_hs)\n",
    "            g_st_all.append(g_st)\n",
    "            g_end_all.append(g_end)\n",
    "            tar_hs.append(reg0_hs)\n",
    "            tar_st.append(reg0_st)\n",
    "            tar_end.append(reg0_end)\n",
    "            colors.append(\"color=0,171,183\")\n",
    "\n",
    "    if \"OvC\" in data0.index:\n",
    "        for ind,cols in data0[data0[\"cancer\"]==\"OvC\"].iterrows():\n",
    "            reg0=\"\".join(cols[2].split(\" \"))\n",
    "            reg0_hs=labels_all[(labels_all[\"sy\"]==reg0)&(labels_all[\"hs\"]==\"hs4\")].iloc[0,0]\n",
    "            reg0_st=labels_all[(labels_all[\"sy\"]==reg0)&(labels_all[\"hs\"]==\"hs4\")].iloc[0,1]\n",
    "            reg0_end=labels_all[(labels_all[\"sy\"]==reg0)&(labels_all[\"hs\"]==\"hs4\")].iloc[0,2]\n",
    "            g_hs_all.append(g_hs)\n",
    "            g_st_all.append(g_st)\n",
    "            g_end_all.append(g_end)\n",
    "            tar_hs.append(reg0_hs)\n",
    "            tar_st.append(reg0_st)\n",
    "            tar_end.append(reg0_end)\n",
    "            colors.append(\"color=159,122,180\")"
   ]
  },
  {
   "cell_type": "code",
   "execution_count": null,
   "metadata": {},
   "outputs": [],
   "source": [
    "link_gene=pd.DataFrame()\n",
    "\n",
    "link_gene[\"g_hs\"]=g_hs_all\n",
    "link_gene[\"g_st_all\"]=g_st_all\n",
    "link_gene[\"g_end_all\"]=g_end_all\n",
    "link_gene[\"tar_hs\"]=tar_hs\n",
    "link_gene[\"tar_st\"]=tar_st\n",
    "link_gene[\"tar_end\"]=tar_end\n",
    "link_gene[\"colors\"]=colors"
   ]
  },
  {
   "cell_type": "code",
   "execution_count": null,
   "metadata": {},
   "outputs": [],
   "source": [
    "link_gene.to_csv(dir_circos+\"link_gene.txt\",header=False,index=False,sep=\"\\t\")"
   ]
  },
  {
   "cell_type": "code",
   "execution_count": null,
   "metadata": {},
   "outputs": [],
   "source": [
    "######pathway-regulons####"
   ]
  },
  {
   "cell_type": "code",
   "execution_count": null,
   "metadata": {
    "scrolled": true
   },
   "outputs": [],
   "source": [
    "data_2.head(3)"
   ]
  },
  {
   "cell_type": "code",
   "execution_count": null,
   "metadata": {},
   "outputs": [],
   "source": [
    "zd_ch_reg_cancer=OrderedDict({})"
   ]
  },
  {
   "cell_type": "code",
   "execution_count": null,
   "metadata": {},
   "outputs": [],
   "source": [
    "for ind,cols in data_2.iterrows():\n",
    "    zd_ch_reg_cancer[cols[0]+\"\\t\"+(\"\".join(cols[2].split(\" \")))+\"\\t\"+cols[3]]=cols[-1]"
   ]
  },
  {
   "cell_type": "code",
   "execution_count": null,
   "metadata": {},
   "outputs": [],
   "source": [
    "p_hs_all=[]\n",
    "p_st_all=[]\n",
    "p_end_all=[]\n",
    "reg_hs=[]\n",
    "reg_st=[]\n",
    "reg_end=[]\n",
    "colors_imm=[]"
   ]
  },
  {
   "cell_type": "code",
   "execution_count": null,
   "metadata": {},
   "outputs": [],
   "source": [
    "for k,v in zd_ch_reg_cancer.items():\n",
    "    arr=k.split(\"\\t\")\n",
    "    reg0=arr[1]\n",
    "    data_reg=labels_all[labels_all[\"sy\"]==reg0]\n",
    "    for i in range(0,data_reg.shape[0]):\n",
    "        g_hs=labels_all[labels_all[\"sy\"]==arr[1]].iloc[i,0]\n",
    "        g_st=labels_all[labels_all[\"sy\"]==arr[1]].iloc[i,1]\n",
    "        g_end=labels_all[labels_all[\"sy\"]==arr[1]].iloc[i,2]\n",
    "        reg0_hs=labels_all[labels_all[\"sy\"]==arr[-1]].iloc[0,0]\n",
    "        reg0_st=labels_all[labels_all[\"sy\"]==arr[-1]].iloc[0,1]\n",
    "        reg0_end=labels_all[labels_all[\"sy\"]==arr[-1]].iloc[0,2]\n",
    "        p_hs_all.append(g_hs)\n",
    "        p_st_all.append(g_st)\n",
    "        p_end_all.append(g_end)\n",
    "        reg_hs.append(reg0_hs)\n",
    "        reg_st.append(reg0_st)\n",
    "        reg_end.append(reg0_end)\n",
    "\n",
    "        if data_reg[\"hs\"].tolist()[i]==\"hs1\":\n",
    "            colors_imm.append(\"color=233,105,101\")\n",
    "        elif data_reg[\"hs\"].tolist()[i]==\"hs2\":\n",
    "            colors_imm.append(\"color=112,161,40\")\n",
    "        elif data_reg[\"hs\"].tolist()[i]==\"hs3\":\n",
    "            colors_imm.append(\"color=0,171,183\")\n",
    "        elif data_reg[\"hs\"].tolist()[i]==\"hs4\":\n",
    "            colors_imm.append(\"color=159,122,180\")\n"
   ]
  },
  {
   "cell_type": "code",
   "execution_count": null,
   "metadata": {},
   "outputs": [],
   "source": [
    "link_p_g=pd.DataFrame()\n",
    "\n",
    "link_p_g[\"g_hs\"]=p_hs_all\n",
    "link_p_g[\"g_st_all\"]=p_st_all\n",
    "link_p_g[\"g_end_all\"]=p_end_all\n",
    "link_p_g[\"tar_hs\"]=reg_hs\n",
    "link_p_g[\"tar_st\"]=reg_st\n",
    "link_p_g[\"tar_end\"]=reg_end\n",
    "link_p_g[\"colors\"]=colors_imm"
   ]
  },
  {
   "cell_type": "code",
   "execution_count": null,
   "metadata": {},
   "outputs": [],
   "source": [
    "link_p_g.to_csv(dir_circos+\"link_p_r.txt\",header=False,index=False,sep=\"\\t\")"
   ]
  },
  {
   "cell_type": "code",
   "execution_count": null,
   "metadata": {},
   "outputs": [],
   "source": [
    "#####pathway-gene#####"
   ]
  },
  {
   "cell_type": "code",
   "execution_count": null,
   "metadata": {},
   "outputs": [],
   "source": [
    "p_hs_all=[]\n",
    "p_st_all=[]\n",
    "p_end_all=[]\n",
    "reg_hs=[]\n",
    "reg_st=[]\n",
    "reg_end=[]\n",
    "colors_imm=[]"
   ]
  },
  {
   "cell_type": "code",
   "execution_count": null,
   "metadata": {},
   "outputs": [],
   "source": [
    "data_2.head(3)"
   ]
  },
  {
   "cell_type": "code",
   "execution_count": null,
   "metadata": {},
   "outputs": [],
   "source": [
    "for ind,cols in data_2.iterrows():\n",
    "   \n",
    "    g_hs=labels_all[labels_all[\"sy\"]==cols[-1]].iloc[0,0]\n",
    "    g_st=labels_all[labels_all[\"sy\"]==cols[-1]].iloc[0,1]\n",
    "    g_end=labels_all[labels_all[\"sy\"]==cols[-1]].iloc[0,2]\n",
    "    reg0_hs=labels_all[labels_all[\"sy\"]==cols[-2]].iloc[0,0]\n",
    "    reg0_st=labels_all[labels_all[\"sy\"]==cols[-2]].iloc[0,1]\n",
    "    reg0_end=labels_all[labels_all[\"sy\"]==cols[-2]].iloc[0,2]\n",
    "    p_hs_all.append(g_hs)\n",
    "    p_st_all.append(g_st)\n",
    "    p_end_all.append(g_end)\n",
    "    reg_hs.append(reg0_hs)\n",
    "    reg_st.append(reg0_st)\n",
    "    reg_end.append(reg0_end)\n",
    "    if cols[0]==\"BC\":\n",
    "        colors_imm.append(\"color=233,105,101\")\n",
    "    elif cols[0]==\"CRC\":\n",
    "        colors_imm.append(\"color=112,161,40\")\n",
    "    elif cols[0]==\"LC\":\n",
    "        colors_imm.append(\"color=0,171,183\")\n",
    "    elif cols[0]==\"OvC\":\n",
    "        colors_imm.append(\"color=159,122,180\")"
   ]
  },
  {
   "cell_type": "code",
   "execution_count": null,
   "metadata": {},
   "outputs": [],
   "source": [
    "link_imm_gene=pd.DataFrame()\n",
    "\n",
    "link_imm_gene[\"g_hs\"]=p_hs_all\n",
    "link_imm_gene[\"g_st_all\"]=p_st_all\n",
    "link_imm_gene[\"g_end_all\"]=p_end_all\n",
    "link_imm_gene[\"tar_hs\"]=reg_hs\n",
    "link_imm_gene[\"tar_st\"]=reg_st\n",
    "link_imm_gene[\"tar_end\"]=reg_end\n",
    "link_imm_gene[\"colors\"]=colors_imm"
   ]
  },
  {
   "cell_type": "code",
   "execution_count": null,
   "metadata": {},
   "outputs": [],
   "source": [
    "link_imm_gene.to_csv(dir_circos+\"link_p_g.txt\",header=False,index=False,sep=\"\\t\")"
   ]
  },
  {
   "cell_type": "code",
   "execution_count": null,
   "metadata": {},
   "outputs": [],
   "source": [
    "####### labels_4_cancer######"
   ]
  },
  {
   "cell_type": "code",
   "execution_count": 495,
   "metadata": {},
   "outputs": [],
   "source": [
    "labels_4_cancer=pd.read_csv(dir_circos+\"labels_4_cancer.txt\",header=None,sep=\"\\t\")"
   ]
  },
  {
   "cell_type": "code",
   "execution_count": 500,
   "metadata": {},
   "outputs": [],
   "source": [
    "hs=[]\n",
    "st=[]\n",
    "end=[]\n",
    "sy=[]\n",
    "color=[]\n",
    "hs1=[]\n",
    "st1=[]\n",
    "end1=[]\n",
    "sy1=[]\n",
    "color1=[]"
   ]
  },
  {
   "cell_type": "code",
   "execution_count": 501,
   "metadata": {},
   "outputs": [],
   "source": [
    "i=0\n",
    "for ind,cols in labels_4_cancer.iterrows():\n",
    "    i=i+1\n",
    "    if i%2 ==0:\n",
    "        hs.append(cols[0])\n",
    "        st.append(cols[1])\n",
    "        end.append(cols[2])\n",
    "        sy.append(cols[3].split(\"(\")[0])\n",
    "        color.append(cols[4])\n",
    "    else:\n",
    "        hs1.append(cols[0])\n",
    "        st1.append(cols[1])\n",
    "        end1.append(cols[2])\n",
    "        sy1.append(cols[3].split(\"(\")[0])\n",
    "        color1.append(cols[4])\n",
    "        "
   ]
  },
  {
   "cell_type": "code",
   "execution_count": 502,
   "metadata": {},
   "outputs": [],
   "source": [
    "labels_gene=pd.DataFrame()\n",
    "labels_gene[\"hs\"]=hs\n",
    "labels_gene[\"st\"]=st\n",
    "labels_gene[\"end\"]=end\n",
    "labels_gene[\"sy\"]=sy\n",
    "labels_gene[\"color\"]=color\n",
    "labels_gene1=pd.DataFrame()\n",
    "labels_gene1[\"hs\"]=hs1\n",
    "labels_gene1[\"st\"]=st1\n",
    "labels_gene1[\"end\"]=end1\n",
    "labels_gene1[\"sy\"]=sy1\n",
    "labels_gene1[\"color\"]=color1"
   ]
  },
  {
   "cell_type": "code",
   "execution_count": 503,
   "metadata": {},
   "outputs": [],
   "source": [
    "labels_gene.to_csv(dir_circos+\"labels_4_cancer1_new.txt\",header=False,index=False,sep=\"\\t\")\n",
    "labels_gene1.to_csv(dir_circos+\"labels_4_cancer2_new.txt\",header=False,index=False,sep=\"\\t\")"
   ]
  },
  {
   "cell_type": "code",
   "execution_count": null,
   "metadata": {},
   "outputs": [],
   "source": [
    "zd_ch_reg_cancer[\"OvC\"]"
   ]
  },
  {
   "cell_type": "code",
   "execution_count": null,
   "metadata": {},
   "outputs": [],
   "source": [
    "labels_gene.head(3)"
   ]
  },
  {
   "cell_type": "code",
   "execution_count": null,
   "metadata": {},
   "outputs": [],
   "source": [
    "####connector1#####"
   ]
  },
  {
   "cell_type": "code",
   "execution_count": null,
   "metadata": {},
   "outputs": [],
   "source": [
    "hs=[]\n",
    "st=[]\n",
    "end=[]\n",
    "color=[]\n",
    "for ind,cols in labels_gene.iterrows():\n",
    "    hs.append(cols[0])\n",
    "    st.append(int((cols[1]+cols[2])/2))\n",
    "    end.append(int((cols[1]+cols[2])/2))\n",
    "    if cols[0]==\"hs1\":\n",
    "        color.append(\"color=233,105,101\")\n",
    "    elif cols[0]==\"hs2\":\n",
    "        color.append(\"color=112,161,40\")\n",
    "    elif cols[0]==\"hs3\":\n",
    "        color.append(\"color=0,171,183\")\n",
    "    elif cols[0]==\"hs4\":\n",
    "        color.append(\"color=159,122,180\")\n",
    "connector3=pd.DataFrame()\n",
    "\n",
    "connector3[\"hs\"]=hs\n",
    "connector3[\"st\"]=st\n",
    "connector3[\"end\"]=end\n",
    "connector3[\"color\"]=color"
   ]
  },
  {
   "cell_type": "code",
   "execution_count": null,
   "metadata": {},
   "outputs": [],
   "source": [
    "connector3.to_csv(dir_circos+\"connector_4_cancer1.txt\",header=False,index=False,sep=\"\\t\")"
   ]
  },
  {
   "cell_type": "code",
   "execution_count": null,
   "metadata": {},
   "outputs": [],
   "source": [
    "hs=[]\n",
    "st=[]\n",
    "end=[]\n",
    "color=[]\n",
    "for ind,cols in labels_gene1.iterrows():\n",
    "    hs.append(cols[0])\n",
    "    st.append(int((cols[1]+cols[2])/2))\n",
    "    end.append(int((cols[1]+cols[2])/2))\n",
    "    if cols[0]==\"hs1\":\n",
    "        color.append(\"color=233,105,101\")\n",
    "    elif cols[0]==\"hs2\":\n",
    "        color.append(\"color=112,161,40\")\n",
    "    elif cols[0]==\"hs3\":\n",
    "        color.append(\"color=0,171,183\")\n",
    "    elif cols[0]==\"hs4\":\n",
    "        color.append(\"color=159,122,180\")\n",
    "connector4=pd.DataFrame()\n",
    "\n",
    "connector4[\"hs\"]=hs\n",
    "connector4[\"st\"]=st\n",
    "connector4[\"end\"]=end\n",
    "connector4[\"color\"]=color"
   ]
  },
  {
   "cell_type": "code",
   "execution_count": null,
   "metadata": {},
   "outputs": [],
   "source": [
    "connector4.to_csv(dir_circos+\"connector_4_cancer2.txt\",header=False,index=False,sep=\"\\t\")"
   ]
  },
  {
   "cell_type": "code",
   "execution_count": null,
   "metadata": {},
   "outputs": [],
   "source": [
    "labels_all.to_csv(dir_circos+\"labels_all.txt\",header=False,index=False,sep=\"\\t\")"
   ]
  },
  {
   "cell_type": "code",
   "execution_count": 445,
   "metadata": {},
   "outputs": [
    {
     "data": {
      "text/html": [
       "<div>\n",
       "<style scoped>\n",
       "    .dataframe tbody tr th:only-of-type {\n",
       "        vertical-align: middle;\n",
       "    }\n",
       "\n",
       "    .dataframe tbody tr th {\n",
       "        vertical-align: top;\n",
       "    }\n",
       "\n",
       "    .dataframe thead th {\n",
       "        text-align: right;\n",
       "    }\n",
       "</style>\n",
       "<table border=\"1\" class=\"dataframe\">\n",
       "  <thead>\n",
       "    <tr style=\"text-align: right;\">\n",
       "      <th></th>\n",
       "      <th>cancer</th>\n",
       "      <th>celltype</th>\n",
       "      <th>regulons</th>\n",
       "      <th>cancer_hallmark</th>\n",
       "      <th>genes</th>\n",
       "    </tr>\n",
       "  </thead>\n",
       "  <tbody>\n",
       "    <tr>\n",
       "      <th>BC</th>\n",
       "      <td>BC</td>\n",
       "      <td>Fibroblast</td>\n",
       "      <td>ELAVL1 (3151g)</td>\n",
       "      <td>HALLMARK_MITOTIC_SPINDLE</td>\n",
       "      <td>KIF5B</td>\n",
       "    </tr>\n",
       "    <tr>\n",
       "      <th>BC</th>\n",
       "      <td>BC</td>\n",
       "      <td>Fibroblast</td>\n",
       "      <td>ELAVL1 (3151g)</td>\n",
       "      <td>HALLMARK_MITOTIC_SPINDLE</td>\n",
       "      <td>SMC1A</td>\n",
       "    </tr>\n",
       "    <tr>\n",
       "      <th>BC</th>\n",
       "      <td>BC</td>\n",
       "      <td>Fibroblast</td>\n",
       "      <td>ELAVL1 (3151g)</td>\n",
       "      <td>HALLMARK_MITOTIC_SPINDLE</td>\n",
       "      <td>RASA2</td>\n",
       "    </tr>\n",
       "  </tbody>\n",
       "</table>\n",
       "</div>"
      ],
      "text/plain": [
       "   cancer    celltype        regulons           cancer_hallmark  genes\n",
       "BC     BC  Fibroblast  ELAVL1 (3151g)  HALLMARK_MITOTIC_SPINDLE  KIF5B\n",
       "BC     BC  Fibroblast  ELAVL1 (3151g)  HALLMARK_MITOTIC_SPINDLE  SMC1A\n",
       "BC     BC  Fibroblast  ELAVL1 (3151g)  HALLMARK_MITOTIC_SPINDLE  RASA2"
      ]
     },
     "execution_count": 445,
     "metadata": {},
     "output_type": "execute_result"
    }
   ],
   "source": [
    "data_2.head(3)"
   ]
  },
  {
   "cell_type": "code",
   "execution_count": 446,
   "metadata": {},
   "outputs": [
    {
     "data": {
      "text/plain": [
       "{'Alveolar',\n",
       " 'B',\n",
       " 'Cancer',\n",
       " 'DC',\n",
       " 'EC',\n",
       " 'Epithelial',\n",
       " 'Fibroblast',\n",
       " 'Mast',\n",
       " 'Myeloid',\n",
       " 'T'}"
      ]
     },
     "execution_count": 446,
     "metadata": {},
     "output_type": "execute_result"
    }
   ],
   "source": []
  },
  {
   "cell_type": "code",
   "execution_count": null,
   "metadata": {},
   "outputs": [],
   "source": []
  }
 ],
 "metadata": {
  "kernelspec": {
   "display_name": "py37",
   "language": "python",
   "name": "py37"
  },
  "language_info": {
   "codemirror_mode": {
    "name": "ipython",
    "version": 3
   },
   "file_extension": ".py",
   "mimetype": "text/x-python",
   "name": "python",
   "nbconvert_exporter": "python",
   "pygments_lexer": "ipython3",
   "version": "3.7.11"
  }
 },
 "nbformat": 4,
 "nbformat_minor": 2
}
