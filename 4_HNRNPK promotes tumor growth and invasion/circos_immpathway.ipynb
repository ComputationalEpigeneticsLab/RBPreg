{
 "cells": [
  {
   "cell_type": "code",
   "execution_count": null,
   "metadata": {},
   "outputs": [],
   "source": [
    "import matplotlib.pyplot as plt\n",
    "import numpy as np ,pandas as pd\n",
    "from collections import OrderedDict,Counter\n",
    "import os\n",
    "import statsmodels.stats.multitest as multi\n",
    "import scipy.stats as stats\n",
    "from collections import Counter\n",
    "from IPython.core.interactiveshell import InteractiveShell\n",
    "InteractiveShell.ast_node_interactivity=\"all\"\n",
    "import math"
   ]
  },
  {
   "cell_type": "code",
   "execution_count": null,
   "metadata": {},
   "outputs": [],
   "source": [
    "dir=\"E:\\\\project\\\\singcells\\\\3_function_analyse\\\\\"\n",
    "dir1=\"E:\\\\project\\\\singcells\\\\SCENIC\\\\jt_4cancer_scenic_result\\\\\"\n",
    "dir2=\"D:\\\\Circos\\\\circos\\\\circos-0.68-1\\\\circos-tutorials-0.67\\\\tutorials\\\\zww\\\\SCENIC\\\\base\\\\\""
   ]
  },
  {
   "cell_type": "code",
   "execution_count": null,
   "metadata": {},
   "outputs": [],
   "source": [
    "df_p=pd.read_csv(dir+\"hypergeom_p0.05.txt\",header=0,index_col=None,sep=\"\\t\")"
   ]
  },
  {
   "cell_type": "code",
   "execution_count": null,
   "metadata": {},
   "outputs": [],
   "source": [
    "len(set(df_p[\"imm_pathway\"]))"
   ]
  },
  {
   "cell_type": "code",
   "execution_count": null,
   "metadata": {},
   "outputs": [],
   "source": [
    "ca_n=[]\n",
    "cell_n=[]\n",
    "reg_n=[]\n",
    "reg_n1=[]\n",
    "for ww in df_p[\"cancer_celltype_regulon\"].tolist():\n",
    "    arr=ww.split(\"_\")\n",
    "    ca_n.append(arr[0])\n",
    "    cell_n.append(arr[1])\n",
    "    reg_n.append(arr[-1])\n",
    "    reg_n1.append(arr[-1].split(\" \")[0])\n",
    "\n",
    "df_p[\"cancer_name\"]=ca_n\n",
    "df_p[\"celltype\"]=cell_n\n",
    "df_p[\"regulon\"]=reg_n\n",
    "df_p[\"regulon_name\"]=reg_n1"
   ]
  },
  {
   "cell_type": "code",
   "execution_count": null,
   "metadata": {},
   "outputs": [],
   "source": [
    "vc1=Counter(ca_n)\n",
    "vc1"
   ]
  },
  {
   "cell_type": "code",
   "execution_count": null,
   "metadata": {},
   "outputs": [],
   "source": [
    "df_bc=df_p[df_p[\"cancer_name\"]==\"BC\"]"
   ]
  },
  {
   "cell_type": "code",
   "execution_count": null,
   "metadata": {},
   "outputs": [],
   "source": [
    "c_c_r_u=list(set(df_bc[\"cancer_celltype_regulon\"].tolist()))\n",
    "bc_labels=pd.DataFrame()\n",
    "\n",
    "hs=[\"hs1\"]*9\n",
    "st=[]\n",
    "end=[]\n",
    "name=[]\n",
    "\n",
    "sp=20\n",
    "st0=5\n",
    "for ww in c_c_r_u:\n",
    "    name.append(\"_\".join(ww.split(\"_\")[1:]).replace(\" \",\"\"))\n",
    "    st.append(st0)\n",
    "    end0=st0+20\n",
    "    end.append(end0)\n",
    "    st0=end0+5\n",
    "bc_labels[\"hs\"]=hs\n",
    "bc_labels[\"start\"]=st\n",
    "bc_labels[\"end\"]=end\n",
    "bc_labels[\"name\"]=name"
   ]
  },
  {
   "cell_type": "code",
   "execution_count": null,
   "metadata": {},
   "outputs": [],
   "source": [
    "df_crc=df_p[df_p[\"cancer_name\"]==\"CRC\"]\n",
    "df_crc.shape\n",
    "len(set(df_crc[\"cancer_celltype_regulon\"].tolist()))"
   ]
  },
  {
   "cell_type": "code",
   "execution_count": null,
   "metadata": {},
   "outputs": [],
   "source": [
    "c_c_r_u=list(set(df_crc[\"cancer_celltype_regulon\"].tolist()))\n",
    "crc_labels=pd.DataFrame()\n",
    "\n",
    "hs=[\"hs2\"]*len(c_c_r_u)\n",
    "st=[]\n",
    "end=[]\n",
    "name=[]\n",
    "\n",
    "sp=20\n",
    "st0=5\n",
    "for ww in c_c_r_u:\n",
    "    name.append(\"_\".join(ww.split(\"_\")[1:]).replace(\" \",\"\"))\n",
    "    st.append(st0)\n",
    "    end0=st0+20\n",
    "    end.append(end0)\n",
    "    st0=end0+5\n",
    "crc_labels[\"hs\"]=hs\n",
    "crc_labels[\"start\"]=st\n",
    "crc_labels[\"end\"]=end\n",
    "crc_labels[\"name\"]=name"
   ]
  },
  {
   "cell_type": "code",
   "execution_count": null,
   "metadata": {},
   "outputs": [],
   "source": [
    "df_lc=df_p[df_p[\"cancer_name\"]==\"LC\"]\n",
    "df_lc.shape\n",
    "len(set(df_lc[\"cancer_celltype_regulon\"].tolist()))"
   ]
  },
  {
   "cell_type": "code",
   "execution_count": null,
   "metadata": {},
   "outputs": [],
   "source": [
    "c_c_r_u=list(set(df_lc[\"cancer_celltype_regulon\"].tolist()))\n",
    "lc_labels=pd.DataFrame()\n",
    "\n",
    "hs=[\"hs3\"]*len(c_c_r_u)\n",
    "st=[]\n",
    "end=[]\n",
    "name=[]\n",
    "\n",
    "sp=20\n",
    "st0=5\n",
    "for ww in c_c_r_u:\n",
    "    name.append(\"_\".join(ww.split(\"_\")[1:]).replace(\" \",\"\"))\n",
    "    st.append(st0)\n",
    "    end0=st0+20\n",
    "    end.append(end0)\n",
    "    st0=end0+5\n",
    "lc_labels[\"hs\"]=hs\n",
    "lc_labels[\"start\"]=st\n",
    "lc_labels[\"end\"]=end\n",
    "lc_labels[\"name\"]=name"
   ]
  },
  {
   "cell_type": "code",
   "execution_count": null,
   "metadata": {},
   "outputs": [],
   "source": [
    "df_ovc=df_p[df_p[\"cancer_name\"]==\"OvC\"]\n",
    "df_ovc.shape\n",
    "len(set(df_ovc[\"cancer_celltype_regulon\"].tolist()))"
   ]
  },
  {
   "cell_type": "code",
   "execution_count": null,
   "metadata": {},
   "outputs": [],
   "source": [
    "c_c_r_u=list(set(df_ovc[\"cancer_celltype_regulon\"].tolist()))\n",
    "ovc_labels=pd.DataFrame()\n",
    "\n",
    "hs=[\"hs4\"]*len(c_c_r_u)\n",
    "st=[]\n",
    "end=[]\n",
    "name=[]\n",
    "\n",
    "sp=20\n",
    "st0=5\n",
    "for ww in c_c_r_u:\n",
    "    name.append(\"_\".join(ww.split(\"_\")[1:]).replace(\" \",\"\"))\n",
    "    st.append(st0)\n",
    "    end0=st0+20\n",
    "    end.append(end0)\n",
    "    st0=end0+5\n",
    "ovc_labels[\"hs\"]=hs\n",
    "ovc_labels[\"start\"]=st\n",
    "ovc_labels[\"end\"]=end\n",
    "ovc_labels[\"name\"]=name"
   ]
  },
  {
   "cell_type": "code",
   "execution_count": null,
   "metadata": {
    "scrolled": true
   },
   "outputs": [],
   "source": [
    "p_n=list(set(df_p[\"imm_pathway\"].tolist()))\n",
    "p_n"
   ]
  },
  {
   "cell_type": "code",
   "execution_count": null,
   "metadata": {},
   "outputs": [],
   "source": [
    "p_n.sort(reverse=False)\n",
    "p_n"
   ]
  },
  {
   "cell_type": "code",
   "execution_count": null,
   "metadata": {},
   "outputs": [],
   "source": [
    "pathway_labels=pd.DataFrame()\n",
    "\n",
    "hs=[\"hs5\"]*len(p_n)\n",
    "st=[]\n",
    "end=[]\n",
    "name=[]\n",
    "\n",
    "sp=100\n",
    "st0=10\n",
    "for ww in p_n:\n",
    "    name.append(ww)\n",
    "    st.append(st0)\n",
    "    end0=st0+100\n",
    "    end.append(end0)\n",
    "    st0=end0+10\n",
    "pathway_labels[\"hs\"]=hs\n",
    "pathway_labels[\"start\"]=st\n",
    "pathway_labels[\"end\"]=end\n",
    "pathway_labels[\"name\"]=name"
   ]
  },
  {
   "cell_type": "code",
   "execution_count": null,
   "metadata": {},
   "outputs": [],
   "source": [
    "pathway_labels"
   ]
  },
  {
   "cell_type": "code",
   "execution_count": null,
   "metadata": {},
   "outputs": [],
   "source": [
    "circos_labels=bc_labels.append(crc_labels).append(lc_labels).append(ovc_labels).append(pathway_labels)\n",
    "circos_labels.shape"
   ]
  },
  {
   "cell_type": "code",
   "execution_count": null,
   "metadata": {},
   "outputs": [],
   "source": [
    "circos_labels.to_csv(dir2+\"labels.txt\",header=False,index=False,sep=\"\\t\")"
   ]
  },
  {
   "cell_type": "code",
   "execution_count": null,
   "metadata": {},
   "outputs": [],
   "source": [
    "l_name_order=circos_labels[\"name\"].tolist()[:-8]\n",
    "l_name_order.reverse()"
   ]
  },
  {
   "cell_type": "code",
   "execution_count": null,
   "metadata": {},
   "outputs": [],
   "source": [
    "vc=Counter(df_p[\"imm_pathway\"].tolist())"
   ]
  },
  {
   "cell_type": "code",
   "execution_count": null,
   "metadata": {},
   "outputs": [],
   "source": [
    "vc"
   ]
  },
  {
   "cell_type": "code",
   "execution_count": null,
   "metadata": {
    "scrolled": true
   },
   "outputs": [],
   "source": [
    "df_p.head(3)"
   ]
  },
  {
   "cell_type": "code",
   "execution_count": null,
   "metadata": {},
   "outputs": [],
   "source": [
    "p_n.reverse()"
   ]
  },
  {
   "cell_type": "code",
   "execution_count": null,
   "metadata": {},
   "outputs": [],
   "source": [
    "#p_n0=p_n[0]\n",
    "chr_p_l=[]\n",
    "st_p_l=[]\n",
    "end_p_l=[]\n",
    "chr_r_l=[]\n",
    "st_r_l=[]\n",
    "end_r_l=[]\n",
    "colors_l=[]\n",
    "for p_n0 in p_n:\n",
    "\n",
    "    df_r0=df_p[df_p[\"imm_pathway\"]==p_n0]\n",
    "    df_r0_c_cr=[]\n",
    "    for ww in df_r0[\"cancer_celltype_regulon\"].tolist():    \n",
    "        df_r0_c_cr.append(\"_\".join(ww.split(\"_\")[1:]).replace(\" \",\"\"))\n",
    "\n",
    "    df_r0.index=df_r0_c_cr\n",
    "\n",
    "    order_n=[]\n",
    "    for ww in l_name_order:\n",
    "        if ww in df_r0_c_cr:\n",
    "            order_n.append(ww)\n",
    "\n",
    "    df_r0=df_r0.loc[order_n]\n",
    "\n",
    "\n",
    "\n",
    "\n",
    "    chrp=circos_labels[circos_labels[\"name\"]==p_n0].iloc[0,0]\n",
    "    st_p=circos_labels[circos_labels[\"name\"]==p_n0].iloc[0,1]\n",
    "    end_p=circos_labels[circos_labels[\"name\"]==p_n0].iloc[0,2]\n",
    "\n",
    "    link_nu0=vc[p_n0]\n",
    "\n",
    "    if link_nu0==1:\n",
    "        chr_p_l.append(chrp)\n",
    "        st_p_l.append(st_p+47)\n",
    "        end_p_l.append(end_p-48)\n",
    "        nn=\"_\".join((df_p[df_p[\"imm_pathway\"]==p_n0].iloc[0,0]).split(\"_\")[1:]).replace(\" \",\"\")\n",
    "        chr_r_l.append(circos_labels[circos_labels[\"name\"]==nn].iloc[0,0])\n",
    "        st_r_l.append(circos_labels[circos_labels[\"name\"]==nn].iloc[0,1])\n",
    "        end_r_l.append(circos_labels[circos_labels[\"name\"]==nn].iloc[0,2])\n",
    "        colors_l.append(\"color=\"+color_zd[nn.split(\"_\")[0]])\n",
    "    else:   \n",
    "\n",
    "        wid=5\n",
    "        st_p=int((100-link_nu0*5)/2)+st_p\n",
    "\n",
    "        for ind,cols in df_r0.iterrows():\n",
    "            chr_p_l.append(chrp)\n",
    "            st_p_l.append(st_p)\n",
    "            st_p=st_p+wid\n",
    "            end_p_l.append(st_p)\n",
    "            nn=\"_\".join(cols[0].split(\"_\")[1:]).replace(\" \",\"\")\n",
    "\n",
    "            chr_r_l.append(circos_labels[circos_labels[\"name\"]==nn].iloc[0,0])\n",
    "            st_r_l.append(circos_labels[circos_labels[\"name\"]==nn].iloc[0,1])\n",
    "            end_r_l.append(circos_labels[circos_labels[\"name\"]==nn].iloc[0,2])\n",
    "            colors_l.append(\"color=\"+color_zd[nn.split(\"_\")[0]])\n",
    "\n",
    "\n",
    "link_data=pd.DataFrame()\n",
    "link_data[\"p_hs\"]=chr_p_l\n",
    "link_data[\"p_s\"]=st_p_l\n",
    "link_data[\"p_e\"]=end_p_l\n",
    "link_data[\"r_hs\"]=chr_r_l\n",
    "link_data[\"r_s\"]=st_r_l\n",
    "link_data[\"r_e\"]=end_r_l\n",
    "link_data[\"color\"]=colors_l\n"
   ]
  },
  {
   "cell_type": "code",
   "execution_count": null,
   "metadata": {},
   "outputs": [],
   "source": [
    "link_data.to_csv(dir2+\"link_immpathway1.txt\",header=False,index=False,sep=\"\\t\")"
   ]
  },
  {
   "cell_type": "code",
   "execution_count": null,
   "metadata": {},
   "outputs": [],
   "source": [
    "color_df=pd.read_csv(\"E:\\\\project\\\\singcells\\\\2_A\\\\celltype_color.txt\",header=0,index_col=None,sep=\"\\t\")\n",
    "\n",
    "color_zd=OrderedDict({})\n",
    "for ind,cols in color_df.iterrows():\n",
    "    if len(cols[0].split(\"_\"))>1:\n",
    "        color_zd[cols[0].split(\"_\")[0]]=cols[-1]\n",
    "    else:\n",
    "        color_zd[cols[0]]=cols[-1]\n",
    "        \n",
    "        "
   ]
  },
  {
   "cell_type": "code",
   "execution_count": null,
   "metadata": {},
   "outputs": [],
   "source": []
  },
  {
   "cell_type": "code",
   "execution_count": null,
   "metadata": {},
   "outputs": [],
   "source": []
  },
  {
   "cell_type": "code",
   "execution_count": null,
   "metadata": {},
   "outputs": [],
   "source": []
  }
 ],
 "metadata": {
  "kernelspec": {
   "display_name": "py37",
   "language": "python",
   "name": "py37"
  },
  "language_info": {
   "codemirror_mode": {
    "name": "ipython",
    "version": 3
   },
   "file_extension": ".py",
   "mimetype": "text/x-python",
   "name": "python",
   "nbconvert_exporter": "python",
   "pygments_lexer": "ipython3",
   "version": "3.7.11"
  }
 },
 "nbformat": 4,
 "nbformat_minor": 2
}
