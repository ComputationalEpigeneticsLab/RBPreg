{
 "cells": [
  {
   "cell_type": "code",
   "execution_count": 53,
   "metadata": {},
   "outputs": [],
   "source": [
    "import matplotlib.pyplot as plt\n",
    "import numpy as np ,pandas as pd\n",
    "from collections import OrderedDict,Counter\n",
    "import os\n",
    "import statsmodels.stats.multitest as multi\n",
    "import scipy.stats as stats\n",
    "from collections import Counter\n",
    "from IPython.core.interactiveshell import InteractiveShell\n",
    "InteractiveShell.ast_node_interactivity=\"all\"\n",
    "import math"
   ]
  },
  {
   "cell_type": "code",
   "execution_count": 54,
   "metadata": {},
   "outputs": [],
   "source": [
    "dir=\"E:\\\\project\\\\singcells\\\\3_function_analyse\\\\\"\n",
    "dir1=\"E:\\\\project\\\\singcells\\\\SCENIC\\\\jt_4cancer_scenic_result\\\\\"\n",
    "dir2=\"E:\\\\project\\\\genecode\\\\35\\\\\""
   ]
  },
  {
   "cell_type": "code",
   "execution_count": 55,
   "metadata": {},
   "outputs": [],
   "source": [
    "tar=pd.read_csv(dir1+\"4_cancer_reglons_targetgene.txt\",header=0,index_col=0,sep=\"\\t\")"
   ]
  },
  {
   "cell_type": "code",
   "execution_count": 56,
   "metadata": {},
   "outputs": [],
   "source": [
    "c_r=[]\n",
    "im_p=[]\n",
    "p_v=[]\n",
    "inter_gene=[]"
   ]
  },
  {
   "cell_type": "code",
   "execution_count": 58,
   "metadata": {},
   "outputs": [],
   "source": [
    "all_n=19954"
   ]
  },
  {
   "cell_type": "code",
   "execution_count": 59,
   "metadata": {},
   "outputs": [],
   "source": [
    "for ind,cols in tar.iterrows():\n",
    "    reg_ta_gene=cols[2].split(\",\")\n",
    "    r=open(dir+\"Immune.gmt\")\n",
    "\n",
    "    line=r.readline()\n",
    "    while line:\n",
    "        arr=line.strip().split(\"\\t\")\n",
    "        c_r.append(ind+\"_\"+cols[0]+\"_\"+cols[1])\n",
    "        im_p.append(arr[1])\n",
    "        p_g=arr[2:]\n",
    "\n",
    "        inter=list(set(p_g).intersection(set(reg_ta_gene)))\n",
    "\n",
    "        if len(inter) >=3:\n",
    "            p=stats.hypergeom.sf(len(inter)-1,all_n,len(p_g),len(reg_ta_gene))\n",
    "            p_v.append(p)\n",
    "            inter_gene.append(\",\".join(inter))\n",
    "        else:\n",
    "            p_v.append(\"-\")\n",
    "            inter_gene.append(\"-\")\n",
    "        line=r.readline()\n",
    "    r.close()"
   ]
  },
  {
   "cell_type": "code",
   "execution_count": 60,
   "metadata": {},
   "outputs": [],
   "source": [
    "hypergeom_re=pd.DataFrame()\n",
    "\n",
    "hypergeom_re[\"cancer_celltype_regulon\"]=c_r\n",
    "hypergeom_re[\"imm_pathway\"]=im_p\n",
    "hypergeom_re[\"p_value\"]=p_v\n",
    "hypergeom_re[\"inter_gene\"]=inter_gene"
   ]
  },
  {
   "cell_type": "code",
   "execution_count": 62,
   "metadata": {},
   "outputs": [],
   "source": [
    "hypergeom_re.to_csv(dir+\"hypergeom_re.txt\",header=True,index=False,sep=\"\\t\")"
   ]
  },
  {
   "cell_type": "code",
   "execution_count": 63,
   "metadata": {},
   "outputs": [
    {
     "data": {
      "text/plain": [
       "(872, 4)"
      ]
     },
     "execution_count": 63,
     "metadata": {},
     "output_type": "execute_result"
    }
   ],
   "source": [
    "data_on=hypergeom_re[hypergeom_re[\"p_value\"]!=\"-\"]\n",
    "data_on.shape"
   ]
  },
  {
   "cell_type": "code",
   "execution_count": 64,
   "metadata": {},
   "outputs": [],
   "source": [
    "data_on[data_on[\"p_value\"]<0.05].to_csv(dir+\"hypergeom_p005_inter_gene.txt\",header=True,index=False,sep=\"\\t\")"
   ]
  },
  {
   "cell_type": "code",
   "execution_count": 65,
   "metadata": {},
   "outputs": [],
   "source": [
    "df_p=data_on[data_on[\"p_value\"]<0.05]"
   ]
  },
  {
   "cell_type": "code",
   "execution_count": 78,
   "metadata": {},
   "outputs": [],
   "source": [
    "num_i_t=[]\n",
    "for ww in df_p[\"inter_gene\"].tolist():\n",
    "    \n",
    "    num_i_t.append(len(ww.split(\",\")))"
   ]
  },
  {
   "cell_type": "code",
   "execution_count": 81,
   "metadata": {},
   "outputs": [
    {
     "name": "stderr",
     "output_type": "stream",
     "text": [
      "C:\\Users\\zww\\Anaconda3\\lib\\site-packages\\ipykernel_launcher.py:1: SettingWithCopyWarning: \n",
      "A value is trying to be set on a copy of a slice from a DataFrame.\n",
      "Try using .loc[row_indexer,col_indexer] = value instead\n",
      "\n",
      "See the caveats in the documentation: https://pandas.pydata.org/pandas-docs/stable/user_guide/indexing.html#returning-a-view-versus-a-copy\n",
      "  \"\"\"Entry point for launching an IPython kernel.\n"
     ]
    }
   ],
   "source": [
    "df_p[\"inter_gene_num\"]=num_i_t"
   ]
  },
  {
   "cell_type": "code",
   "execution_count": 83,
   "metadata": {},
   "outputs": [],
   "source": [
    "df_p.to_csv(dir+\"hypergeom_p005_inter_gene.txt\",header=True,index=False,sep=\"\\t\")"
   ]
  },
  {
   "cell_type": "code",
   "execution_count": null,
   "metadata": {},
   "outputs": [],
   "source": []
  }
 ],
 "metadata": {
  "kernelspec": {
   "display_name": "py37",
   "language": "python",
   "name": "py37"
  },
  "language_info": {
   "codemirror_mode": {
    "name": "ipython",
    "version": 3
   },
   "file_extension": ".py",
   "mimetype": "text/x-python",
   "name": "python",
   "nbconvert_exporter": "python",
   "pygments_lexer": "ipython3",
   "version": "3.7.11"
  }
 },
 "nbformat": 4,
 "nbformat_minor": 2
}
