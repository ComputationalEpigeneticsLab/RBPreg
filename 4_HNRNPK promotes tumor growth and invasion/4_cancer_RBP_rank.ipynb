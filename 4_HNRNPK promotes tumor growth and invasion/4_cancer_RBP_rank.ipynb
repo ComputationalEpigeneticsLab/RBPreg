{
 "cells": [
  {
   "cell_type": "code",
   "execution_count": null,
   "metadata": {},
   "outputs": [],
   "source": [
    "import matplotlib.pyplot as plt\n",
    "import numpy as np ,pandas as pd\n",
    "from collections import OrderedDict,Counter\n",
    "import os\n",
    "import statsmodels.stats.multitest as multi\n",
    "import scipy.stats as stats\n",
    "from collections import Counter\n",
    "from IPython.core.interactiveshell import InteractiveShell\n",
    "InteractiveShell.ast_node_interactivity=\"all\"\n",
    "import math"
   ]
  },
  {
   "cell_type": "code",
   "execution_count": 29,
   "metadata": {},
   "outputs": [],
   "source": [
    "dir1=\"E:\\\\project\\\\singcells\\\\1_C_regulons\\\\\"\n",
    "dir=\"E:\\\\project\\\\singcells\\\\3_function_analyse\\\\RBP_activate_cells_rank\\\\\"\n",
    "dir2=\"E:\\\\project\\\\singcells\\\\RBPS\\\\ATtRACT\\\\ATtRACT\\\\human\\\\\""
   ]
  },
  {
   "cell_type": "code",
   "execution_count": 30,
   "metadata": {},
   "outputs": [],
   "source": [
    "rbp_infor=pd.read_csv(dir2+\"human_rbp_160.txt\",header=0,index_col=0,sep=\"\\t\")"
   ]
  },
  {
   "cell_type": "code",
   "execution_count": 32,
   "metadata": {},
   "outputs": [],
   "source": [
    "\n",
    "zd=OrderedDict({})\n",
    "for ind,cols in rbp_infor.iterrows():\n",
    "    zd[ind]=cols[0]"
   ]
  },
  {
   "cell_type": "code",
   "execution_count": 34,
   "metadata": {},
   "outputs": [],
   "source": [
    "cacners=[\"BC\",\"CRC\",\"LC\",\"OvC\"]"
   ]
  },
  {
   "cell_type": "code",
   "execution_count": 35,
   "metadata": {},
   "outputs": [],
   "source": [
    "can0=cacners[0]"
   ]
  },
  {
   "cell_type": "code",
   "execution_count": 36,
   "metadata": {},
   "outputs": [],
   "source": [
    "for can0 in cacners:\n",
    "    data0=pd.read_csv(dir1+can0+\"\\\\\"+can0+\"_cells_1on_merge_same_regulos_one_cell_on_regulon_no0_new_index.txt\",header=0,sep=\"\\t\",index_col=0)\n",
    "\n",
    "    regs=data0.index.tolist()\n",
    "\n",
    "    r_g_n=[]\n",
    "    markgene_num=[]\n",
    "    tar_gene=[]\n",
    "    ensgname=[]\n",
    "\n",
    "    for ww in regs:\n",
    "        r_g_n.append(ww.split(\" \")[0])\n",
    "        ensgname.append(zd[ww.split(\" \")[0]])\n",
    "        tar_gene.append(ww.split(\" \")[1][1:-1])\n",
    "        markgene_num.append(int(ww.split(\" \")[1][1:-2]))\n",
    "\n",
    "\n",
    "    infor=pd.DataFrame()\n",
    "\n",
    "    infor[\"regulon\"]=r_g_n\n",
    "    infor[\"ID\"]=ensgname\n",
    "    infor[\"target_gene_num\"]=markgene_num\n",
    "    infor[\"target_gene\"]=tar_gene\n",
    "\n",
    "    infor.sort_values(by='target_gene_num', ascending=False).to_csv(dir+can0+\"_RBP_rank.txt\",header=True,index=False,sep=\"\\t\")"
   ]
  },
  {
   "cell_type": "code",
   "execution_count": null,
   "metadata": {},
   "outputs": [],
   "source": []
  }
 ],
 "metadata": {
  "kernelspec": {
   "display_name": "Python [conda env:root] *",
   "language": "python",
   "name": "conda-root-py"
  },
  "language_info": {
   "codemirror_mode": {
    "name": "ipython",
    "version": 3
   },
   "file_extension": ".py",
   "mimetype": "text/x-python",
   "name": "python",
   "nbconvert_exporter": "python",
   "pygments_lexer": "ipython3",
   "version": "3.6.5"
  }
 },
 "nbformat": 4,
 "nbformat_minor": 2
}
