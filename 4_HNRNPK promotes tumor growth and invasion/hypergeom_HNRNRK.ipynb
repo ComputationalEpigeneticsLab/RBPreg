{
 "cells": [
  {
   "cell_type": "code",
   "execution_count": null,
   "metadata": {},
   "outputs": [],
   "source": [
    "import matplotlib.pyplot as plt\n",
    "import numpy as np ,pandas as pd\n",
    "from collections import OrderedDict,Counter\n",
    "import os\n",
    "import statsmodels.stats.multitest as multi\n",
    "import scipy.stats as stats\n",
    "from collections import Counter\n",
    "from IPython.core.interactiveshell import InteractiveShell\n",
    "InteractiveShell.ast_node_interactivity=\"all\"\n",
    "import math"
   ]
  },
  {
   "cell_type": "code",
   "execution_count": null,
   "metadata": {},
   "outputs": [],
   "source": [
    "dir=\"E:\\\\project\\\\singcells\\\\3_function_analyse\\\\\"\n",
    "dir1=\"E:\\\\project\\\\singcells\\\\SCENIC\\\\jt_4cancer_scenic_result\\\\\"\n",
    "dir2=\"E:\\\\project\\\\A_normal_infor\\\\MsigDB\\\\cancer_hallmark\\\\\""
   ]
  },
  {
   "cell_type": "code",
   "execution_count": null,
   "metadata": {},
   "outputs": [],
   "source": [
    "tar=pd.read_csv(dir1+\"4_cancer_reglons_targetgene.txt\",header=0,index_col=0,sep=\"\\t\")"
   ]
  },
  {
   "cell_type": "code",
   "execution_count": null,
   "metadata": {
    "scrolled": true
   },
   "outputs": [],
   "source": [
    "tar.head(3)"
   ]
  },
  {
   "cell_type": "code",
   "execution_count": null,
   "metadata": {},
   "outputs": [],
   "source": [
    "HNRNPK_targene=tar[(tar[\"celltype\"]==\"Cancer\")&(tar[\"reglons\"]==\"HNRNPK (2280g)\")].iloc[0,2].split(\",\")"
   ]
  },
  {
   "cell_type": "code",
   "execution_count": null,
   "metadata": {},
   "outputs": [],
   "source": [
    "HNRNPK_targene[1:3]"
   ]
  },
  {
   "cell_type": "code",
   "execution_count": null,
   "metadata": {},
   "outputs": [],
   "source": [
    "len(HNRNPK_targene)"
   ]
  },
  {
   "cell_type": "code",
   "execution_count": null,
   "metadata": {},
   "outputs": [],
   "source": [
    "cacner_hallmark=OrderedDict()\n",
    "\n",
    "r=open(dir2+\"h.all.v7.2.symbols.xls\")\n",
    "\n",
    "line=r.readline()\n",
    "while line:\n",
    "    arr=line.strip().split(\"\\t\")\n",
    "\n",
    "    cacner_hallmark[arr[0]]=\"\\t\".join(arr[2:])\n",
    "    line=r.readline()\n",
    "r.close()"
   ]
  },
  {
   "cell_type": "code",
   "execution_count": null,
   "metadata": {},
   "outputs": [],
   "source": [
    "len(cacner_hallmark)"
   ]
  },
  {
   "cell_type": "code",
   "execution_count": null,
   "metadata": {},
   "outputs": [],
   "source": [
    "all_n=19954\n",
    "\n",
    "RBP=[]\n",
    "Cancer_hallmark=[]\n",
    "inter_g=[]\n",
    "p_v=[]\n",
    "\n",
    "#hallmark0=\"HALLMARK_TNFA_SIGNALING_VIA_NFKB\"\n",
    "for hallmark0,v in cacner_hallmark.items():\n",
    "\n",
    "    hallmark0_gene=cacner_hallmark[hallmark0].split(\"\\t\")\n",
    "\n",
    "    inter_gene=list(set(hallmark0_gene).intersection(set(HNRNPK_targene)))\n",
    "\n",
    "    if len(inter_gene)>3:\n",
    "        RBP.append(\"HNRNPK\")\n",
    "        Cancer_hallmark.append(hallmark0)\n",
    "        inter_g.append(\",\".join(inter_gene))\n",
    "        p=stats.hypergeom.sf(len(inter_gene)-1,all_n,len(hallmark0_gene),len(HNRNPK_targene))\n",
    "        p_v.append(p)\n",
    "\n"
   ]
  },
  {
   "cell_type": "code",
   "execution_count": null,
   "metadata": {},
   "outputs": [],
   "source": [
    "hypergeom_HNRNPK=pd.DataFrame()\n",
    "hypergeom_HNRNPK[\"RBP\"]=RBP\n",
    "hypergeom_HNRNPK[\"Cancer_hallmark\"]=Cancer_hallmark\n",
    "hypergeom_HNRNPK[\"p_value\"]=p_v\n",
    "hypergeom_HNRNPK[\"inter_gene\"]=inter_g"
   ]
  },
  {
   "cell_type": "code",
   "execution_count": null,
   "metadata": {},
   "outputs": [],
   "source": [
    "hypergeom_HNRNPK.shape\n",
    "hypergeom_HNRNPK[hypergeom_HNRNPK[\"p_value\"]<0.05].shape"
   ]
  },
  {
   "cell_type": "code",
   "execution_count": null,
   "metadata": {},
   "outputs": [],
   "source": [
    "hypergeom_HNRNPK.to_csv(\"E:\\\\project\\\\singcells\\\\3_function_analyse\\\\genes\\\\LC_Cancer_HNRNPK\\\\HNRNPK_cancerhanllmark_hypergeom.txt\",sep=\"\\t\",header=True,index=False)"
   ]
  },
  {
   "cell_type": "code",
   "execution_count": null,
   "metadata": {},
   "outputs": [],
   "source": [
    "hypergeom_HNRNPK[hypergeom_HNRNPK[\"p_value\"]<0.05].to_csv(\"E:\\\\project\\\\singcells\\\\3_function_analyse\\\\genes\\\\LC_Cancer_HNRNPK\\\\HNRNPK_cancerhanllmark_hypergeom_sig(p0.05).txt\",sep=\"\\t\",header=True,index=False)"
   ]
  },
  {
   "cell_type": "code",
   "execution_count": null,
   "metadata": {},
   "outputs": [],
   "source": [
    "####immpathway"
   ]
  },
  {
   "cell_type": "code",
   "execution_count": null,
   "metadata": {},
   "outputs": [],
   "source": [
    "c_r=[]\n",
    "im_p=[]\n",
    "p_v=[]\n",
    "inter_gene=[]"
   ]
  },
  {
   "cell_type": "code",
   "execution_count": null,
   "metadata": {},
   "outputs": [],
   "source": [
    "\n",
    "r=open(dir+\"Immune.gmt\")\n",
    "\n",
    "line=r.readline()\n",
    "while line:\n",
    "    arr=line.strip().split(\"\\t\")\n",
    "    imm_gene=arr[2:]\n",
    "    inter=list(set(imm_gene).intersection(set(HNRNPK_targene)))\n",
    "    if len(inter)>3:\n",
    "        c_r.append(\"HNRNPK\")\n",
    "        im_p.append(arr[1])\n",
    "        p=stats.hypergeom.sf(len(inter)-1,all_n,len(imm_gene),len(HNRNPK_targene))\n",
    "        p_v.append(p)\n",
    "        inter_gene.append(\".\".join(inter))\n",
    "    line=r.readline()\n",
    "r.close()"
   ]
  },
  {
   "cell_type": "code",
   "execution_count": null,
   "metadata": {},
   "outputs": [],
   "source": [
    "hypergeom_re=pd.DataFrame()\n",
    "hypergeom_re[\"RBP\"]=c_r\n",
    "hypergeom_re[\"imm_pathway\"]=im_p\n",
    "hypergeom_re[\"p_value\"]=p_v\n",
    "hypergeom_re[\"inter_gene\"]=inter_gene"
   ]
  },
  {
   "cell_type": "code",
   "execution_count": null,
   "metadata": {},
   "outputs": [],
   "source": [
    "hypergeom_re.to_csv(\"E:\\\\project\\\\singcells\\\\3_function_analyse\\\\genes\\\\LC_Cancer_HNRNPK\\\\HNRNPK_immpathway_hypergeom.txt\",sep=\"\\t\",header=True,index=False)"
   ]
  },
  {
   "cell_type": "code",
   "execution_count": null,
   "metadata": {},
   "outputs": [],
   "source": [
    "hypergeom_re.shape"
   ]
  },
  {
   "cell_type": "code",
   "execution_count": null,
   "metadata": {},
   "outputs": [],
   "source": []
  }
 ],
 "metadata": {
  "kernelspec": {
   "display_name": "Python [conda env:root] *",
   "language": "python",
   "name": "conda-root-py"
  },
  "language_info": {
   "codemirror_mode": {
    "name": "ipython",
    "version": 3
   },
   "file_extension": ".py",
   "mimetype": "text/x-python",
   "name": "python",
   "nbconvert_exporter": "python",
   "pygments_lexer": "ipython3",
   "version": "3.6.5"
  }
 },
 "nbformat": 4,
 "nbformat_minor": 2
}
