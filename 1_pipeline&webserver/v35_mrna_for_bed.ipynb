{
 "cells": [
  {
   "cell_type": "code",
   "execution_count": null,
   "metadata": {},
   "outputs": [],
   "source": [
    "import matplotlib.pyplot as plt\n",
    "import numpy as np ,pandas as pd\n",
    "from collections import OrderedDict,Counter\n",
    "import os\n",
    "import statsmodels.stats.multitest as multi\n",
    "import scipy.stats as stats\n",
    "from collections import Counter\n",
    "from IPython.core.interactiveshell import InteractiveShell\n",
    "InteractiveShell.ast_node_interactivity=\"all\"\n",
    "import math"
   ]
  },
  {
   "cell_type": "code",
   "execution_count": null,
   "metadata": {},
   "outputs": [],
   "source": [
    "dir_1=\"E:\\\\project\\\\genecode\\\\35\\\\\"\n",
    "dir=\"E:\\\\project\\\\singcells\\\\MEME\\\\ATtRACT\\\\fasta\\\\\"\n",
    "dir_2=\"E:\\\\project\\\\singcells\\\\MEME\\\\ATtRACT\\\\bed\\\\\""
   ]
  },
  {
   "cell_type": "code",
   "execution_count": null,
   "metadata": {},
   "outputs": [],
   "source": [
    "#df=pd.read_csv(dir_1+\"gencode.v35.chr_patch_hapl_scaff.annotation.gff3\",sep=\"\\t\",header=None,index_col=None)"
   ]
  },
  {
   "cell_type": "code",
   "execution_count": null,
   "metadata": {},
   "outputs": [],
   "source": [
    "w=open(dir_1+\"v35_100.txt\",\"w\")\n",
    "\n",
    "r=open(dir_1+\"gencode.v35.annotation.gtf\")\n",
    "\n",
    "line=r.readline()\n",
    "for i in range(0,101):\n",
    "    w.write(line)\n",
    "    line=r.readline()\n",
    "r.close()\n",
    "w.close()"
   ]
  },
  {
   "cell_type": "code",
   "execution_count": null,
   "metadata": {},
   "outputs": [],
   "source": [
    "##########################for all ##########"
   ]
  },
  {
   "cell_type": "code",
   "execution_count": null,
   "metadata": {},
   "outputs": [],
   "source": [
    "w=open(dir_1+\"v35_mrna_for_bed.txt\",\"w\")\n",
    "\n",
    "w.write(\"chrom\"+\"\\t\"+\"chromStart\"+\"\\t\"+\"chromEnd\"+\"\\t\"+\"gene_id\"+\"\\t\"+\"gene_name\"+\"\\t\"+\"strand\"+\"\\n\")\n",
    "\n",
    "r=open(dir_1+\"gencode.v35.annotation.gtf\")\n",
    "\n",
    "line=r.readline()\n",
    "line=r.readline()\n",
    "line=r.readline()\n",
    "line=r.readline()\n",
    "line=r.readline()\n",
    "line=r.readline()\n",
    "\n",
    "while line:\n",
    "    arr=line.strip().split(\"\\t\")\n",
    "    if arr[-1].split(\"gene_type\")[1].split(\";\")[0][2:-1]==\"protein_coding\" and arr[2]==\"gene\":\n",
    "\n",
    "        if \"gene_id\" in arr[-1]:\n",
    "\n",
    "            gene_id=arr[-1].split(\"gene_id\")[1].split(\";\")[0][2:-1]\n",
    "        else:\n",
    "            gene_id=\"-\"\n",
    "        #gene_id\n",
    "\n",
    "        if \"gene_name\" in arr[-1]:\n",
    "\n",
    "            gene_name=arr[-1].split(\"gene_name\")[1].split(\";\")[0][2:-1]\n",
    "        else:\n",
    "            gene_name=\"-\"\n",
    "       # gene_name\n",
    "\n",
    "        w.write(arr[0]+\"\\t\"+arr[3]+\"\\t\"+arr[4]+\"\\t\"+gene_id+\"\\t\"+gene_name+\"\\t\"+arr[6]+\"\\n\")\n",
    "    line=r.readline()\n",
    "r.close()\n",
    "\n",
    "w.close()"
   ]
  },
  {
   "cell_type": "code",
   "execution_count": null,
   "metadata": {},
   "outputs": [],
   "source": []
  }
 ],
 "metadata": {
  "kernelspec": {
   "display_name": "Python 3",
   "language": "python",
   "name": "python3"
  },
  "language_info": {
   "codemirror_mode": {
    "name": "ipython",
    "version": 3
   },
   "file_extension": ".py",
   "mimetype": "text/x-python",
   "name": "python",
   "nbconvert_exporter": "python",
   "pygments_lexer": "ipython3",
   "version": "3.6.5"
  }
 },
 "nbformat": 4,
 "nbformat_minor": 2
}
