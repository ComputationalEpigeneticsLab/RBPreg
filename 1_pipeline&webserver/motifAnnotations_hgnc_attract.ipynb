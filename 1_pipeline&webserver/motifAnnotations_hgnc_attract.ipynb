{
 "cells": [
  {
   "cell_type": "code",
   "execution_count": null,
   "metadata": {},
   "outputs": [],
   "source": [
    "import matplotlib.pyplot as plt\n",
    "import numpy as np ,pandas as pd\n",
    "from collections import OrderedDict,Counter\n",
    "import os\n",
    "import statsmodels.stats.multitest as multi\n",
    "import scipy.stats as stats\n",
    "from collections import Counter\n",
    "from IPython.core.interactiveshell import InteractiveShell\n",
    "InteractiveShell.ast_node_interactivity=\"all\"\n",
    "import math\n",
    "\n",
    "\n",
    "import feather"
   ]
  },
  {
   "cell_type": "code",
   "execution_count": null,
   "metadata": {},
   "outputs": [],
   "source": [
    "dir=\"E:\\\\project\\\\singcells\\\\RBPS\\\\ATtRACT\\\\ATtRACT\\\\human\\\\\"\n",
    "dir1=\"E:\\\\project\\\\singcells\\\\SCENIC\\\\Rcistarget-annotion\\\\\""
   ]
  },
  {
   "cell_type": "code",
   "execution_count": null,
   "metadata": {},
   "outputs": [],
   "source": [
    "w=open(dir1+\"motifAnnotations_hgnc_attract_score.txt\",\"w\")\n",
    "\n",
    "w.write(\"motif\"+\"\\t\"+\"TF\"+\"\\t\"+\"directAnnotation\"+\"\\t\"+\"inferred_Orthology\"+\"\\t\"+\"inferred_MotifSimil\"+\"\\t\"+\"annotationSource\"+\"\\t\"+\"description\"+\"\\n\")\n",
    "\n",
    "r=open(dir+\"human_rbp_160.txt\")\n",
    "\n",
    "line=r.readline()\n",
    "\n",
    "line=r.readline()\n",
    "while line:\n",
    "    arr=line.strip().split(\"\\t\")\n",
    "\n",
    "    mtf=arr[0]+\"_\"+arr[4]+\"_\"+arr[-2]\n",
    "    tf=arr[0]\n",
    "    im=\"FALSE\"\n",
    "    description=arr[-4]\n",
    "\n",
    "\n",
    "    if arr[-1][-1]==\"*\":\n",
    "        ad=\"TRUE\"\n",
    "        io=\"FALSE\"\n",
    "        ats=\"directAnnotation\"\n",
    "    else:\n",
    "        ad=\"FALSE\"\n",
    "        io=\"TRUE\"\n",
    "        ats=\"inferredBy_Orthology\"\n",
    "    line=r.readline()\n",
    "    w.write(mtf+\"\\t\"+tf+\"\\t\"+ad+\"\\t\"+io+\"\\t\"+im+\"\\t\"+ats+\"\\t\"+description+\"\\n\")\n",
    "\n",
    "w.close()"
   ]
  },
  {
   "cell_type": "code",
   "execution_count": null,
   "metadata": {},
   "outputs": [],
   "source": []
  },
  {
   "cell_type": "code",
   "execution_count": null,
   "metadata": {},
   "outputs": [],
   "source": [
    "w=open(dir1+\"motifAnnotations_hgnc_attract_allDA.txt\",\"w\")\n",
    "\n",
    "w.write(\"motif\"+\"\\t\"+\"TF\"+\"\\t\"+\"directAnnotation\"+\"\\t\"+\"inferred_Orthology\"+\"\\t\"+\"inferred_MotifSimil\"+\"\\t\"+\"annotationSource\"+\"\\t\"+\"description\"+\"\\n\")\n",
    "\n",
    "r=open(dir+\"human_rbp_160.txt\")\n",
    "\n",
    "line=r.readline()\n",
    "line=r.readline()\n",
    "while line:\n",
    "    arr=line.strip().split(\"\\t\")\n",
    "\n",
    "    mtf=arr[0]+\"_\"+arr[4]+\"_\"+arr[-2]\n",
    "    tf=arr[0]\n",
    "    im=\"FALSE\"\n",
    "    description=arr[-4]\n",
    "    ad=\"TRUE\"\n",
    "    io=\"FALSE\"\n",
    "    ats=\"directAnnotation\"\n",
    "    line=r.readline()\n",
    "    w.write(mtf+\"\\t\"+tf+\"\\t\"+ad+\"\\t\"+io+\"\\t\"+im+\"\\t\"+ats+\"\\t\"+description+\"\\n\")\n",
    "\n",
    "w.close()"
   ]
  },
  {
   "cell_type": "code",
   "execution_count": null,
   "metadata": {},
   "outputs": [],
   "source": []
  }
 ],
 "metadata": {
  "kernelspec": {
   "display_name": "Python [conda env:root] *",
   "language": "python",
   "name": "conda-root-py"
  },
  "language_info": {
   "codemirror_mode": {
    "name": "ipython",
    "version": 3
   },
   "file_extension": ".py",
   "mimetype": "text/x-python",
   "name": "python",
   "nbconvert_exporter": "python",
   "pygments_lexer": "ipython3",
   "version": "3.6.5"
  }
 },
 "nbformat": 4,
 "nbformat_minor": 2
}
