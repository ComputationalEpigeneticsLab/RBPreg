{
 "cells": [
  {
   "cell_type": "code",
   "execution_count": null,
   "metadata": {},
   "outputs": [],
   "source": [
    "import matplotlib.pyplot as plt\n",
    "import numpy as np ,pandas as pd\n",
    "from collections import OrderedDict,Counter\n",
    "import os\n",
    "import statsmodels.stats.multitest as multi\n",
    "import scipy.stats as stats\n",
    "from collections import Counter\n",
    "from IPython.core.interactiveshell import InteractiveShell\n",
    "InteractiveShell.ast_node_interactivity=\"all\"\n",
    "import math"
   ]
  },
  {
   "cell_type": "code",
   "execution_count": null,
   "metadata": {},
   "outputs": [],
   "source": [
    "dir_1=\"E:\\\\project\\\\singcells\\\\RBPS\\\\ATtRACT\\\\ATtRACT\\\\\"\n",
    "\n",
    "df_att=pd.read_csv(dir_1+\"ATtRACT_db.txt\",sep=\"\\t\",header=0)"
   ]
  },
  {
   "cell_type": "code",
   "execution_count": null,
   "metadata": {},
   "outputs": [],
   "source": [
    "df_att_human=df_att[df_att[\"Organism\"]==\"Homo_sapiens\"]"
   ]
  },
  {
   "cell_type": "code",
   "execution_count": null,
   "metadata": {},
   "outputs": [],
   "source": [
    "df_att_human.head(3)\n",
    "df_att_human.shape"
   ]
  },
  {
   "cell_type": "code",
   "execution_count": null,
   "metadata": {},
   "outputs": [],
   "source": [
    "df_att_human.to_csv(dir_1+\"human\\\\human_rbp_160.txt\",sep=\"\\t\",header=True,index=False)"
   ]
  },
  {
   "cell_type": "code",
   "execution_count": null,
   "metadata": {},
   "outputs": [],
   "source": [
    "############################################ matrix ready ################################################"
   ]
  },
  {
   "cell_type": "code",
   "execution_count": null,
   "metadata": {},
   "outputs": [],
   "source": [
    "import re"
   ]
  },
  {
   "cell_type": "code",
   "execution_count": null,
   "metadata": {},
   "outputs": [],
   "source": [
    "id_motif_matr=[]\n",
    "\n",
    "for ind,row in df_att_human.iterrows():\n",
    "    id_motif_matr.append(row[0]+\"\\t\"+row[4]+\"\\t\"+row[-2])\n",
    "    \n",
    "id_motif_matr_unique=list(set(id_motif_matr))"
   ]
  },
  {
   "cell_type": "code",
   "execution_count": null,
   "metadata": {},
   "outputs": [],
   "source": [
    "id_motif_matr_find_matr=[]"
   ]
  },
  {
   "cell_type": "code",
   "execution_count": null,
   "metadata": {
    "scrolled": false
   },
   "outputs": [],
   "source": [
    "w=open(dir_1+\"human\\\\human_pwm_1.meme\",\"w\")\n",
    "\n",
    "rbp_0=id_motif_matr_unique[0]\n",
    "for rbp_0 in id_motif_matr_unique:\n",
    "    rbp_0_matr=rbp_0.split(\"\\t\")[-1]\n",
    "    rbp_0_matr\n",
    "\n",
    "    r=open(dir_1+\"pwm.txt\")\n",
    "\n",
    "\n",
    "    #A=[]\n",
    "    #C=[]\n",
    "    #G=[]\n",
    "    #T=[]\n",
    "\n",
    "    line=r.readline()\n",
    "\n",
    "    while line:\n",
    "        arr=line.strip().split(\"\\t\")\n",
    "\n",
    "        if arr[0][1:]==rbp_0_matr:\n",
    "            id_motif_matr_find_matr.append(rbp_0)\n",
    "            w.write(\"MOTIF \"+\"_\".join(rbp_0.split(\"\\t\"))+\"\\n\")\n",
    "            if re.match(r\">\",line) :\n",
    "                arr_nu=line.strip().split(\"\\t\")\n",
    "                w.write(\"letter-probability matrix: alength= 4 w= \"+str(arr_nu[-1])+\"\\n\")\n",
    "                for i in range(0,int(arr_nu[-1])):\n",
    "                    line=r.readline()\n",
    "                    w.write(line)\n",
    "                    arr_0=line.strip().split(\"\\t\")\n",
    "                    #A.append(arr_0[0])\n",
    "                    #C.append(arr_0[1])\n",
    "                    #G.append(arr_0[2])\n",
    "                    #T.append(arr_0[3])\n",
    "                w.write(\"\\n\")\n",
    "                break\n",
    "        \n",
    "            \n",
    "\n",
    "\n",
    "\n",
    "        line=r.readline()\n",
    "    r.close()\n",
    "\n",
    "w.close()"
   ]
  },
  {
   "cell_type": "code",
   "execution_count": 34,
   "metadata": {},
   "outputs": [
    {
     "data": {
      "text/plain": [
       "3256"
      ]
     },
     "execution_count": 34,
     "metadata": {},
     "output_type": "execute_result"
    }
   ],
   "source": [
    "len(id_motif_matr_find_matr)"
   ]
  },
  {
   "cell_type": "code",
   "execution_count": 35,
   "metadata": {},
   "outputs": [],
   "source": [
    "id_motif_matr_nofind_matr=list(set(id_motif_matr_unique).difference(set(id_motif_matr_find_matr)))"
   ]
  },
  {
   "cell_type": "code",
   "execution_count": 36,
   "metadata": {},
   "outputs": [
    {
     "data": {
      "text/plain": [
       "0"
      ]
     },
     "execution_count": 36,
     "metadata": {},
     "output_type": "execute_result"
    }
   ],
   "source": [
    "len(id_motif_matr_nofind_matr)"
   ]
  },
  {
   "cell_type": "code",
   "execution_count": null,
   "metadata": {},
   "outputs": [],
   "source": []
  }
 ],
 "metadata": {
  "kernelspec": {
   "display_name": "Python [conda env:root] *",
   "language": "python",
   "name": "conda-root-py"
  },
  "language_info": {
   "codemirror_mode": {
    "name": "ipython",
    "version": 3
   },
   "file_extension": ".py",
   "mimetype": "text/x-python",
   "name": "python",
   "nbconvert_exporter": "python",
   "pygments_lexer": "ipython3",
   "version": "3.6.5"
  }
 },
 "nbformat": 4,
 "nbformat_minor": 2
}
