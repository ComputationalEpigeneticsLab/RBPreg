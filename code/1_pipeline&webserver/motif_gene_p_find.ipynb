{
 "cells": [
  {
   "cell_type": "code",
   "execution_count": null,
   "metadata": {},
   "outputs": [],
   "source": [
    "import numpy as np ,pandas as pd\n",
    "import math\n",
    "import os"
   ]
  },
  {
   "cell_type": "code",
   "execution_count": null,
   "metadata": {},
   "outputs": [],
   "source": [
    "dir=\"E:\\\\project\\\\singcells\\\\MEME\\\\ATtRACT\\\\p\\\\p_min\\\\\""
   ]
  },
  {
   "cell_type": "code",
   "execution_count": null,
   "metadata": {},
   "outputs": [],
   "source": [
    "df_p_min=pd.read_csv(dir+\"motif_gene_p_min.txt\",header=None,sep=\"\\t\",index_col=None)\n",
    "\n",
    "df_p_min.columns=[\"motif\",\"gene\",\"p_value\"]\n",
    "\n",
    "\n",
    "gene_s=[]\n",
    "\n",
    "for ww in df_p_min[\"gene\"]:\n",
    "    arr=ww.split(\"_\")\n",
    "    gene_s.append(arr[-1])\n",
    "\n",
    "df_p_min[\"gene_symbol\"]=gene_s"
   ]
  },
  {
   "cell_type": "code",
   "execution_count": null,
   "metadata": {},
   "outputs": [],
   "source": [
    "df_p_min.head(3)\n",
    "df_p_min.shape"
   ]
  },
  {
   "cell_type": "code",
   "execution_count": null,
   "metadata": {},
   "outputs": [],
   "source": [
    "motif_find=list(set(df_p_min[\"motif\"].tolist()))"
   ]
  },
  {
   "cell_type": "code",
   "execution_count": null,
   "metadata": {},
   "outputs": [],
   "source": [
    "motif_0=motif_find[0]"
   ]
  },
  {
   "cell_type": "code",
   "execution_count": null,
   "metadata": {},
   "outputs": [],
   "source": [
    "gene_inall=list(set(df_p_min[df_p_min[\"motif\"]==motif_0][\"gene_symbol\"]))"
   ]
  },
  {
   "cell_type": "code",
   "execution_count": null,
   "metadata": {},
   "outputs": [],
   "source": [
    "for motif_0 in motif_find[1:]:\n",
    "    gene_inall=list(set(gene_inall).intersection(set(list(set(df_p_min[df_p_min[\"motif\"]==motif_0][\"gene_symbol\"])))))\n",
    "    "
   ]
  },
  {
   "cell_type": "code",
   "execution_count": null,
   "metadata": {},
   "outputs": [],
   "source": [
    "df_motif_gene_p=pd.DataFrame()\n",
    "\n",
    "for motif_0 in motif_find\n",
    "    p_v=df_p_min[(df_p_min[\"gene_symbol\"].isin(gene_inall)) & (df_p_min[\"motif\"]==motif_0)][\"gene_symbol\"].tolist()\n",
    "\n",
    "    df_motif_gene_p[motif_0]=p_v\n",
    "\n",
    "df_motif_gene_p.index=gene_inall\n",
    "\n",
    "df_motif_gene_p.to_csv(dir+\"motif_gene_p_find.txt\",sep=\"\\t\",header=True,index=True)"
   ]
  },
  {
   "cell_type": "code",
   "execution_count": null,
   "metadata": {},
   "outputs": [],
   "source": [
    "df_p_min.head(3)"
   ]
  },
  {
   "cell_type": "code",
   "execution_count": null,
   "metadata": {},
   "outputs": [],
   "source": []
  },
  {
   "cell_type": "code",
   "execution_count": null,
   "metadata": {
    "scrolled": true
   },
   "outputs": [],
   "source": [
    "df_test.sort_values(by='a', ascending=True)"
   ]
  },
  {
   "cell_type": "code",
   "execution_count": null,
   "metadata": {},
   "outputs": [],
   "source": []
  },
  {
   "cell_type": "code",
   "execution_count": null,
   "metadata": {},
   "outputs": [],
   "source": []
  }
 ],
 "metadata": {
  "kernelspec": {
   "display_name": "Python [conda env:env_name]",
   "language": "python",
   "name": "conda-env-env_name-py"
  },
  "language_info": {
   "codemirror_mode": {
    "name": "ipython",
    "version": 3
   },
   "file_extension": ".py",
   "mimetype": "text/x-python",
   "name": "python",
   "nbconvert_exporter": "python",
   "pygments_lexer": "ipython3",
   "version": "3.6.12"
  }
 },
 "nbformat": 4,
 "nbformat_minor": 2
}
