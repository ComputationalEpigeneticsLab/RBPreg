{
 "cells": [
  {
   "cell_type": "code",
   "execution_count": 1,
   "metadata": {},
   "outputs": [],
   "source": [
    "import matplotlib.pyplot as plt\n",
    "import numpy as np ,pandas as pd\n",
    "from collections import OrderedDict,Counter\n",
    "import os\n",
    "import statsmodels.stats.multitest as multi\n",
    "import scipy.stats as stats\n",
    "from collections import Counter\n",
    "from IPython.core.interactiveshell import InteractiveShell\n",
    "InteractiveShell.ast_node_interactivity=\"all\"\n",
    "import math"
   ]
  },
  {
   "cell_type": "code",
   "execution_count": 2,
   "metadata": {},
   "outputs": [],
   "source": [
    "dir=\"E:\\\\project\\\\singcells\\\\SCENIC\\\\RBPS\\\\EURBPDB\\\\human\\\\\""
   ]
  },
  {
   "cell_type": "code",
   "execution_count": 3,
   "metadata": {},
   "outputs": [],
   "source": [
    "homo_sapiens=pd.read_csv(dir+\"homo_sapiens.txt\",sep=\"\\t\",header=0,index_col=None)"
   ]
  },
  {
   "cell_type": "code",
   "execution_count": 4,
   "metadata": {},
   "outputs": [
    {
     "data": {
      "text/html": [
       "<div>\n",
       "<style scoped>\n",
       "    .dataframe tbody tr th:only-of-type {\n",
       "        vertical-align: middle;\n",
       "    }\n",
       "\n",
       "    .dataframe tbody tr th {\n",
       "        vertical-align: top;\n",
       "    }\n",
       "\n",
       "    .dataframe thead th {\n",
       "        text-align: right;\n",
       "    }\n",
       "</style>\n",
       "<table border=\"1\" class=\"dataframe\">\n",
       "  <thead>\n",
       "    <tr style=\"text-align: right;\">\n",
       "      <th></th>\n",
       "      <th>ensemble_id</th>\n",
       "      <th>symbol</th>\n",
       "      <th>entrez_id</th>\n",
       "      <th>Alias</th>\n",
       "      <th>Full Name</th>\n",
       "      <th>RBP</th>\n",
       "    </tr>\n",
       "  </thead>\n",
       "  <tbody>\n",
       "    <tr>\n",
       "      <th>0</th>\n",
       "      <td>ENSG00000001497</td>\n",
       "      <td>LAS1L</td>\n",
       "      <td>81887</td>\n",
       "      <td>FLJ12525</td>\n",
       "      <td>LAS1 like, ribosome biogenesis factor</td>\n",
       "      <td>Las1</td>\n",
       "    </tr>\n",
       "    <tr>\n",
       "      <th>1</th>\n",
       "      <td>ENSG00000002834</td>\n",
       "      <td>LASP1</td>\n",
       "      <td>3927</td>\n",
       "      <td>MLN50|Lasp-1</td>\n",
       "      <td>LIM and SH3 protein 1</td>\n",
       "      <td>Non-canonical_RBP</td>\n",
       "    </tr>\n",
       "    <tr>\n",
       "      <th>2</th>\n",
       "      <td>ENSG00000003756</td>\n",
       "      <td>RBM5</td>\n",
       "      <td>10181</td>\n",
       "      <td>LUCA15|LUCA-15|H37</td>\n",
       "      <td>RNA binding motif protein 5</td>\n",
       "      <td>G-patch</td>\n",
       "    </tr>\n",
       "  </tbody>\n",
       "</table>\n",
       "</div>"
      ],
      "text/plain": [
       "       ensemble_id symbol  entrez_id               Alias  \\\n",
       "0  ENSG00000001497  LAS1L      81887            FLJ12525   \n",
       "1  ENSG00000002834  LASP1       3927        MLN50|Lasp-1   \n",
       "2  ENSG00000003756   RBM5      10181  LUCA15|LUCA-15|H37   \n",
       "\n",
       "                               Full Name                RBP  \n",
       "0  LAS1 like, ribosome biogenesis factor               Las1  \n",
       "1                  LIM and SH3 protein 1  Non-canonical_RBP  \n",
       "2            RNA binding motif protein 5            G-patch  "
      ]
     },
     "execution_count": 4,
     "metadata": {},
     "output_type": "execute_result"
    }
   ],
   "source": [
    "homo_sapiens.head(3)"
   ]
  },
  {
   "cell_type": "code",
   "execution_count": 6,
   "metadata": {},
   "outputs": [],
   "source": [
    "rbp_unique=list(homo_sapiens[\"RBP\"].tolist())"
   ]
  },
  {
   "cell_type": "code",
   "execution_count": 7,
   "metadata": {},
   "outputs": [
    {
     "data": {
      "text/plain": [
       "2949"
      ]
     },
     "execution_count": 7,
     "metadata": {},
     "output_type": "execute_result"
    }
   ],
   "source": [
    "len(rbp_unique)"
   ]
  },
  {
   "cell_type": "code",
   "execution_count": 14,
   "metadata": {},
   "outputs": [],
   "source": [
    "rbp_0=rbp_unique[0]"
   ]
  },
  {
   "cell_type": "code",
   "execution_count": 15,
   "metadata": {},
   "outputs": [
    {
     "data": {
      "text/html": [
       "<div>\n",
       "<style scoped>\n",
       "    .dataframe tbody tr th:only-of-type {\n",
       "        vertical-align: middle;\n",
       "    }\n",
       "\n",
       "    .dataframe tbody tr th {\n",
       "        vertical-align: top;\n",
       "    }\n",
       "\n",
       "    .dataframe thead th {\n",
       "        text-align: right;\n",
       "    }\n",
       "</style>\n",
       "<table border=\"1\" class=\"dataframe\">\n",
       "  <thead>\n",
       "    <tr style=\"text-align: right;\">\n",
       "      <th></th>\n",
       "      <th>ensemble_id</th>\n",
       "      <th>symbol</th>\n",
       "      <th>entrez_id</th>\n",
       "      <th>Alias</th>\n",
       "      <th>Full Name</th>\n",
       "      <th>RBP</th>\n",
       "    </tr>\n",
       "  </thead>\n",
       "  <tbody>\n",
       "    <tr>\n",
       "      <th>0</th>\n",
       "      <td>ENSG00000001497</td>\n",
       "      <td>LAS1L</td>\n",
       "      <td>81887</td>\n",
       "      <td>FLJ12525</td>\n",
       "      <td>LAS1 like, ribosome biogenesis factor</td>\n",
       "      <td>Las1</td>\n",
       "    </tr>\n",
       "  </tbody>\n",
       "</table>\n",
       "</div>"
      ],
      "text/plain": [
       "       ensemble_id symbol  entrez_id     Alias  \\\n",
       "0  ENSG00000001497  LAS1L      81887  FLJ12525   \n",
       "\n",
       "                               Full Name   RBP  \n",
       "0  LAS1 like, ribosome biogenesis factor  Las1  "
      ]
     },
     "execution_count": 15,
     "metadata": {},
     "output_type": "execute_result"
    }
   ],
   "source": [
    "homo_sapiens[homo_sapiens[\"RBP\"]==rbp_0]"
   ]
  },
  {
   "cell_type": "code",
   "execution_count": null,
   "metadata": {},
   "outputs": [],
   "source": []
  }
 ],
 "metadata": {
  "kernelspec": {
   "display_name": "Python [conda env:root] *",
   "language": "python",
   "name": "conda-root-py"
  },
  "language_info": {
   "codemirror_mode": {
    "name": "ipython",
    "version": 3
   },
   "file_extension": ".py",
   "mimetype": "text/x-python",
   "name": "python",
   "nbconvert_exporter": "python",
   "pygments_lexer": "ipython3",
   "version": "3.6.5"
  }
 },
 "nbformat": 4,
 "nbformat_minor": 2
}
