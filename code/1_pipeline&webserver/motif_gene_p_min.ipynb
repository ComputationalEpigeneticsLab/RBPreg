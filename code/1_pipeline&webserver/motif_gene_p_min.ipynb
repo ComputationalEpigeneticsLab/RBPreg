{
 "cells": [
  {
   "cell_type": "code",
   "execution_count": null,
   "metadata": {},
   "outputs": [],
   "source": [
    "import matplotlib.pyplot as plt\n",
    "import numpy as np ,pandas as pd\n",
    "from collections import OrderedDict,Counter\n",
    "import os\n",
    "import statsmodels.stats.multitest as multi\n",
    "import scipy.stats as stats\n",
    "from collections import Counter\n",
    "from IPython.core.interactiveshell import InteractiveShell\n",
    "InteractiveShell.ast_node_interactivity=\"all\"\n",
    "import math"
   ]
  },
  {
   "cell_type": "code",
   "execution_count": null,
   "metadata": {},
   "outputs": [],
   "source": [
    "dir=\"E:\\\\project\\\\singcells\\\\MEME\\\\ATtRACT\\\\meme_result\\\\\"\n",
    "dir1=\"E:\\\\project\\\\singcells\\\\RBPS\\\\ATtRACT\\\\ATtRACT\\\\human\\\\\"\n",
    "dir_2=\"E:\\\\project\\\\singcells\\\\MEME\\\\ATtRACT\\\\rbp_motif\\\\\""
   ]
  },
  {
   "cell_type": "code",
   "execution_count": null,
   "metadata": {},
   "outputs": [],
   "source": [
    "motif_name=pd.read_csv(dir1+\"human_rbp_160.txt\",header=0,sep=\"\\t\",index_col=None)"
   ]
  },
  {
   "cell_type": "code",
   "execution_count": null,
   "metadata": {
    "scrolled": true
   },
   "outputs": [],
   "source": [
    "motif_name.head(3)"
   ]
  },
  {
   "cell_type": "code",
   "execution_count": null,
   "metadata": {},
   "outputs": [],
   "source": [
    "motif_name_use=[]\n",
    "\n",
    "for ind,row in motif_name.iterrows():\n",
    "    motif_name_use.append(row[0]+\"_\"+row[4]+\"_\"+row[-2])\n",
    "\n",
    "motif_name_use=list(set(motif_name_use))\n",
    "\n",
    "\n",
    "df_name=pd.DataFrame()\n",
    "\n",
    "df_name[\"motif_name\"]=motif_name_use\n",
    "\n",
    "df_name.to_csv(dir_2+\"motif_name.txt\",header=True,index=False)"
   ]
  },
  {
   "cell_type": "code",
   "execution_count": null,
   "metadata": {},
   "outputs": [],
   "source": [
    "####### catch p ####### "
   ]
  },
  {
   "cell_type": "code",
   "execution_count": null,
   "metadata": {},
   "outputs": [],
   "source": [
    "contents={}\n",
    "\n",
    "file_name=os.listdir(dir)"
   ]
  },
  {
   "cell_type": "code",
   "execution_count": null,
   "metadata": {},
   "outputs": [],
   "source": [
    "for file_0 in file_name:\n",
    "\n",
    "    r=open(dir+file_0)\n",
    "\n",
    "    line=r.readline()\n",
    "\n",
    "    line=r.readline()\n",
    "\n",
    "    while line:\n",
    "        arr=line.strip().split(\"\\t\")\n",
    "\n",
    "\n",
    "\n",
    "        m_n=arr[0]\n",
    "        g_n=arr[2]\n",
    "        p_value=float(arr[-3])\n",
    "\n",
    "        ke=m_n+\"\\t\"+g_n\n",
    "\n",
    "        if ke in contents.keys():\n",
    "            v=min(p_value,contents[ke])\n",
    "        else:\n",
    "            v=p_value\n",
    "        contents[ke]=v\n",
    "        line=r.readline()\n",
    "    r.close()\n"
   ]
  },
  {
   "cell_type": "code",
   "execution_count": null,
   "metadata": {},
   "outputs": [],
   "source": [
    "w=open(dir+\"motif_gene_p_min.txt\",\"w\")\n",
    "for k1,v1 in contents.items():\n",
    "    w.write(k1+\"\\t\"+str(v1)+\"\\n\")\n",
    "w.close()"
   ]
  },
  {
   "cell_type": "code",
   "execution_count": null,
   "metadata": {},
   "outputs": [],
   "source": []
  }
 ],
 "metadata": {
  "kernelspec": {
   "display_name": "Python [conda env:root] *",
   "language": "python",
   "name": "conda-root-py"
  },
  "language_info": {
   "codemirror_mode": {
    "name": "ipython",
    "version": 3
   },
   "file_extension": ".py",
   "mimetype": "text/x-python",
   "name": "python",
   "nbconvert_exporter": "python",
   "pygments_lexer": "ipython3",
   "version": "3.6.5"
  }
 },
 "nbformat": 4,
 "nbformat_minor": 2
}
