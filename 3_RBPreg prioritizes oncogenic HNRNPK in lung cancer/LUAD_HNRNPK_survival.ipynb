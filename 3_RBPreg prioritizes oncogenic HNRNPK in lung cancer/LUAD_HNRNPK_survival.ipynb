{
 "cells": [
  {
   "cell_type": "code",
   "execution_count": null,
   "metadata": {},
   "outputs": [],
   "source": [
    "import matplotlib.pyplot as plt\n",
    "import numpy as np ,pandas as pd\n",
    "from collections import OrderedDict,Counter\n",
    "import os\n",
    "import statsmodels.stats.multitest as multi\n",
    "import scipy.stats as stats\n",
    "from collections import Counter\n",
    "from IPython.core.interactiveshell import InteractiveShell\n",
    "InteractiveShell.ast_node_interactivity=\"all\"\n",
    "import math"
   ]
  },
  {
   "cell_type": "code",
   "execution_count": null,
   "metadata": {},
   "outputs": [],
   "source": [
    "dir=\"E:\\\\project\\\\Expression profile\\\\1_gene_lnc\\\\LUAD\\\\\""
   ]
  },
  {
   "cell_type": "code",
   "execution_count": null,
   "metadata": {},
   "outputs": [],
   "source": [
    "survival_infor=pd.read_csv(dir+\"TCGA-LUAD_clinical.csv\",index_col=0)"
   ]
  },
  {
   "cell_type": "code",
   "execution_count": null,
   "metadata": {},
   "outputs": [],
   "source": [
    "survival_infor.head(3)"
   ]
  },
  {
   "cell_type": "code",
   "execution_count": null,
   "metadata": {},
   "outputs": [],
   "source": [
    "ensg=\"ENSG00000165119\""
   ]
  },
  {
   "cell_type": "code",
   "execution_count": null,
   "metadata": {},
   "outputs": [],
   "source": [
    "id_sur=sur_data[\"submitter_id\"].tolist()"
   ]
  },
  {
   "cell_type": "code",
   "execution_count": null,
   "metadata": {},
   "outputs": [],
   "source": [
    "cancer_sample=pd.read_csv(dir+\"cancer_sample.txt\",header=None)"
   ]
  },
  {
   "cell_type": "code",
   "execution_count": null,
   "metadata": {},
   "outputs": [],
   "source": [
    "id_cancer=[]\n",
    "for ww in cancer_sample[0]:\n",
    "    id_cancer.append(\"-\".join(ww.split(\"-\")[0:3]))\n",
    "    "
   ]
  },
  {
   "cell_type": "code",
   "execution_count": null,
   "metadata": {},
   "outputs": [],
   "source": [
    "vc=Counter(id_cancer)\n",
    "\n",
    "repeat=[]\n",
    "\n",
    "for k,v in vc.items():\n",
    "    if v>1:\n",
    "        repeat.append(k)"
   ]
  },
  {
   "cell_type": "code",
   "execution_count": null,
   "metadata": {},
   "outputs": [],
   "source": [
    "id_use_cancer=list(set(id_cancer).difference(set(repeat)))"
   ]
  },
  {
   "cell_type": "code",
   "execution_count": null,
   "metadata": {},
   "outputs": [],
   "source": [
    "id_use=list(set(id_use_cancer).intersection(set(id_sur)))"
   ]
  },
  {
   "cell_type": "code",
   "execution_count": null,
   "metadata": {},
   "outputs": [],
   "source": [
    "data_exp=pd.read_csv(\"E:\\\\project\\\\Expression profile\\\\1_gene_lnc\\\\LUAD\\\\gene_cancer_exp.txt\",header=None,sep=\"\\t\",index_col=0)"
   ]
  },
  {
   "cell_type": "code",
   "execution_count": null,
   "metadata": {},
   "outputs": [],
   "source": [
    "data_exp.columns=id_cancer"
   ]
  },
  {
   "cell_type": "code",
   "execution_count": null,
   "metadata": {},
   "outputs": [],
   "source": [
    "data_exp.head(3)"
   ]
  },
  {
   "cell_type": "code",
   "execution_count": null,
   "metadata": {},
   "outputs": [],
   "source": [
    "data_exp_sur=data_exp[id_use]"
   ]
  },
  {
   "cell_type": "code",
   "execution_count": null,
   "metadata": {},
   "outputs": [],
   "source": [
    "data_exp_sur.head(3)"
   ]
  },
  {
   "cell_type": "code",
   "execution_count": null,
   "metadata": {},
   "outputs": [],
   "source": [
    "data_exp_sur.loc[ensg][\"TCGA-55-7995\"]"
   ]
  },
  {
   "cell_type": "code",
   "execution_count": null,
   "metadata": {},
   "outputs": [],
   "source": [
    "median_v=np.median(data_exp_sur.loc[ensg].tolist())\n",
    "median_v"
   ]
  },
  {
   "cell_type": "code",
   "execution_count": null,
   "metadata": {},
   "outputs": [],
   "source": [
    "os=[]\n",
    "event=[]\n",
    "stage=[]"
   ]
  },
  {
   "cell_type": "code",
   "execution_count": null,
   "metadata": {},
   "outputs": [],
   "source": [
    "for ww in id_use:\n",
    "    if math.isnan(survival_infor.loc[ww][\"days_to_last_follow_up\"]):\n",
    "        os.append(survival_infor.loc[ww][\"days_to_death\"])\n",
    "    else:\n",
    "        os.append(survival_infor.loc[ww][\"days_to_last_follow_up\"])\n",
    "    if survival_infor.loc[ww][\"vital_status\"]==\"alive\":\n",
    "        event.append(0)\n",
    "    else:\n",
    "        event.append(1)\n",
    "    if data_exp_sur.loc[ensg][ww] >median_v:\n",
    "        stage.append(\"high\")\n",
    "    else:\n",
    "        stage.append(\"low\")"
   ]
  },
  {
   "cell_type": "code",
   "execution_count": null,
   "metadata": {},
   "outputs": [],
   "source": [
    "surv_data_plot=pd.DataFrame()"
   ]
  },
  {
   "cell_type": "code",
   "execution_count": null,
   "metadata": {},
   "outputs": [],
   "source": [
    "surv_data_plot[\"samples\"]=id_use\n",
    "surv_data_plot[\"os\"]=os\n",
    "surv_data_plot[\"event\"]=event\n",
    "surv_data_plot[\"stage\"]=stage"
   ]
  },
  {
   "cell_type": "code",
   "execution_count": null,
   "metadata": {},
   "outputs": [],
   "source": [
    "surv_data_plot.head(3)"
   ]
  },
  {
   "cell_type": "code",
   "execution_count": null,
   "metadata": {},
   "outputs": [],
   "source": [
    "surv_data_plot.to_csv(\"E:\\\\project\\\\singcells\\\\6_survival\\\\LUAD_HNRNPK\\\\LUAD_HNRNPK_survival.txt\",header=True,index=False,sep=\"\\t\")"
   ]
  },
  {
   "cell_type": "code",
   "execution_count": null,
   "metadata": {},
   "outputs": [],
   "source": [
    "cancer_sample[0].tolist()[1:3]\n",
    "id_use[1:3]"
   ]
  },
  {
   "cell_type": "code",
   "execution_count": null,
   "metadata": {},
   "outputs": [],
   "source": []
  }
 ],
 "metadata": {
  "kernelspec": {
   "display_name": "Python 3",
   "language": "python",
   "name": "python3"
  },
  "language_info": {
   "codemirror_mode": {
    "name": "ipython",
    "version": 3
   },
   "file_extension": ".py",
   "mimetype": "text/x-python",
   "name": "python",
   "nbconvert_exporter": "python",
   "pygments_lexer": "ipython3",
   "version": "3.6.5"
  }
 },
 "nbformat": 4,
 "nbformat_minor": 2
}
