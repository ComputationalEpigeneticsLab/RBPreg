{
 "cells": [
  {
   "cell_type": "code",
   "execution_count": null,
   "metadata": {},
   "outputs": [],
   "source": [
    "import matplotlib.pyplot as plt\n",
    "import numpy as np ,pandas as pd\n",
    "from collections import OrderedDict,Counter\n",
    "import os\n",
    "import statsmodels.stats.multitest as multi\n",
    "import scipy.stats as stats\n",
    "from collections import Counter\n",
    "from IPython.core.interactiveshell import InteractiveShell\n",
    "InteractiveShell.ast_node_interactivity=\"all\"\n",
    "import math\n",
    "\n",
    "dir=\"E:\\\\project\\\\singcells\\\\SCENIC\\\\jt_4cancer_scenic_result\\\\SCENIC\\\\jt_4_cancer\\\\all\\\\\"\n",
    "\n",
    "scenic_re_data=pd.read_csv(dir+\"4_cancer_cancer_cell_regulons.csv\",header=0,sep=\",\",index_col=0)"
   ]
  },
  {
   "cell_type": "code",
   "execution_count": null,
   "metadata": {},
   "outputs": [],
   "source": [
    "dir1=\"E:\\\\project\\\\singcells\\\\2_A\\\\\""
   ]
  },
  {
   "cell_type": "code",
   "execution_count": null,
   "metadata": {},
   "outputs": [],
   "source": [
    "scenic_re_data.head(3)"
   ]
  },
  {
   "cell_type": "code",
   "execution_count": null,
   "metadata": {},
   "outputs": [],
   "source": [
    "sum(scenic_re_data[\"regulon_num\"])"
   ]
  },
  {
   "cell_type": "code",
   "execution_count": null,
   "metadata": {},
   "outputs": [],
   "source": [
    "data=pd.read_excel(dir+\"4_cancer_regulons_infor.xlsx\",header=0,index_col=0)"
   ]
  },
  {
   "cell_type": "code",
   "execution_count": null,
   "metadata": {
    "scrolled": true
   },
   "outputs": [],
   "source": [
    "data.head(3)\n",
    "data.shape"
   ]
  },
  {
   "cell_type": "code",
   "execution_count": null,
   "metadata": {},
   "outputs": [],
   "source": [
    "cancers=[]\n",
    "celltypes=[]\n",
    "for ww in scenic_re_data.index.tolist():\n",
    "    cancers.append(ww.split(\"/\")[0])\n",
    "    celltypes.append(ww.split(\"/\")[1])"
   ]
  },
  {
   "cell_type": "code",
   "execution_count": null,
   "metadata": {},
   "outputs": [],
   "source": [
    "scenic_re_data[\"cancers\"]=cancers\n",
    "scenic_re_data[\"celltypes\"]=celltypes"
   ]
  },
  {
   "cell_type": "code",
   "execution_count": null,
   "metadata": {},
   "outputs": [],
   "source": [
    "scenic_re_data[[\"cancers\",\"celltypes\",\"regulon_num\",\"regulons\"]].to_csv(dir1+\"cancer_regulon_num.txt\",header=True,index=True,sep=\"\\t\")"
   ]
  },
  {
   "cell_type": "code",
   "execution_count": null,
   "metadata": {
    "scrolled": true
   },
   "outputs": [],
   "source": [
    "scenic_re_data.head(3)"
   ]
  },
  {
   "cell_type": "code",
   "execution_count": null,
   "metadata": {},
   "outputs": [],
   "source": [
    "c_t=[]\n",
    "num=[]\n",
    "c_s=[]\n",
    "\n",
    "for ct0 in list(set(celltypes)):\n",
    "    df0=scenic_re_data[scenic_re_data[\"celltypes\"]==ct0]\n",
    "\n",
    "\n",
    "    c_t.append(ct0)\n",
    "    c_t.append(ct0)\n",
    "    c_t.append(ct0)\n",
    "    c_t.append(ct0)\n",
    "    c_s.append(\"BC\")\n",
    "    c_s.append(\"CRC\")\n",
    "    c_s.append(\"LC\")\n",
    "    c_s.append(\"OvC\")\n",
    "\n",
    "    if \"BC\" in df0[\"cancers\"].tolist():\n",
    "        num.append(df0[df0[\"cancers\"]==\"BC\"][\"regulon_num\"][0])\n",
    "    else:\n",
    "        num.append(0)\n",
    "\n",
    "    if \"CRC\" in df0[\"cancers\"].tolist():\n",
    "        num.append(df0[df0[\"cancers\"]==\"CRC\"][\"regulon_num\"][0])\n",
    "    else:\n",
    "        num.append(0)\n",
    "\n",
    "    if \"LC\" in df0[\"cancers\"].tolist():\n",
    "        num.append(df0[df0[\"cancers\"]==\"LC\"][\"regulon_num\"][0])\n",
    "    else:\n",
    "        num.append(0)\n",
    "\n",
    "    if \"OvC\" in df0[\"cancers\"].tolist():\n",
    "        num.append(df0[df0[\"cancers\"]==\"OvC\"][\"regulon_num\"][0])\n",
    "    else:\n",
    "        num.append(0)"
   ]
  },
  {
   "cell_type": "code",
   "execution_count": null,
   "metadata": {},
   "outputs": [],
   "source": [
    "plot_df1=pd.DataFrame()\n",
    "\n",
    "plot_df1[\"celltype\"]=c_t\n",
    "plot_df1[\"num\"]=num\n",
    "plot_df1[\"cancers\"]=c_s"
   ]
  },
  {
   "cell_type": "code",
   "execution_count": null,
   "metadata": {},
   "outputs": [],
   "source": [
    "plot_df1.shape"
   ]
  },
  {
   "cell_type": "code",
   "execution_count": null,
   "metadata": {},
   "outputs": [],
   "source": [
    "plot_df1.to_csv(dir1+\"3_regulons_num\\\\plot_data.txt\",header=True,sep=\"\\t\",index=False)"
   ]
  },
  {
   "cell_type": "code",
   "execution_count": null,
   "metadata": {},
   "outputs": [],
   "source": [
    "list(set(celltypes))"
   ]
  },
  {
   "cell_type": "code",
   "execution_count": null,
   "metadata": {},
   "outputs": [],
   "source": []
  }
 ],
 "metadata": {
  "kernelspec": {
   "display_name": "Python [conda env:root] *",
   "language": "python",
   "name": "conda-root-py"
  },
  "language_info": {
   "codemirror_mode": {
    "name": "ipython",
    "version": 3
   },
   "file_extension": ".py",
   "mimetype": "text/x-python",
   "name": "python",
   "nbconvert_exporter": "python",
   "pygments_lexer": "ipython3",
   "version": "3.6.5"
  }
 },
 "nbformat": 4,
 "nbformat_minor": 2
}
