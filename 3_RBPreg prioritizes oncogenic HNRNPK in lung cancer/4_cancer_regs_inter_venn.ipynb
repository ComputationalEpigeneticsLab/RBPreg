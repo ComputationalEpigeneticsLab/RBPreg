{
 "cells": [
  {
   "cell_type": "code",
   "execution_count": 1,
   "id": "427fb0d0",
   "metadata": {},
   "outputs": [],
   "source": [
    "import matplotlib.pyplot as plt\n",
    "import numpy as np ,pandas as pd\n",
    "from collections import OrderedDict,Counter\n",
    "import os\n",
    "import statsmodels.stats.multitest as multi\n",
    "import scipy.stats as stats\n",
    "from collections import Counter\n",
    "from IPython.core.interactiveshell import InteractiveShell\n",
    "InteractiveShell.ast_node_interactivity=\"all\"\n",
    "import math"
   ]
  },
  {
   "cell_type": "code",
   "execution_count": 2,
   "id": "30adbc4f",
   "metadata": {},
   "outputs": [],
   "source": [
    "dir=\"E:\\\\project\\\\singcells\\\\1_diff_exper_analysis\\\\differ-analyse\\\\DE-single\\\\\"\n"
   ]
  },
  {
   "cell_type": "code",
   "execution_count": 3,
   "id": "3e4b46ab",
   "metadata": {},
   "outputs": [],
   "source": [
    "df=pd.read_csv(dir+\"DEsingle_regs_differ_analyse_re.txt\",header=0,sep=\"\\t\")"
   ]
  },
  {
   "cell_type": "code",
   "execution_count": 4,
   "id": "a53b183a",
   "metadata": {},
   "outputs": [
    {
     "data": {
      "text/html": [
       "<div>\n",
       "<style scoped>\n",
       "    .dataframe tbody tr th:only-of-type {\n",
       "        vertical-align: middle;\n",
       "    }\n",
       "\n",
       "    .dataframe tbody tr th {\n",
       "        vertical-align: top;\n",
       "    }\n",
       "\n",
       "    .dataframe thead th {\n",
       "        text-align: right;\n",
       "    }\n",
       "</style>\n",
       "<table border=\"1\" class=\"dataframe\">\n",
       "  <thead>\n",
       "    <tr style=\"text-align: right;\">\n",
       "      <th></th>\n",
       "      <th>gene</th>\n",
       "      <th>cancer</th>\n",
       "      <th>cell</th>\n",
       "      <th>total_mean_1</th>\n",
       "      <th>total_mean_2</th>\n",
       "      <th>foldChange</th>\n",
       "      <th>pvalue</th>\n",
       "      <th>pvalue.adj.FDR</th>\n",
       "      <th>Type</th>\n",
       "      <th>State</th>\n",
       "    </tr>\n",
       "  </thead>\n",
       "  <tbody>\n",
       "    <tr>\n",
       "      <th>0</th>\n",
       "      <td>RBMS1</td>\n",
       "      <td>BC</td>\n",
       "      <td>B_cell</td>\n",
       "      <td>0.107210</td>\n",
       "      <td>0.398506</td>\n",
       "      <td>0.269030</td>\n",
       "      <td>0.000000</td>\n",
       "      <td>0.000000</td>\n",
       "      <td>DEg</td>\n",
       "      <td>down</td>\n",
       "    </tr>\n",
       "    <tr>\n",
       "      <th>1</th>\n",
       "      <td>TRA2B</td>\n",
       "      <td>BC</td>\n",
       "      <td>B_cell</td>\n",
       "      <td>0.514911</td>\n",
       "      <td>0.503151</td>\n",
       "      <td>1.023374</td>\n",
       "      <td>0.000084</td>\n",
       "      <td>0.000132</td>\n",
       "      <td>DEg</td>\n",
       "      <td>up</td>\n",
       "    </tr>\n",
       "    <tr>\n",
       "      <th>2</th>\n",
       "      <td>DDX58</td>\n",
       "      <td>BC</td>\n",
       "      <td>B_cell</td>\n",
       "      <td>0.111740</td>\n",
       "      <td>0.149152</td>\n",
       "      <td>0.749173</td>\n",
       "      <td>0.227987</td>\n",
       "      <td>0.247529</td>\n",
       "      <td>NaN</td>\n",
       "      <td>stable</td>\n",
       "    </tr>\n",
       "  </tbody>\n",
       "</table>\n",
       "</div>"
      ],
      "text/plain": [
       "    gene cancer    cell  total_mean_1  total_mean_2  foldChange    pvalue  \\\n",
       "0  RBMS1     BC  B_cell      0.107210      0.398506    0.269030  0.000000   \n",
       "1  TRA2B     BC  B_cell      0.514911      0.503151    1.023374  0.000084   \n",
       "2  DDX58     BC  B_cell      0.111740      0.149152    0.749173  0.227987   \n",
       "\n",
       "   pvalue.adj.FDR Type   State  \n",
       "0        0.000000  DEg    down  \n",
       "1        0.000132  DEg      up  \n",
       "2        0.247529  NaN  stable  "
      ]
     },
     "execution_count": 4,
     "metadata": {},
     "output_type": "execute_result"
    }
   ],
   "source": [
    "df.head(3)"
   ]
  },
  {
   "cell_type": "code",
   "execution_count": 123,
   "id": "7f031ef7",
   "metadata": {},
   "outputs": [],
   "source": [
    "df_cancer=df[df[\"cell\"]==\"Cancer\"]\n"
   ]
  },
  {
   "cell_type": "code",
   "execution_count": 124,
   "id": "be536988",
   "metadata": {},
   "outputs": [],
   "source": [
    "up_cancer_regs=[]\n",
    "for ind,cols in df_cancer[df_cancer[\"State\"]==\"up\"].iterrows():\n",
    "    up_cancer_regs.append(cols[0]+\"_\"+cols[1])\n",
    "up_cancer_regs=list(set(up_cancer_regs))"
   ]
  },
  {
   "cell_type": "code",
   "execution_count": 125,
   "id": "1aad0de6",
   "metadata": {},
   "outputs": [
    {
     "data": {
      "text/plain": [
       "45"
      ]
     },
     "execution_count": 125,
     "metadata": {},
     "output_type": "execute_result"
    }
   ],
   "source": [
    "len(up_cancer_regs)"
   ]
  },
  {
   "cell_type": "code",
   "execution_count": 126,
   "id": "79aca280",
   "metadata": {},
   "outputs": [],
   "source": [
    "df_T_cell=df[df[\"cell\"]==\"T_cell\"]\n"
   ]
  },
  {
   "cell_type": "code",
   "execution_count": 127,
   "id": "1a1cadad",
   "metadata": {},
   "outputs": [
    {
     "data": {
      "text/plain": [
       "40"
      ]
     },
     "execution_count": 127,
     "metadata": {},
     "output_type": "execute_result"
    }
   ],
   "source": [
    "down_Tcell_regs=[]\n",
    "for ind,cols in df_T_cell[df_T_cell[\"State\"]==\"down\"].iterrows():\n",
    "    down_Tcell_regs.append(cols[0]+\"_\"+cols[1])\n",
    "down_Tcell_regs=list(set(down_Tcell_regs))\n",
    "len(down_Tcell_regs)"
   ]
  },
  {
   "cell_type": "code",
   "execution_count": 128,
   "id": "f5fb361f",
   "metadata": {
    "scrolled": true
   },
   "outputs": [],
   "source": [
    "df_B_cell=df[df[\"cell\"]==\"B_cell\"]\n"
   ]
  },
  {
   "cell_type": "code",
   "execution_count": 129,
   "id": "2ac4cb4a",
   "metadata": {},
   "outputs": [
    {
     "data": {
      "text/plain": [
       "35"
      ]
     },
     "execution_count": 129,
     "metadata": {},
     "output_type": "execute_result"
    }
   ],
   "source": [
    "down_Bcell_regs=[]\n",
    "for ind,cols in df_B_cell[df_B_cell[\"State\"]==\"down\"].iterrows():\n",
    "    down_Bcell_regs.append(cols[0]+\"_\"+cols[1])\n",
    "down_Bcell_regs=list(set(down_Bcell_regs))\n",
    "len(down_Bcell_regs)"
   ]
  },
  {
   "cell_type": "code",
   "execution_count": 130,
   "id": "1e4cdef0",
   "metadata": {},
   "outputs": [
    {
     "data": {
      "text/plain": [
       "['HNRNPH1_CRC', 'MBNL1_CRC']"
      ]
     },
     "execution_count": 130,
     "metadata": {},
     "output_type": "execute_result"
    }
   ],
   "source": [
    "down_Bcell_regs[1:3]"
   ]
  },
  {
   "cell_type": "code",
   "execution_count": 131,
   "id": "9acb8012",
   "metadata": {},
   "outputs": [],
   "source": [
    "%%capture\n",
    "w=open(dir+\"venn//up_cancer_regs.txt\",\"w\")\n",
    "for ww in up_cancer_regs:\n",
    "    w.write(ww+\"\\n\")\n",
    "w.close()\n",
    "\n",
    "w=open(dir+\"venn//down_Tcell_regs.txt\",\"w\")\n",
    "for ww in down_Tcell_regs:\n",
    "    w.write(ww+\"\\n\")\n",
    "w.close()\n",
    "\n",
    "w=open(dir+\"venn//down_Bcell_regs.txt\",\"w\")\n",
    "for ww in down_Bcell_regs:\n",
    "    w.write(ww+\"\\n\")\n",
    "w.close()"
   ]
  },
  {
   "cell_type": "code",
   "execution_count": 132,
   "id": "920917b6",
   "metadata": {},
   "outputs": [
    {
     "data": {
      "text/plain": [
       "19"
      ]
     },
     "execution_count": 132,
     "metadata": {},
     "output_type": "execute_result"
    }
   ],
   "source": [
    "upCancer_downTcell_inter=list(set(down_Tcell_regs).intersection(set(up_cancer_regs)))\n",
    "len(upCancer_downTcell_inter)"
   ]
  },
  {
   "cell_type": "code",
   "execution_count": 133,
   "id": "bb1c7f2e",
   "metadata": {},
   "outputs": [
    {
     "data": {
      "text/plain": [
       "17"
      ]
     },
     "execution_count": 133,
     "metadata": {},
     "output_type": "execute_result"
    }
   ],
   "source": [
    "upCancer_downBcell_inter=list(set(down_Bcell_regs).intersection(set(up_cancer_regs)))\n",
    "len(upCancer_downBcell_inter)"
   ]
  },
  {
   "cell_type": "code",
   "execution_count": 134,
   "id": "86a3bc88",
   "metadata": {},
   "outputs": [],
   "source": [
    "upCancer_downBcell_downTcell_inter=list(set(upCancer_downTcell_inter).intersection(set(upCancer_downBcell_inter)))"
   ]
  },
  {
   "cell_type": "code",
   "execution_count": 135,
   "id": "5516fc80",
   "metadata": {
    "scrolled": true
   },
   "outputs": [
    {
     "data": {
      "text/plain": [
       "9"
      ]
     },
     "execution_count": 135,
     "metadata": {},
     "output_type": "execute_result"
    },
    {
     "data": {
      "text/plain": [
       "['TIAL1_OvC',\n",
       " 'HNRNPH1_CRC',\n",
       " 'HNRNPF_OvC',\n",
       " 'PCBP2_OvC',\n",
       " 'TIAL1_LC',\n",
       " 'HNRNPH3_LC',\n",
       " 'SFPQ_OvC',\n",
       " 'HNRNPH1_OvC',\n",
       " 'HNRNPK_LC']"
      ]
     },
     "execution_count": 135,
     "metadata": {},
     "output_type": "execute_result"
    }
   ],
   "source": [
    "len(upCancer_downBcell_downTcell_inter)\n",
    "upCancer_downBcell_downTcell_inter\n"
   ]
  },
  {
   "cell_type": "code",
   "execution_count": null,
   "id": "cf5c8193",
   "metadata": {},
   "outputs": [],
   "source": []
  },
  {
   "cell_type": "code",
   "execution_count": null,
   "id": "3531107a",
   "metadata": {},
   "outputs": [],
   "source": []
  }
 ],
 "metadata": {
  "kernelspec": {
   "display_name": "Python 3",
   "language": "python",
   "name": "python3"
  },
  "language_info": {
   "codemirror_mode": {
    "name": "ipython",
    "version": 3
   },
   "file_extension": ".py",
   "mimetype": "text/x-python",
   "name": "python",
   "nbconvert_exporter": "python",
   "pygments_lexer": "ipython3",
   "version": "3.8.8"
  }
 },
 "nbformat": 4,
 "nbformat_minor": 5
}
