{
 "cells": [
  {
   "cell_type": "code",
   "execution_count": 1,
   "id": "dc6770e7",
   "metadata": {},
   "outputs": [],
   "source": [
    "import matplotlib.pyplot as plt\n",
    "import numpy as np ,pandas as pd\n",
    "from collections import OrderedDict,Counter\n",
    "import os\n",
    "import statsmodels.stats.multitest as multi\n",
    "import scipy.stats as stats\n",
    "from collections import Counter\n",
    "from IPython.core.interactiveshell import InteractiveShell\n",
    "InteractiveShell.ast_node_interactivity=\"all\"\n",
    "import math"
   ]
  },
  {
   "cell_type": "code",
   "execution_count": 2,
   "id": "88eddaeb",
   "metadata": {},
   "outputs": [],
   "source": [
    "from scipy.stats import mannwhitneyu"
   ]
  },
  {
   "cell_type": "code",
   "execution_count": 3,
   "id": "42134348",
   "metadata": {},
   "outputs": [],
   "source": [
    "dir=\"E:\\\\project\\\\singcells\\\\SCENIC\\\\jt_4cancer_scenic_result\\\\4_cancer_sc_RNA_Rdata\\\\bc\\\\\"\n",
    "dir1=\"E:\\\\project\\\\singcells\\\\scRNA_data\\\\jt_pan-cancer blueprint microenvironment single-cell profiling\\\\\""
   ]
  },
  {
   "cell_type": "code",
   "execution_count": 4,
   "id": "f1c11003",
   "metadata": {},
   "outputs": [],
   "source": [
    "bc=pd.read_csv(dir1+\"BC_counts\\\\bc_matrix_org.txt\",header=0,sep=\"\\t\",nrows=10)"
   ]
  },
  {
   "cell_type": "code",
   "execution_count": 5,
   "id": "aa5dacfe",
   "metadata": {},
   "outputs": [],
   "source": [
    "bc_celltype=pd.read_csv(dir1+\"BC_counts\\\\BC_metadata.csv\",header=0)"
   ]
  },
  {
   "cell_type": "code",
   "execution_count": 6,
   "id": "4d5682e2",
   "metadata": {},
   "outputs": [],
   "source": [
    "bc_mannwhitneyu_re=pd.DataFrame()"
   ]
  },
  {
   "cell_type": "code",
   "execution_count": 7,
   "id": "bcb346d8",
   "metadata": {},
   "outputs": [],
   "source": [
    "genes=bc.index.tolist()\n",
    "celltypes=list(set(bc_celltype[\"CellType\"]))"
   ]
  },
  {
   "cell_type": "code",
   "execution_count": 8,
   "id": "edc99e4d",
   "metadata": {},
   "outputs": [],
   "source": [
    "bc_mannwhitneyu_re[\"gene\"]=genes"
   ]
  },
  {
   "cell_type": "code",
   "execution_count": 47,
   "id": "c41bb83d",
   "metadata": {},
   "outputs": [],
   "source": [
    "for ct0 in celltypes:\n",
    "    p_ct0=[]\n",
    "    ct0_sy=bc_celltype[bc_celltype[\"CellType\"]==ct0].Cell.tolist()\n",
    "    ct0_other=bc_celltype[bc_celltype[\"CellType\"]!=ct0].Cell.tolist()\n",
    "\n",
    "    for g0 in genes:\n",
    "        g0_ct0_exp=bc.loc[g0,ct0_sy].tolist()\n",
    "        g0_ct0_exp_other=bc.loc[g0,ct0_other].tolist()\n",
    "        U1, p = mannwhitneyu(g0_ct0_exp, g0_ct0_exp_other, alternative=\"greater\")\n",
    "        p_ct0.append(p)\n",
    "    bc_mannwhitneyu_re[ct0+\"_p\"]=p_ct0"
   ]
  },
  {
   "cell_type": "code",
   "execution_count": 49,
   "id": "63954645",
   "metadata": {
    "collapsed": true
   },
   "outputs": [
    {
     "ename": "FileNotFoundError",
     "evalue": "[Errno 2] No such file or directory: 'E:\\\\project\\\\singcells\\\\SCENIC\\\\jt_4cancer_scenic_result\\\\4_cancer_sc_RNA_Rdata\\\\bc\\\\'",
     "output_type": "error",
     "traceback": [
      "\u001b[1;31m---------------------------------------------------------------------------\u001b[0m",
      "\u001b[1;31mFileNotFoundError\u001b[0m                         Traceback (most recent call last)",
      "\u001b[1;32m~\\AppData\\Local\\Temp/ipykernel_8508/2564391537.py\u001b[0m in \u001b[0;36m<module>\u001b[1;34m\u001b[0m\n\u001b[1;32m----> 1\u001b[1;33m \u001b[0mbc_mannwhitneyu_re\u001b[0m\u001b[1;33m.\u001b[0m\u001b[0mto_csv\u001b[0m\u001b[1;33m(\u001b[0m\u001b[0mdir\u001b[0m\u001b[1;33m+\u001b[0m\u001b[1;34m\"\"\u001b[0m\u001b[1;33m)\u001b[0m\u001b[1;33m\u001b[0m\u001b[1;33m\u001b[0m\u001b[0m\n\u001b[0m",
      "\u001b[1;32mD:\\soft\\Anaconda3\\conda\\envs\\py37\\lib\\site-packages\\pandas\\core\\generic.py\u001b[0m in \u001b[0;36mto_csv\u001b[1;34m(self, path_or_buf, sep, na_rep, float_format, columns, header, index, index_label, mode, encoding, compression, quoting, quotechar, line_terminator, chunksize, date_format, doublequote, escapechar, decimal, errors, storage_options)\u001b[0m\n\u001b[0;32m   3480\u001b[0m             \u001b[0mdoublequote\u001b[0m\u001b[1;33m=\u001b[0m\u001b[0mdoublequote\u001b[0m\u001b[1;33m,\u001b[0m\u001b[1;33m\u001b[0m\u001b[1;33m\u001b[0m\u001b[0m\n\u001b[0;32m   3481\u001b[0m             \u001b[0mescapechar\u001b[0m\u001b[1;33m=\u001b[0m\u001b[0mescapechar\u001b[0m\u001b[1;33m,\u001b[0m\u001b[1;33m\u001b[0m\u001b[1;33m\u001b[0m\u001b[0m\n\u001b[1;32m-> 3482\u001b[1;33m             \u001b[0mstorage_options\u001b[0m\u001b[1;33m=\u001b[0m\u001b[0mstorage_options\u001b[0m\u001b[1;33m,\u001b[0m\u001b[1;33m\u001b[0m\u001b[1;33m\u001b[0m\u001b[0m\n\u001b[0m\u001b[0;32m   3483\u001b[0m         )\n\u001b[0;32m   3484\u001b[0m \u001b[1;33m\u001b[0m\u001b[0m\n",
      "\u001b[1;32mD:\\soft\\Anaconda3\\conda\\envs\\py37\\lib\\site-packages\\pandas\\io\\formats\\format.py\u001b[0m in \u001b[0;36mto_csv\u001b[1;34m(self, path_or_buf, encoding, sep, columns, index_label, mode, compression, quoting, quotechar, line_terminator, chunksize, date_format, doublequote, escapechar, errors, storage_options)\u001b[0m\n\u001b[0;32m   1103\u001b[0m             \u001b[0mformatter\u001b[0m\u001b[1;33m=\u001b[0m\u001b[0mself\u001b[0m\u001b[1;33m.\u001b[0m\u001b[0mfmt\u001b[0m\u001b[1;33m,\u001b[0m\u001b[1;33m\u001b[0m\u001b[1;33m\u001b[0m\u001b[0m\n\u001b[0;32m   1104\u001b[0m         )\n\u001b[1;32m-> 1105\u001b[1;33m         \u001b[0mcsv_formatter\u001b[0m\u001b[1;33m.\u001b[0m\u001b[0msave\u001b[0m\u001b[1;33m(\u001b[0m\u001b[1;33m)\u001b[0m\u001b[1;33m\u001b[0m\u001b[1;33m\u001b[0m\u001b[0m\n\u001b[0m\u001b[0;32m   1106\u001b[0m \u001b[1;33m\u001b[0m\u001b[0m\n\u001b[0;32m   1107\u001b[0m         \u001b[1;32mif\u001b[0m \u001b[0mcreated_buffer\u001b[0m\u001b[1;33m:\u001b[0m\u001b[1;33m\u001b[0m\u001b[1;33m\u001b[0m\u001b[0m\n",
      "\u001b[1;32mD:\\soft\\Anaconda3\\conda\\envs\\py37\\lib\\site-packages\\pandas\\io\\formats\\csvs.py\u001b[0m in \u001b[0;36msave\u001b[1;34m(self)\u001b[0m\n\u001b[0;32m    241\u001b[0m             \u001b[0merrors\u001b[0m\u001b[1;33m=\u001b[0m\u001b[0mself\u001b[0m\u001b[1;33m.\u001b[0m\u001b[0merrors\u001b[0m\u001b[1;33m,\u001b[0m\u001b[1;33m\u001b[0m\u001b[1;33m\u001b[0m\u001b[0m\n\u001b[0;32m    242\u001b[0m             \u001b[0mcompression\u001b[0m\u001b[1;33m=\u001b[0m\u001b[0mself\u001b[0m\u001b[1;33m.\u001b[0m\u001b[0mcompression\u001b[0m\u001b[1;33m,\u001b[0m\u001b[1;33m\u001b[0m\u001b[1;33m\u001b[0m\u001b[0m\n\u001b[1;32m--> 243\u001b[1;33m             \u001b[0mstorage_options\u001b[0m\u001b[1;33m=\u001b[0m\u001b[0mself\u001b[0m\u001b[1;33m.\u001b[0m\u001b[0mstorage_options\u001b[0m\u001b[1;33m,\u001b[0m\u001b[1;33m\u001b[0m\u001b[1;33m\u001b[0m\u001b[0m\n\u001b[0m\u001b[0;32m    244\u001b[0m         ) as handles:\n\u001b[0;32m    245\u001b[0m \u001b[1;33m\u001b[0m\u001b[0m\n",
      "\u001b[1;32mD:\\soft\\Anaconda3\\conda\\envs\\py37\\lib\\site-packages\\pandas\\io\\common.py\u001b[0m in \u001b[0;36mget_handle\u001b[1;34m(path_or_buf, mode, encoding, compression, memory_map, is_text, errors, storage_options)\u001b[0m\n\u001b[0;32m    705\u001b[0m                 \u001b[0mencoding\u001b[0m\u001b[1;33m=\u001b[0m\u001b[0mioargs\u001b[0m\u001b[1;33m.\u001b[0m\u001b[0mencoding\u001b[0m\u001b[1;33m,\u001b[0m\u001b[1;33m\u001b[0m\u001b[1;33m\u001b[0m\u001b[0m\n\u001b[0;32m    706\u001b[0m                 \u001b[0merrors\u001b[0m\u001b[1;33m=\u001b[0m\u001b[0merrors\u001b[0m\u001b[1;33m,\u001b[0m\u001b[1;33m\u001b[0m\u001b[1;33m\u001b[0m\u001b[0m\n\u001b[1;32m--> 707\u001b[1;33m                 \u001b[0mnewline\u001b[0m\u001b[1;33m=\u001b[0m\u001b[1;34m\"\"\u001b[0m\u001b[1;33m,\u001b[0m\u001b[1;33m\u001b[0m\u001b[1;33m\u001b[0m\u001b[0m\n\u001b[0m\u001b[0;32m    708\u001b[0m             )\n\u001b[0;32m    709\u001b[0m         \u001b[1;32melse\u001b[0m\u001b[1;33m:\u001b[0m\u001b[1;33m\u001b[0m\u001b[1;33m\u001b[0m\u001b[0m\n",
      "\u001b[1;31mFileNotFoundError\u001b[0m: [Errno 2] No such file or directory: 'E:\\\\project\\\\singcells\\\\SCENIC\\\\jt_4cancer_scenic_result\\\\4_cancer_sc_RNA_Rdata\\\\bc\\\\'"
     ]
    }
   ],
   "source": [
    "bc_mannwhitneyu_re.to_csv(dir+\"bc_mannwhitneyu_re.txt\",header=True,sep=\"\\t\",index=False)"
   ]
  },
  {
   "cell_type": "code",
   "execution_count": 9,
   "id": "7cea63b8",
   "metadata": {},
   "outputs": [],
   "source": [
    "ct0=celltypes[0]\n",
    "p_ct0=[]\n",
    "ct0_sy=bc_celltype[bc_celltype[\"CellType\"]==ct0].Cell.tolist()\n",
    "ct0_other=bc_celltype[bc_celltype[\"CellType\"]!=ct0].Cell.tolist()"
   ]
  },
  {
   "cell_type": "code",
   "execution_count": 10,
   "id": "3493e0ff",
   "metadata": {},
   "outputs": [],
   "source": [
    "g0=genes[0]\n",
    "g0_ct0_exp=bc.loc[g0,ct0_sy].tolist()\n",
    "g0_ct0_exp_other=bc.loc[g0,ct0_other].tolist()\n",
    "U1, p = mannwhitneyu(g0_ct0_exp, g0_ct0_exp_other, alternative=\"greater\")"
   ]
  },
  {
   "cell_type": "code",
   "execution_count": 11,
   "id": "34d7f12c",
   "metadata": {},
   "outputs": [
    {
     "data": {
      "text/plain": [
       "(7923564.0, 0.5808269679638911)"
      ]
     },
     "execution_count": 11,
     "metadata": {},
     "output_type": "execute_result"
    }
   ],
   "source": [
    "U1, p "
   ]
  },
  {
   "cell_type": "code",
   "execution_count": 12,
   "id": "66be9e49",
   "metadata": {},
   "outputs": [
    {
     "data": {
      "text/plain": [
       "0.0"
      ]
     },
     "execution_count": 12,
     "metadata": {},
     "output_type": "execute_result"
    }
   ],
   "source": [
    "\n",
    "if np.mean(g0_ct0_exp_other)==0:\n",
    "    p=\"none\"\n",
    "else:\n",
    "    p=np.mean(g0_ct0_exp)/np.mean(g0_ct0_exp_other)"
   ]
  },
  {
   "cell_type": "code",
   "execution_count": null,
   "id": "2bc6a939",
   "metadata": {},
   "outputs": [],
   "source": [
    "#from scipy.stats import mannwhitneyu\n",
    "import numpy as np ,pandas as pd\n",
    "dir=\"/bioXJ/zhouww/SCENIC/scRNA/4_cancer_gene_wilcox/ovc/\"\n",
    "dir1=\"/bioXJ/zhouww/SCENIC/scRNA/4_cancer_jt/4_cancer_exp_mat_org/\"\n",
    "bc=pd.read_csv(dir1+\"ovc_matrix_org.txt\",header=0,sep=\"\\t\")\n",
    "bc_celltype=pd.read_csv(dir1+\"OvC_metadata.csv\",header=0)\n",
    "\n",
    "bc_mannwhitneyu_re=pd.DataFrame()\n",
    "genes=bc.index.tolist()\n",
    "celltypes=list(set(bc_celltype[\"CellType\"]))\n",
    "bc_mannwhitneyu_re[\"gene\"]=genes\n",
    "\n",
    "for ct0 in celltypes:\n",
    "    p_ct0=[]\n",
    "    ct0_sy=bc_celltype[bc_celltype[\"CellType\"]==ct0].Cell.tolist()\n",
    "    ct0_other=bc_celltype[bc_celltype[\"CellType\"]!=ct0].Cell.tolist()\n",
    "\n",
    "    for g0 in genes:\n",
    "        g0_ct0_exp=bc.loc[g0,ct0_sy].tolist()\n",
    "        g0_ct0_exp_other=bc.loc[g0,ct0_other].tolist()\n",
    "        #U1, p = mannwhitneyu(g0_ct0_exp, g0_ct0_exp_other, alternative=\"greater\")\n",
    "        if np.mean(g0_ct0_exp_other)==0:\n",
    "            p=\"none\"\n",
    "        else:\n",
    "            p=np.mean(g0_ct0_exp)/np.mean(g0_ct0_exp_other)\n",
    "        p_ct0.append(p)\n",
    "    bc_mannwhitneyu_re[ct0+\"_fc\"]=p_ct0\n",
    "bc_mannwhitneyu_re.to_csv(dir+\"ovc_fc_re.txt\",header=True,sep=\"\\t\",index=False)"
   ]
  }
 ],
 "metadata": {
  "kernelspec": {
   "display_name": "py37",
   "language": "python",
   "name": "py37"
  },
  "language_info": {
   "codemirror_mode": {
    "name": "ipython",
    "version": 3
   },
   "file_extension": ".py",
   "mimetype": "text/x-python",
   "name": "python",
   "nbconvert_exporter": "python",
   "pygments_lexer": "ipython3",
   "version": "3.7.11"
  }
 },
 "nbformat": 4,
 "nbformat_minor": 5
}
