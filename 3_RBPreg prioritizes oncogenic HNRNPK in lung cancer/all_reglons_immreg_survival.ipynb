{
 "cells": [
  {
   "cell_type": "code",
   "execution_count": null,
   "metadata": {},
   "outputs": [],
   "source": [
    "import matplotlib.pyplot as plt\n",
    "import numpy as np ,pandas as pd\n",
    "from collections import OrderedDict,Counter\n",
    "import os\n",
    "import statsmodels.stats.multitest as multi\n",
    "import scipy.stats as stats\n",
    "from collections import Counter\n",
    "from IPython.core.interactiveshell import InteractiveShell\n",
    "InteractiveShell.ast_node_interactivity=\"all\"\n",
    "import math"
   ]
  },
  {
   "cell_type": "code",
   "execution_count": null,
   "metadata": {},
   "outputs": [],
   "source": [
    "dir=\"E:\\\\project\\\\singcells\\\\1_diff_exper_analysis\\\\differ-analyse\\\\DE_tcga_fdr005_regulon_sta\\\\\"\n",
    "dir1=\"E:\\\\project\\\\singcells\\\\6_survival\\\\immreg_cancer_survival_infor\\\\\"\n",
    "dir2=\"E:\\\\project\\\\singcells\\\\6_survival\\\\\"\n",
    "dor3=\"E:\\\\project\\\\singcells\\\\1_diff_exper_analysis\\\\differ-analyse\\\\DE-single\\\\\""
   ]
  },
  {
   "cell_type": "code",
   "execution_count": null,
   "metadata": {},
   "outputs": [],
   "source": [
    "df_same=pd.read_csv(dor3+\"res_all.txt\",header=0,sep=\"\\t\")"
   ]
  },
  {
   "cell_type": "code",
   "execution_count": null,
   "metadata": {},
   "outputs": [],
   "source": [
    "df_same.head(3)\n",
    "set(df_same[\"cancer\"])"
   ]
  },
  {
   "cell_type": "code",
   "execution_count": null,
   "metadata": {},
   "outputs": [],
   "source": [
    "sy_ensg=pd.read_csv(\"E:\\\\project\\\\A_normal_infor\\\\geneID\\mRNA\\\\mRNA_unique.txt\",header=None,sep=\"\\t\",index_col=0)"
   ]
  },
  {
   "cell_type": "code",
   "execution_count": null,
   "metadata": {},
   "outputs": [],
   "source": [
    "brca=pd.read_csv(dir1+\"BRCA_all.txt\",header=0,index_col=0,sep=\"\\t\")\n",
    "coad=pd.read_csv(dir1+\"COAD_all.txt\",header=0,index_col=0,sep=\"\\t\")\n",
    "luad=pd.read_csv(dir1+\"LUAD_all.txt\",header=0,index_col=0,sep=\"\\t\")\n",
    "lusc=pd.read_csv(dir1+\"LUSC_all.txt\",header=0,index_col=0,sep=\"\\t\")\n",
    "ov=pd.read_csv(dir1+\"OV_all.txt\",header=0,index_col=0,sep=\"\\t\")"
   ]
  },
  {
   "cell_type": "code",
   "execution_count": null,
   "metadata": {},
   "outputs": [],
   "source": [
    "ov.head(3)"
   ]
  },
  {
   "cell_type": "code",
   "execution_count": null,
   "metadata": {},
   "outputs": [],
   "source": [
    "gene_name=[]\n",
    "cancer=[]\n",
    "cell=[]\n",
    "state=[]\n",
    "logrank_p=[]\n",
    "sig=[]"
   ]
  },
  {
   "cell_type": "code",
   "execution_count": null,
   "metadata": {},
   "outputs": [],
   "source": [
    "for ind,cols in df_same.iterrows():\n",
    "    \n",
    "    g0=cols[0]\n",
    "    #gene_name.append(g0)\n",
    "    if cols[1]==\"BC\":\n",
    "        gene_name.append(g0)\n",
    "        cancer.append(\"BRCA\")\n",
    "        cell.append(cols[2])\n",
    "        ensg=sy_ensg.loc[g0][1].split(\".\")[0]\n",
    "        risk=brca.loc[ensg][\"risk_low\"]\n",
    "        p=brca.loc[ensg][\"p_value\"]\n",
    "\n",
    "        if risk < 0:\n",
    "            state.append(\"risk\")\n",
    "        else:\n",
    "            state.append(\"protect\")\n",
    "\n",
    "        logrank_p.append(p)\n",
    "        if p<0.05:\n",
    "            sig.append(1)\n",
    "        else:\n",
    "            sig.append(0)\n",
    "    elif cols[1]==\"CRC\":\n",
    "        gene_name.append(g0)\n",
    "        cancer.append(\"COAD\")\n",
    "        cell.append(cols[2])\n",
    "        ensg=sy_ensg.loc[g0][1].split(\".\")[0]\n",
    "        risk=coad.loc[ensg][\"risk_low\"]\n",
    "        p=coad.loc[ensg][\"p_value\"]\n",
    "\n",
    "        if risk < 0:\n",
    "            state.append(\"risk\")\n",
    "        else:\n",
    "            state.append(\"protect\")\n",
    "\n",
    "        logrank_p.append(p)\n",
    "        if p<0.05:\n",
    "            sig.append(1)\n",
    "        else:\n",
    "            sig.append(0)\n",
    "    elif cols[1]==\"OvC\":\n",
    "        gene_name.append(g0)\n",
    "        cancer.append(\"OV\")\n",
    "        cell.append(cols[2])\n",
    "        ensg=sy_ensg.loc[g0][1].split(\".\")[0]\n",
    "        risk=coad.loc[ensg][\"risk_low\"]\n",
    "        p=coad.loc[ensg][\"p_value\"]\n",
    "\n",
    "        if risk < 0:\n",
    "            state.append(\"risk\")\n",
    "        else:\n",
    "            state.append(\"protect\")\n",
    "\n",
    "        logrank_p.append(p)\n",
    "        if p<0.05:\n",
    "            sig.append(1)\n",
    "        else:\n",
    "            sig.append(0)\n",
    "    elif cols[1]==\"LC\":\n",
    "        gene_name.append(g0)\n",
    "        cancer.append(\"LUAD,LUSC\")\n",
    "        cell.append(cols[2])\n",
    "        ensg=sy_ensg.loc[g0][1].split(\".\")[0]\n",
    "        risk=luad.loc[ensg][\"risk_low\"]\n",
    "        p=luad.loc[ensg][\"p_value\"]\n",
    "\n",
    "        if risk < 0:\n",
    "            state1=\"risk\"\n",
    "        else:\n",
    "            state1=\"protect\"\n",
    "\n",
    "        if p<0.05:\n",
    "            sig1=\"1\"\n",
    "        else:\n",
    "            sig1=\"0\"\n",
    "                \n",
    "        ensg=sy_ensg.loc[g0][1].split(\".\")[0]\n",
    "        risk1=lusc.loc[ensg][\"risk_low\"]\n",
    "        p1=lusc.loc[ensg][\"p_value\"]\n",
    "\n",
    "        if risk1 < 0:\n",
    "            state2=\"risk\"\n",
    "        else:\n",
    "            state2=\"protect\"\n",
    "\n",
    "        state.append(state1+\",\"+state2)\n",
    "        logrank_p.append(str(p)+\",\"+str(p1))\n",
    "        if p1<0.05:\n",
    "            sig2=\"1\"\n",
    "        else:\n",
    "            sig2=\"0\"\n",
    "        sig.append(sig1+\",\"+sig2)\n",
    "        \n",
    "            "
   ]
  },
  {
   "cell_type": "code",
   "execution_count": null,
   "metadata": {},
   "outputs": [],
   "source": [
    "df_data=pd.DataFrame()\n",
    "\n",
    "df_data[\"rbp\"]=gene_name\n",
    "df_data[\"cancer\"]=cancer\n",
    "df_data[\"cell\"]=cell\n",
    "df_data[\"state\"]=state\n",
    "df_data[\"logrank_p\"]=logrank_p\n",
    "df_data[\"sig_p0.05\"]=sig"
   ]
  },
  {
   "cell_type": "code",
   "execution_count": null,
   "metadata": {},
   "outputs": [],
   "source": [
    "df_data.head(3)"
   ]
  },
  {
   "cell_type": "code",
   "execution_count": null,
   "metadata": {},
   "outputs": [],
   "source": [
    "df_data.shape"
   ]
  },
  {
   "cell_type": "code",
   "execution_count": null,
   "metadata": {},
   "outputs": [],
   "source": [
    "df_data.to_csv(dir2+\"tcga_desingle_same_survival_infor\\\\all_reglons_immreg_survival.txt\",header=True,index=False,sep=\"\\t\")"
   ]
  },
  {
   "cell_type": "code",
   "execution_count": null,
   "metadata": {},
   "outputs": [],
   "source": [
    "df_data[(df_data[\"sig_p0.05\"]==1)|(df_data[\"sig_p0.05\"]==\"1,0\")|(df_data[\"sig_p0.05\"]==\"0,1\")|(df_data[\"sig_p0.05\"]==\"1,1\")].shape"
   ]
  },
  {
   "cell_type": "code",
   "execution_count": null,
   "metadata": {},
   "outputs": [],
   "source": []
  }
 ],
 "metadata": {
  "kernelspec": {
   "display_name": "py37",
   "language": "python",
   "name": "py37"
  },
  "language_info": {
   "codemirror_mode": {
    "name": "ipython",
    "version": 3
   },
   "file_extension": ".py",
   "mimetype": "text/x-python",
   "name": "python",
   "nbconvert_exporter": "python",
   "pygments_lexer": "ipython3",
   "version": "3.7.11"
  }
 },
 "nbformat": 4,
 "nbformat_minor": 2
}
