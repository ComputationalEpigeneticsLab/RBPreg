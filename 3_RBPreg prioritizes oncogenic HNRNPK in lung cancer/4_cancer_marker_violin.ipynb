{
 "cells": [
  {
   "cell_type": "code",
   "execution_count": null,
   "id": "779f54bd",
   "metadata": {},
   "outputs": [],
   "source": [
    "import matplotlib.pyplot as plt\n",
    "import numpy as np ,pandas as pd\n",
    "from collections import OrderedDict,Counter\n",
    "import os\n",
    "import statsmodels.stats.multitest as multi\n",
    "import scipy.stats as stats\n",
    "from collections import Counter\n",
    "from IPython.core.interactiveshell import InteractiveShell\n",
    "InteractiveShell.ast_node_interactivity=\"all\"\n",
    "import math"
   ]
  },
  {
   "cell_type": "code",
   "execution_count": null,
   "id": "dd3f8d61",
   "metadata": {},
   "outputs": [],
   "source": [
    "dir=\"E:\\\\project\\\\singcells\\\\1_diff_exper_analysis\\\\differ-analyse\\\\cellmarker_markers\\\\\"\n",
    "dir1=\"E:\\\\project\\\\singcells\\\\1_diff_exper_analysis\\\\4_cancer_gene_seurat\\\\4_cancer_Findallmarkers\\\\\""
   ]
  },
  {
   "cell_type": "code",
   "execution_count": null,
   "id": "6f628032",
   "metadata": {},
   "outputs": [],
   "source": [
    "cell_marker=pd.read_csv(dir+\"all_cell_markers.txt\",header=0,sep=\"\\t\")"
   ]
  },
  {
   "cell_type": "code",
   "execution_count": null,
   "id": "f30913d4",
   "metadata": {},
   "outputs": [],
   "source": [
    "cell_marker.head(3)"
   ]
  },
  {
   "cell_type": "code",
   "execution_count": null,
   "id": "d52adba4",
   "metadata": {},
   "outputs": [],
   "source": [
    "set(cell_marker[\"speciesType\"])"
   ]
  },
  {
   "cell_type": "code",
   "execution_count": null,
   "id": "4aa14ab4",
   "metadata": {},
   "outputs": [],
   "source": [
    "cell_marker_use=cell_marker[cell_marker[\"speciesType\"]=='Human']"
   ]
  },
  {
   "cell_type": "code",
   "execution_count": null,
   "id": "6a3892f1",
   "metadata": {},
   "outputs": [],
   "source": [
    "cell_marker_use.shape"
   ]
  },
  {
   "cell_type": "code",
   "execution_count": null,
   "id": "d7ac1b73",
   "metadata": {
    "scrolled": true
   },
   "outputs": [],
   "source": [
    "set(cell_marker_use[\"cellType\"])"
   ]
  },
  {
   "cell_type": "code",
   "execution_count": null,
   "id": "98888241",
   "metadata": {},
   "outputs": [],
   "source": [
    "['B cell','Cancer cell','Dendritic cell','Endothelial cell',\n",
    " 'Epithelial cell','Erythroblast','Fibroblast','Mast cell','T cell','Myeloid cell']"
   ]
  },
  {
   "cell_type": "code",
   "execution_count": null,
   "id": "69bbee73",
   "metadata": {},
   "outputs": [],
   "source": [
    "####B"
   ]
  },
  {
   "cell_type": "code",
   "execution_count": null,
   "id": "15b80206",
   "metadata": {},
   "outputs": [],
   "source": [
    "cell_marker0=cell_marker_use[cell_marker_use[\"cellName\"]=='B cell']\n",
    "\n",
    "set(cell_marker0[\"markerResource\"])\n",
    "set(cell_marker0[\"cellType\"])"
   ]
  },
  {
   "cell_type": "code",
   "execution_count": null,
   "id": "1dc25c70",
   "metadata": {},
   "outputs": [],
   "source": [
    "b_all=[]\n",
    "for ww in cell_marker0[\"geneSymbol\"]:\n",
    "    arr=ww.split(\",\")\n",
    "    if len(arr)>1:\n",
    "        for g0 in arr:\n",
    "            b_all.append(g0.strip())\n",
    "    else:\n",
    "        b_all.append(ww.strip())\n",
    "    "
   ]
  },
  {
   "cell_type": "code",
   "execution_count": null,
   "id": "7b3826b1",
   "metadata": {},
   "outputs": [],
   "source": [
    "B_zd=Counter(b_all)\n",
    "\n",
    "B_inter=OrderedDict({})\n",
    "\n",
    "for k,v in B_zd.items():\n",
    "    if k==\"NA\":\n",
    "        pass\n",
    "    else:\n",
    "        if v>1:\n",
    "            B_inter[k]=v"
   ]
  },
  {
   "cell_type": "code",
   "execution_count": null,
   "id": "d6fc76d9",
   "metadata": {
    "scrolled": true
   },
   "outputs": [],
   "source": [
    "B_inter.keys()"
   ]
  },
  {
   "cell_type": "code",
   "execution_count": null,
   "id": "790e26ff",
   "metadata": {},
   "outputs": [],
   "source": [
    "###'Dendritic cell'"
   ]
  },
  {
   "cell_type": "code",
   "execution_count": null,
   "id": "bb0fbdf4",
   "metadata": {},
   "outputs": [],
   "source": [
    "cell_marker0=cell_marker_use[cell_marker_use[\"cellName\"]=='Dendritic cell']\n",
    "\n",
    "set(cell_marker0[\"markerResource\"])\n",
    "set(cell_marker0[\"cellType\"])"
   ]
  },
  {
   "cell_type": "code",
   "execution_count": null,
   "id": "d373cc6a",
   "metadata": {},
   "outputs": [],
   "source": [
    "DC_all=[]\n",
    "for ww in cell_marker0[\"geneSymbol\"]:\n",
    "    arr=ww.split(\",\")\n",
    "    if len(arr)>1:\n",
    "        for g0 in arr:\n",
    "            DC_all.append(g0.strip())\n",
    "    else:\n",
    "        DC_all.append(ww.strip())"
   ]
  },
  {
   "cell_type": "code",
   "execution_count": null,
   "id": "0beccde9",
   "metadata": {},
   "outputs": [],
   "source": [
    "B_zd=Counter(DC_all)\n",
    "\n",
    "DC_inter=OrderedDict({})\n",
    "\n",
    "for k,v in B_zd.items():\n",
    "    if k==\"NA\":\n",
    "        pass\n",
    "    else:\n",
    "        if v>1:\n",
    "            DC_inter[k]=v"
   ]
  },
  {
   "cell_type": "code",
   "execution_count": null,
   "id": "2d87a3ce",
   "metadata": {},
   "outputs": [],
   "source": [
    "DC_inter"
   ]
  },
  {
   "cell_type": "code",
   "execution_count": null,
   "id": "3f69ccb6",
   "metadata": {},
   "outputs": [],
   "source": [
    "###'Endothelial cell'"
   ]
  },
  {
   "cell_type": "code",
   "execution_count": null,
   "id": "2508684b",
   "metadata": {},
   "outputs": [],
   "source": [
    "cell_marker0=cell_marker_use[cell_marker_use[\"cellName\"]=='Endothelial cell']\n",
    "\n",
    "set(cell_marker0[\"markerResource\"])\n",
    "set(cell_marker0[\"cellType\"])"
   ]
  },
  {
   "cell_type": "code",
   "execution_count": null,
   "id": "ac34aab7",
   "metadata": {},
   "outputs": [],
   "source": [
    "EC_all=[]\n",
    "for ww in cell_marker0[\"geneSymbol\"]:\n",
    "    arr=ww.split(\",\")\n",
    "    if len(arr)>1:\n",
    "        for g0 in arr:\n",
    "            EC_all.append(g0.strip())\n",
    "    else:\n",
    "        EC_all.append(ww.strip())"
   ]
  },
  {
   "cell_type": "code",
   "execution_count": null,
   "id": "47505ec0",
   "metadata": {},
   "outputs": [],
   "source": [
    "B_zd=Counter(EC_all)\n",
    "\n",
    "EC_inter=OrderedDict({})\n",
    "\n",
    "for k,v in B_zd.items():\n",
    "    if k==\"NA\":\n",
    "        pass\n",
    "    else:\n",
    "        if v>1:\n",
    "            EC_inter[k]=v"
   ]
  },
  {
   "cell_type": "code",
   "execution_count": null,
   "id": "f730d2ad",
   "metadata": {},
   "outputs": [],
   "source": [
    "EC_inter"
   ]
  },
  {
   "cell_type": "code",
   "execution_count": null,
   "id": "0fdc2f72",
   "metadata": {},
   "outputs": [],
   "source": [
    "#########'Epithelial cell',"
   ]
  },
  {
   "cell_type": "code",
   "execution_count": null,
   "id": "49162aa2",
   "metadata": {},
   "outputs": [],
   "source": [
    "cell_marker0=cell_marker_use[cell_marker_use[\"cellName\"]=='Epithelial cell']\n",
    "\n",
    "set(cell_marker0[\"markerResource\"])\n",
    "set(cell_marker0[\"cellType\"])"
   ]
  },
  {
   "cell_type": "code",
   "execution_count": null,
   "id": "066abb64",
   "metadata": {},
   "outputs": [],
   "source": [
    "Epithelial_all=[]\n",
    "for ww in cell_marker0[\"geneSymbol\"]:\n",
    "    if type(ww)!=float:\n",
    "        arr=ww.split(\",\")\n",
    "        if len(arr)>1:\n",
    "            for g0 in arr:\n",
    "                Epithelial_all.append(g0.strip())\n",
    "        else:\n",
    "            Epithelial_all.append(ww.strip())"
   ]
  },
  {
   "cell_type": "code",
   "execution_count": null,
   "id": "3b876d94",
   "metadata": {},
   "outputs": [],
   "source": [
    "B_zd=Counter(Epithelial_all)\n",
    "\n",
    "Epithelial_inter=OrderedDict({})\n",
    "\n",
    "for k,v in B_zd.items():\n",
    "    if k==\"NA\":\n",
    "        pass\n",
    "    else:\n",
    "        if v>1:\n",
    "            Epithelial_inter[k]=v"
   ]
  },
  {
   "cell_type": "code",
   "execution_count": null,
   "id": "7d1b43a5",
   "metadata": {},
   "outputs": [],
   "source": [
    "Epithelial_inter"
   ]
  },
  {
   "cell_type": "code",
   "execution_count": null,
   "id": "6917a4af",
   "metadata": {},
   "outputs": [],
   "source": [
    "#####'Erythroblast',"
   ]
  },
  {
   "cell_type": "code",
   "execution_count": null,
   "id": "7299a9b3",
   "metadata": {},
   "outputs": [],
   "source": [
    "cell_marker0=cell_marker_use[cell_marker_use[\"cellName\"]=='Erythroblast']\n",
    "\n",
    "set(cell_marker0[\"markerResource\"])\n",
    "set(cell_marker0[\"cellType\"])"
   ]
  },
  {
   "cell_type": "code",
   "execution_count": null,
   "id": "7bfa07f3",
   "metadata": {},
   "outputs": [],
   "source": [
    "Erythroblast_all=[]\n",
    "for ww in cell_marker0[\"geneSymbol\"]:\n",
    "    if type(ww)!=float:\n",
    "        arr=ww.split(\",\")\n",
    "        if len(arr)>1:\n",
    "            for g0 in arr:\n",
    "                Erythroblast_all.append(g0)\n",
    "        else:\n",
    "            Erythroblast_all.append(ww)"
   ]
  },
  {
   "cell_type": "code",
   "execution_count": null,
   "id": "4af9543f",
   "metadata": {},
   "outputs": [],
   "source": [
    "B_zd=Counter(Erythroblast_all)\n",
    "\n",
    "Erythroblast_inter=OrderedDict({})\n",
    "\n",
    "for k,v in B_zd.items():\n",
    "    if k==\"NA\":\n",
    "        pass\n",
    "    else:\n",
    "        if v>1:\n",
    "            Erythroblast_inter[k]=v"
   ]
  },
  {
   "cell_type": "code",
   "execution_count": null,
   "id": "b5fdb3b5",
   "metadata": {},
   "outputs": [],
   "source": [
    "Erythroblast_inter"
   ]
  },
  {
   "cell_type": "code",
   "execution_count": null,
   "id": "7e5fcc0c",
   "metadata": {},
   "outputs": [],
   "source": [
    "Erythroblast_all"
   ]
  },
  {
   "cell_type": "code",
   "execution_count": null,
   "id": "0fb9f8b7",
   "metadata": {},
   "outputs": [],
   "source": [
    "######'Fibroblast',"
   ]
  },
  {
   "cell_type": "code",
   "execution_count": null,
   "id": "5f48e00d",
   "metadata": {},
   "outputs": [],
   "source": [
    "cell_marker0=cell_marker_use[cell_marker_use[\"cellName\"]=='Fibroblast']\n",
    "\n",
    "set(cell_marker0[\"markerResource\"])\n",
    "set(cell_marker0[\"cellType\"])"
   ]
  },
  {
   "cell_type": "code",
   "execution_count": null,
   "id": "d336d7be",
   "metadata": {},
   "outputs": [],
   "source": [
    "Fibroblast_all=[]\n",
    "for ww in cell_marker0[\"geneSymbol\"]:\n",
    "    if type(ww)!=float:\n",
    "        arr=ww.split(\",\")\n",
    "        if len(arr)>1:\n",
    "            for g0 in arr:\n",
    "                Fibroblast_all.append(g0.strip())\n",
    "        else:\n",
    "            Fibroblast_all.append(ww.strip())"
   ]
  },
  {
   "cell_type": "code",
   "execution_count": null,
   "id": "cdaec547",
   "metadata": {},
   "outputs": [],
   "source": [
    "B_zd=Counter(Fibroblast_all)\n",
    "\n",
    "Fibroblast_inter=OrderedDict({})\n",
    "\n",
    "for k,v in B_zd.items():\n",
    "    if k==\"NA\":\n",
    "        pass\n",
    "    else:\n",
    "        if v>1:\n",
    "            Fibroblast_inter[k]=v"
   ]
  },
  {
   "cell_type": "code",
   "execution_count": null,
   "id": "c0be8502",
   "metadata": {},
   "outputs": [],
   "source": [
    "Fibroblast_inter"
   ]
  },
  {
   "cell_type": "code",
   "execution_count": null,
   "id": "bfb45ab5",
   "metadata": {},
   "outputs": [],
   "source": [
    "#########'Mast cell',"
   ]
  },
  {
   "cell_type": "code",
   "execution_count": null,
   "id": "09a7d36a",
   "metadata": {},
   "outputs": [],
   "source": [
    "cell_marker0=cell_marker_use[cell_marker_use[\"cellName\"]=='Mast cell']\n",
    "\n",
    "set(cell_marker0[\"markerResource\"])\n",
    "set(cell_marker0[\"cellType\"])"
   ]
  },
  {
   "cell_type": "code",
   "execution_count": null,
   "id": "9e705c80",
   "metadata": {},
   "outputs": [],
   "source": [
    "Mast_all=[]\n",
    "for ww in cell_marker0[\"geneSymbol\"]:\n",
    "    if type(ww)!=float:\n",
    "        arr=ww.split(\",\")\n",
    "        if len(arr)>1:\n",
    "            for g0 in arr:\n",
    "                Mast_all.append(g0.strip())\n",
    "        else:\n",
    "            Mast_all.append(ww.strip())"
   ]
  },
  {
   "cell_type": "code",
   "execution_count": null,
   "id": "a8c085f3",
   "metadata": {},
   "outputs": [],
   "source": [
    "B_zd=Counter(Mast_all)\n",
    "\n",
    "Mast_inter=OrderedDict({})\n",
    "\n",
    "for k,v in B_zd.items():\n",
    "    if k.strip()==\"NA\":\n",
    "        pass\n",
    "    else:\n",
    "        if v>1:\n",
    "            Mast_inter[k]=v"
   ]
  },
  {
   "cell_type": "code",
   "execution_count": null,
   "id": "fb242e68",
   "metadata": {},
   "outputs": [],
   "source": [
    "Mast_inter"
   ]
  },
  {
   "cell_type": "code",
   "execution_count": null,
   "id": "6ddee9fc",
   "metadata": {},
   "outputs": [],
   "source": [
    "#######'T cell',"
   ]
  },
  {
   "cell_type": "code",
   "execution_count": null,
   "id": "870f802a",
   "metadata": {},
   "outputs": [],
   "source": [
    "cell_marker0=cell_marker_use[cell_marker_use[\"cellName\"]=='T cell']\n",
    "\n",
    "set(cell_marker0[\"markerResource\"])\n",
    "set(cell_marker0[\"cellType\"])"
   ]
  },
  {
   "cell_type": "code",
   "execution_count": null,
   "id": "13e56944",
   "metadata": {},
   "outputs": [],
   "source": [
    "T_all=[]\n",
    "for ww in cell_marker0[\"geneSymbol\"]:\n",
    "    if type(ww)!=float:\n",
    "        arr=ww.split(\",\")\n",
    "        if len(arr)>1:\n",
    "            for g0 in arr:\n",
    "                T_all.append(g0.strip())\n",
    "        else:\n",
    "            T_all.append(ww.strip())"
   ]
  },
  {
   "cell_type": "code",
   "execution_count": null,
   "id": "a7295758",
   "metadata": {},
   "outputs": [],
   "source": [
    "B_zd=Counter(T_all)\n",
    "\n",
    "T_inter=OrderedDict({})\n",
    "\n",
    "for k,v in B_zd.items():\n",
    "    if k.strip()==\"NA\":\n",
    "        pass\n",
    "    else:\n",
    "        if v>1:\n",
    "            T_inter[k]=v"
   ]
  },
  {
   "cell_type": "code",
   "execution_count": null,
   "id": "f1fd7097",
   "metadata": {},
   "outputs": [],
   "source": [
    "T_inter"
   ]
  },
  {
   "cell_type": "code",
   "execution_count": null,
   "id": "9f81d7cd",
   "metadata": {},
   "outputs": [],
   "source": [
    "#######'Myeloid cell',"
   ]
  },
  {
   "cell_type": "code",
   "execution_count": null,
   "id": "33bae281",
   "metadata": {},
   "outputs": [],
   "source": [
    "cell_marker0=cell_marker_use[cell_marker_use[\"cellName\"]=='Myeloid cell']\n",
    "\n",
    "set(cell_marker0[\"markerResource\"])\n",
    "set(cell_marker0[\"cellType\"])"
   ]
  },
  {
   "cell_type": "code",
   "execution_count": null,
   "id": "3a7ba675",
   "metadata": {},
   "outputs": [],
   "source": [
    "Myeloid_all=[]\n",
    "for ww in cell_marker0[\"geneSymbol\"]:\n",
    "    if type(ww)!=float:\n",
    "        arr=ww.split(\",\")\n",
    "        if len(arr)>1:\n",
    "            for g0 in arr:\n",
    "                Myeloid_all.append(g0.strip())\n",
    "        else:\n",
    "            Myeloid_all.append(ww.strip())"
   ]
  },
  {
   "cell_type": "code",
   "execution_count": null,
   "id": "b1590ec7",
   "metadata": {},
   "outputs": [],
   "source": [
    "B_zd=Counter(Myeloid_all)\n",
    "\n",
    "Myeloid_inter=OrderedDict({})\n",
    "\n",
    "for k,v in B_zd.items():\n",
    "    if k.strip()==\"NA\":\n",
    "        pass\n",
    "    else:\n",
    "        if v>1:\n",
    "            Myeloid_inter[k]=v"
   ]
  },
  {
   "cell_type": "code",
   "execution_count": null,
   "id": "bd5ab08e",
   "metadata": {},
   "outputs": [],
   "source": [
    "Myeloid_inter[\"FCGR3A\"]=3\n",
    "Myeloid_inter[\"FCGR3B\"]=3"
   ]
  },
  {
   "cell_type": "code",
   "execution_count": null,
   "id": "07492f08",
   "metadata": {},
   "outputs": [],
   "source": [
    "Myeloid_inter"
   ]
  },
  {
   "cell_type": "code",
   "execution_count": null,
   "id": "99e4a233",
   "metadata": {},
   "outputs": [],
   "source": [
    "#####'Cancer cell'"
   ]
  },
  {
   "cell_type": "code",
   "execution_count": null,
   "id": "8952aeaf",
   "metadata": {},
   "outputs": [],
   "source": [
    "cell_marker0=cell_marker_use[cell_marker_use[\"cellName\"]=='Cancer cell']\n",
    "\n",
    "set(cell_marker0[\"markerResource\"])\n",
    "set(cell_marker0[\"cellType\"])"
   ]
  },
  {
   "cell_type": "code",
   "execution_count": null,
   "id": "e9eb3faf",
   "metadata": {},
   "outputs": [],
   "source": [
    "Cancer_all=[]\n",
    "for ww in cell_marker0[\"geneSymbol\"]:\n",
    "    if type(ww)!=float:\n",
    "        arr=ww.split(\",\")\n",
    "        if len(arr)>1:\n",
    "            for g0 in arr:\n",
    "                Cancer_all.append(g0.strip())\n",
    "        else:\n",
    "            Cancer_all.append(ww.strip())"
   ]
  },
  {
   "cell_type": "code",
   "execution_count": null,
   "id": "351a46e0",
   "metadata": {},
   "outputs": [],
   "source": [
    "B_zd=Counter(Cancer_all)\n",
    "\n",
    "Cancer_inter=OrderedDict({})\n",
    "\n",
    "for k,v in B_zd.items():\n",
    "    if k.strip()==\"NA\":\n",
    "        pass\n",
    "    else:\n",
    "        if v>1:\n",
    "            Cancer_inter[k]=v"
   ]
  },
  {
   "cell_type": "code",
   "execution_count": null,
   "id": "fd181693",
   "metadata": {},
   "outputs": [],
   "source": [
    "Cancer_inter"
   ]
  },
  {
   "cell_type": "code",
   "execution_count": null,
   "id": "e6ece28d",
   "metadata": {},
   "outputs": [],
   "source": [
    "###ovc"
   ]
  },
  {
   "cell_type": "code",
   "execution_count": null,
   "id": "1b31eb33",
   "metadata": {},
   "outputs": [],
   "source": [
    "ovc_topGene=pd.read_csv(dir1+\"ovc\\\\ovc_marker_top20.txt\",header=0,sep=\"\\t\")\n",
    "ovc_topGene_all=pd.read_csv(dir1+\"ovc\\\\ovc_marker_all.txt\",header=0,sep=\"\\t\")\n",
    "\n",
    "ovc_topGene.head(3)\n",
    "ovc_topGene_all.head(3)"
   ]
  },
  {
   "cell_type": "code",
   "execution_count": null,
   "id": "2029b16c",
   "metadata": {},
   "outputs": [],
   "source": [
    "set(ovc_topGene[\"cluster\"])"
   ]
  },
  {
   "cell_type": "code",
   "execution_count": null,
   "id": "725ac2c3",
   "metadata": {},
   "outputs": [],
   "source": [
    "###'B_cell'\n",
    "\n",
    "top_b=ovc_topGene[ovc_topGene[\"cluster\"]=='B_cell'][\"gene\"].tolist()\n",
    "\n",
    "set(list(B_inter.keys())).intersection(set(top_b))"
   ]
  },
  {
   "cell_type": "code",
   "execution_count": null,
   "id": "933c5768",
   "metadata": {},
   "outputs": [],
   "source": [
    "###'Cancer'\n",
    "\n",
    "top_b=ovc_topGene[ovc_topGene[\"cluster\"]=='Cancer'][\"gene\"].tolist()\n",
    "\n",
    "set(list(Cancer_inter.keys())).intersection(set(top_b))"
   ]
  },
  {
   "cell_type": "code",
   "execution_count": null,
   "id": "dd1136f3",
   "metadata": {},
   "outputs": [],
   "source": [
    "###'EC'\n",
    "\n",
    "top_b=ovc_topGene[ovc_topGene[\"cluster\"]=='EC'][\"gene\"].tolist()\n",
    "\n",
    "set(list(EC_inter.keys())).intersection(set(top_b))"
   ]
  },
  {
   "cell_type": "code",
   "execution_count": null,
   "id": "b11d4696",
   "metadata": {},
   "outputs": [],
   "source": [
    "###'Fibroblast'\n",
    "\n",
    "top_b=ovc_topGene_all[ovc_topGene_all[\"cluster\"]=='Fibroblast'][\"gene\"].tolist()\n",
    "\n",
    "list(set(list(Fibroblast_inter.keys())).intersection(set(top_b)))"
   ]
  },
  {
   "cell_type": "code",
   "execution_count": null,
   "id": "9699c30c",
   "metadata": {},
   "outputs": [],
   "source": [
    "###'Myeloid'\n",
    "\n",
    "top_b=ovc_topGene[ovc_topGene[\"cluster\"]=='Myeloid'][\"gene\"].tolist()\n",
    "\n",
    "set(list(Myeloid_inter.keys())).intersection(set(top_b))"
   ]
  },
  {
   "cell_type": "code",
   "execution_count": null,
   "id": "19ade19a",
   "metadata": {},
   "outputs": [],
   "source": [
    "###'T_cell'\n",
    "\n",
    "top_b=ovc_topGene[ovc_topGene[\"cluster\"]=='T_cell'][\"gene\"].tolist()\n",
    "\n",
    "set(list(T_inter.keys())).intersection(set(top_b))"
   ]
  },
  {
   "cell_type": "code",
   "execution_count": null,
   "id": "31d896a4",
   "metadata": {},
   "outputs": [],
   "source": [
    "####bc#####\n",
    "\n",
    "bc_topGene=pd.read_csv(dir1+\"bc\\\\bc_marker_top20.txt\",header=0,sep=\"\\t\")\n",
    "bc_topGene_all=pd.read_csv(dir1+\"bc\\\\bc_marker_all.txt\",header=0,sep=\"\\t\")\n",
    "\n",
    "bc_topGene.head(3)\n",
    "bc_topGene_all.head(3)"
   ]
  },
  {
   "cell_type": "code",
   "execution_count": null,
   "id": "de1ef68f",
   "metadata": {},
   "outputs": [],
   "source": [
    "set(bc_topGene[\"cluster\"])"
   ]
  },
  {
   "cell_type": "code",
   "execution_count": null,
   "id": "ab3d9142",
   "metadata": {},
   "outputs": [],
   "source": [
    "###'B_cell'\n",
    "\n",
    "top_b=bc_topGene_all[bc_topGene_all[\"cluster\"]=='B_cell'][\"gene\"].tolist()\n",
    "\n",
    "set(list(B_inter.keys())).intersection(set(top_b))"
   ]
  },
  {
   "cell_type": "code",
   "execution_count": null,
   "id": "eac0936d",
   "metadata": {},
   "outputs": [],
   "source": [
    "###'Cancer'\n",
    "\n",
    "top_b=bc_topGene[bc_topGene[\"cluster\"]=='Cancer'][\"gene\"].tolist()\n",
    "\n",
    "set(list(Cancer_inter.keys())).intersection(set(top_b))"
   ]
  },
  {
   "cell_type": "code",
   "execution_count": null,
   "id": "6c8e1f5e",
   "metadata": {},
   "outputs": [],
   "source": [
    "###'DC'\n",
    "\n",
    "top_b=bc_topGene_all[bc_topGene_all[\"cluster\"]=='DC'][\"gene\"].tolist()\n",
    "\n",
    "set(list(DC_inter.keys())).intersection(set(top_b))"
   ]
  },
  {
   "cell_type": "code",
   "execution_count": null,
   "id": "542728e0",
   "metadata": {},
   "outputs": [],
   "source": [
    "###'EC'\n",
    "\n",
    "top_b=bc_topGene[bc_topGene[\"cluster\"]=='EC'][\"gene\"].tolist()\n",
    "\n",
    "set(list(EC_inter.keys())).intersection(set(top_b))"
   ]
  },
  {
   "cell_type": "code",
   "execution_count": null,
   "id": "66e8b3bc",
   "metadata": {},
   "outputs": [],
   "source": [
    "###'Fibroblast'\n",
    "top_b=bc_topGene_all[bc_topGene_all[\"cluster\"]=='Fibroblast'][\"gene\"].tolist()\n",
    "set(list(Fibroblast_inter.keys())).intersection(set(top_b))"
   ]
  },
  {
   "cell_type": "code",
   "execution_count": null,
   "id": "1755dc87",
   "metadata": {},
   "outputs": [],
   "source": [
    "###'Mast'\n",
    "top_b=bc_topGene[bc_topGene[\"cluster\"]=='Mast'][\"gene\"].tolist()\n",
    "set(list(Mast_inter.keys())).intersection(set(top_b))"
   ]
  },
  {
   "cell_type": "code",
   "execution_count": null,
   "id": "29f1861c",
   "metadata": {},
   "outputs": [],
   "source": [
    "###'Myeloid'\n",
    "top_b=bc_topGene[bc_topGene[\"cluster\"]=='Myeloid'][\"gene\"].tolist()\n",
    "set(list(Myeloid_inter.keys())).intersection(set(top_b))"
   ]
  },
  {
   "cell_type": "code",
   "execution_count": null,
   "id": "046bc774",
   "metadata": {},
   "outputs": [],
   "source": [
    "###'T_cell'\n",
    "top_b=bc_topGene[bc_topGene[\"cluster\"]=='T_cell'][\"gene\"].tolist()\n",
    "set(list(T_inter.keys())).intersection(set(top_b))"
   ]
  },
  {
   "cell_type": "code",
   "execution_count": null,
   "id": "69a778be",
   "metadata": {},
   "outputs": [],
   "source": [
    "####crc#####\n",
    "\n",
    "crc_topGene=pd.read_csv(dir1+\"crc\\\\crc_marker_top20.txt\",header=0,sep=\"\\t\")\n",
    "crc_topGene_all=pd.read_csv(dir1+\"crc\\\\crc_marker_all.txt\",header=0,sep=\"\\t\")\n",
    "\n",
    "crc_topGene.head(3)\n",
    "crc_topGene_all.head(3)"
   ]
  },
  {
   "cell_type": "code",
   "execution_count": null,
   "id": "f041b0f6",
   "metadata": {},
   "outputs": [],
   "source": [
    "set(crc_topGene[\"cluster\"])"
   ]
  },
  {
   "cell_type": "code",
   "execution_count": null,
   "id": "121aa976",
   "metadata": {},
   "outputs": [],
   "source": [
    "###'B_cell'\n",
    "top_b=crc_topGene[crc_topGene[\"cluster\"]=='B_cell'][\"gene\"].tolist()\n",
    "set(list(B_inter.keys())).intersection(set(top_b))"
   ]
  },
  {
   "cell_type": "code",
   "execution_count": null,
   "id": "f6b6193e",
   "metadata": {},
   "outputs": [],
   "source": [
    "###'Cancer'\n",
    "top_b=crc_topGene_all[crc_topGene_all[\"cluster\"]=='Cancer'][\"gene\"].tolist()\n",
    "set(list(Cancer_inter.keys())).intersection(set(top_b))"
   ]
  },
  {
   "cell_type": "code",
   "execution_count": null,
   "id": "12a5fcd0",
   "metadata": {},
   "outputs": [],
   "source": [
    "###'EC'\n",
    "top_b=crc_topGene[crc_topGene[\"cluster\"]=='EC'][\"gene\"].tolist()\n",
    "set(list(EC_inter.keys())).intersection(set(top_b))"
   ]
  },
  {
   "cell_type": "code",
   "execution_count": null,
   "id": "122c73f3",
   "metadata": {},
   "outputs": [],
   "source": [
    "###'Epithelial'\n",
    "top_b=crc_topGene_all[crc_topGene_all[\"cluster\"]=='Epithelial'][\"gene\"].tolist()\n",
    "set(list(Epithelial_inter.keys())).intersection(set(top_b))"
   ]
  },
  {
   "cell_type": "code",
   "execution_count": null,
   "id": "6478cc62",
   "metadata": {},
   "outputs": [],
   "source": [
    "###'Fibroblast'\n",
    "top_b=crc_topGene_all[crc_topGene_all[\"cluster\"]=='Fibroblast'][\"gene\"].tolist()\n",
    "set(list(Fibroblast_inter.keys())).intersection(set(top_b))"
   ]
  },
  {
   "cell_type": "code",
   "execution_count": null,
   "id": "5567e7f5",
   "metadata": {},
   "outputs": [],
   "source": [
    "###'Mast_cell'\n",
    "top_b=crc_topGene[crc_topGene[\"cluster\"]=='Mast_cell'][\"gene\"].tolist()\n",
    "set(list(Mast_inter.keys())).intersection(set(top_b))"
   ]
  },
  {
   "cell_type": "code",
   "execution_count": null,
   "id": "22df6789",
   "metadata": {},
   "outputs": [],
   "source": [
    "###'Myeloid'\n",
    "top_b=crc_topGene_all[crc_topGene_all[\"cluster\"]=='Myeloid'][\"gene\"].tolist()\n",
    "set(list(Myeloid_inter.keys())).intersection(set(top_b))"
   ]
  },
  {
   "cell_type": "code",
   "execution_count": null,
   "id": "5d890982",
   "metadata": {},
   "outputs": [],
   "source": [
    "###'T_cell'\n",
    "top_b=crc_topGene[crc_topGene[\"cluster\"]=='T_cell'][\"gene\"].tolist()\n",
    "set(list(T_inter.keys())).intersection(set(top_b))"
   ]
  },
  {
   "cell_type": "code",
   "execution_count": null,
   "id": "217094e1",
   "metadata": {},
   "outputs": [],
   "source": []
  },
  {
   "cell_type": "code",
   "execution_count": null,
   "id": "a1f6459b",
   "metadata": {},
   "outputs": [],
   "source": [
    "####Lc#####\n",
    "\n",
    "lc_topGene=pd.read_csv(dir1+\"lc\\\\lc_marker_top20.txt\",header=0,sep=\"\\t\")\n",
    "lc_topGene_all=pd.read_csv(dir1+\"lc\\\\lc_marker_all1.txt\",header=0,sep=\"\\t\")"
   ]
  },
  {
   "cell_type": "code",
   "execution_count": null,
   "id": "e5303df4",
   "metadata": {
    "scrolled": false
   },
   "outputs": [],
   "source": [
    "set(lc_topGene_all[\"cluster\"])"
   ]
  },
  {
   "cell_type": "code",
   "execution_count": null,
   "id": "9666aa5d",
   "metadata": {},
   "outputs": [],
   "source": [
    "###'B_cell'\n",
    "top_b=lc_topGene[lc_topGene[\"cluster\"]=='B_cell'][\"gene\"].tolist()\n",
    "set(list(B_inter.keys())).intersection(set(top_b))"
   ]
  },
  {
   "cell_type": "code",
   "execution_count": null,
   "id": "df5fa9d8",
   "metadata": {},
   "outputs": [],
   "source": [
    "###'EC'\n",
    "top_b=lc_topGene[lc_topGene[\"cluster\"]=='EC'][\"gene\"].tolist()\n",
    "set(list(EC_inter.keys())).intersection(set(top_b))"
   ]
  },
  {
   "cell_type": "code",
   "execution_count": null,
   "id": "24527ca7",
   "metadata": {},
   "outputs": [],
   "source": [
    "###'Cancer'\n",
    "top_b=lc_topGene_all[lc_topGene_all[\"cluster\"]=='Cancer'][\"gene\"].tolist()\n",
    "set(list(Cancer_inter.keys())).intersection(set(top_b))"
   ]
  },
  {
   "cell_type": "code",
   "execution_count": null,
   "id": "0a64a0f6",
   "metadata": {},
   "outputs": [],
   "source": [
    "###'Epithelial'\n",
    "top_b=lc_topGene_all[lc_topGene_all[\"cluster\"]=='Epithelial'][\"gene\"].tolist()\n",
    "set(list(Epithelial_inter.keys())).intersection(set(top_b))"
   ]
  },
  {
   "cell_type": "code",
   "execution_count": null,
   "id": "7ca5083f",
   "metadata": {},
   "outputs": [],
   "source": [
    "###'Erythroblast'\n",
    "top_b=lc_topGene_all[lc_topGene_all[\"cluster\"]=='Erythroblast'][\"gene\"].tolist()\n",
    "set(Erythroblast_all).intersection(set(top_b))"
   ]
  },
  {
   "cell_type": "code",
   "execution_count": null,
   "id": "d54d8d03",
   "metadata": {},
   "outputs": [],
   "source": [
    "###'Fibroblast'\n",
    "top_b=lc_topGene[lc_topGene[\"cluster\"]=='Fibroblast'][\"gene\"].tolist()\n",
    "set(list(Fibroblast_inter.keys())).intersection(set(top_b))"
   ]
  },
  {
   "cell_type": "code",
   "execution_count": null,
   "id": "4e5edbd9",
   "metadata": {},
   "outputs": [],
   "source": [
    "###'Mast_cell'\n",
    "top_b=lc_topGene[lc_topGene[\"cluster\"]=='Mast_cell'][\"gene\"].tolist()\n",
    "set(list(Mast_inter.keys())).intersection(set(top_b))"
   ]
  },
  {
   "cell_type": "code",
   "execution_count": null,
   "id": "88d22f10",
   "metadata": {
    "scrolled": true
   },
   "outputs": [],
   "source": [
    "###'Myeloid'\n",
    "top_b=lc_topGene_all[lc_topGene_all[\"cluster\"]=='Myeloid'][\"gene\"].tolist()\n",
    "set(list(Myeloid_inter.keys())).intersection(set(top_b))"
   ]
  },
  {
   "cell_type": "code",
   "execution_count": null,
   "id": "6ce20c43",
   "metadata": {},
   "outputs": [],
   "source": [
    "###'T_cell'\n",
    "top_b=lc_topGene[lc_topGene[\"cluster\"]=='T_cell'][\"gene\"].tolist()\n",
    "set(list(T_inter.keys())).intersection(set(top_b))"
   ]
  },
  {
   "cell_type": "code",
   "execution_count": null,
   "id": "948038a2",
   "metadata": {},
   "outputs": [],
   "source": [
    "########\n",
    "Cancer_inter,Myeloid_inter,T_inter,Mast_inter,\n",
    "Fibroblast_inter,Erythroblast_all,Epithelial_inter,\n",
    "EC_inter,DC_inter,B_inter.keys()"
   ]
  },
  {
   "cell_type": "code",
   "execution_count": null,
   "id": "e082cbe4",
   "metadata": {
    "scrolled": true
   },
   "outputs": [],
   "source": [
    "Fibroblast_inter"
   ]
  },
  {
   "cell_type": "code",
   "execution_count": null,
   "id": "cf3d778e",
   "metadata": {},
   "outputs": [],
   "source": []
  },
  {
   "cell_type": "code",
   "execution_count": null,
   "id": "4ef67cf2",
   "metadata": {},
   "outputs": [],
   "source": []
  },
  {
   "cell_type": "code",
   "execution_count": null,
   "id": "d921d33a",
   "metadata": {},
   "outputs": [],
   "source": []
  },
  {
   "cell_type": "code",
   "execution_count": null,
   "id": "6b3fe615",
   "metadata": {},
   "outputs": [],
   "source": []
  },
  {
   "cell_type": "code",
   "execution_count": null,
   "id": "8efc01ed",
   "metadata": {},
   "outputs": [],
   "source": []
  },
  {
   "cell_type": "code",
   "execution_count": null,
   "id": "20a8560e",
   "metadata": {},
   "outputs": [],
   "source": []
  },
  {
   "cell_type": "code",
   "execution_count": null,
   "id": "c6e6b545",
   "metadata": {},
   "outputs": [],
   "source": []
  },
  {
   "cell_type": "code",
   "execution_count": null,
   "id": "b34837e3",
   "metadata": {},
   "outputs": [],
   "source": []
  },
  {
   "cell_type": "code",
   "execution_count": null,
   "id": "4d376134",
   "metadata": {},
   "outputs": [],
   "source": []
  },
  {
   "cell_type": "code",
   "execution_count": null,
   "id": "375db6a4",
   "metadata": {},
   "outputs": [],
   "source": []
  },
  {
   "cell_type": "code",
   "execution_count": null,
   "id": "40fe5639",
   "metadata": {},
   "outputs": [],
   "source": []
  },
  {
   "cell_type": "code",
   "execution_count": null,
   "id": "9ac76a81",
   "metadata": {},
   "outputs": [],
   "source": []
  },
  {
   "cell_type": "code",
   "execution_count": null,
   "id": "b4b769ec",
   "metadata": {},
   "outputs": [],
   "source": []
  },
  {
   "cell_type": "code",
   "execution_count": null,
   "id": "b70c0ad6",
   "metadata": {},
   "outputs": [],
   "source": []
  },
  {
   "cell_type": "code",
   "execution_count": null,
   "id": "94284f32",
   "metadata": {},
   "outputs": [],
   "source": []
  },
  {
   "cell_type": "code",
   "execution_count": null,
   "id": "40693e21",
   "metadata": {},
   "outputs": [],
   "source": []
  },
  {
   "cell_type": "code",
   "execution_count": null,
   "id": "cd32fcff",
   "metadata": {},
   "outputs": [],
   "source": []
  },
  {
   "cell_type": "code",
   "execution_count": null,
   "id": "7c9a6462",
   "metadata": {},
   "outputs": [],
   "source": []
  },
  {
   "cell_type": "code",
   "execution_count": null,
   "id": "6b817fc1",
   "metadata": {},
   "outputs": [],
   "source": []
  },
  {
   "cell_type": "code",
   "execution_count": null,
   "id": "5d60a376",
   "metadata": {},
   "outputs": [],
   "source": []
  },
  {
   "cell_type": "code",
   "execution_count": null,
   "id": "127a55c6",
   "metadata": {},
   "outputs": [],
   "source": [
    "cell_marker_use_cancer=cell_marker_use[cell_marker_use[\"cellType\"]=='Cancer cell']"
   ]
  },
  {
   "cell_type": "code",
   "execution_count": null,
   "id": "621ce4c3",
   "metadata": {},
   "outputs": [],
   "source": [
    "cell_marker_use_normal=cell_marker_use[cell_marker_use[\"cellType\"]=='Normal cell']"
   ]
  },
  {
   "cell_type": "code",
   "execution_count": null,
   "id": "2443a1c5",
   "metadata": {
    "scrolled": true
   },
   "outputs": [],
   "source": [
    "set(cell_marker_use_normal[cell_marker_use_normal[\"cellName\"]=='B cell'][\"markerResource\"])"
   ]
  },
  {
   "cell_type": "code",
   "execution_count": null,
   "id": "38ff91ec",
   "metadata": {},
   "outputs": [],
   "source": [
    "cell_marker_use_normal[cell_marker_use_normal[\"cellName\"]=='B cell']"
   ]
  },
  {
   "cell_type": "code",
   "execution_count": null,
   "id": "6d28beb9",
   "metadata": {},
   "outputs": [],
   "source": [
    "set(cell_marker_use_normal[\"cellName\"])"
   ]
  },
  {
   "cell_type": "code",
   "execution_count": null,
   "id": "ca873d03",
   "metadata": {},
   "outputs": [],
   "source": [
    "set(cell_marker_use_cancer[\"cellName\"])"
   ]
  },
  {
   "cell_type": "code",
   "execution_count": null,
   "id": "ad0ac0b0",
   "metadata": {},
   "outputs": [],
   "source": []
  }
 ],
 "metadata": {
  "kernelspec": {
   "display_name": "py37",
   "language": "python",
   "name": "py37"
  },
  "language_info": {
   "codemirror_mode": {
    "name": "ipython",
    "version": 3
   },
   "file_extension": ".py",
   "mimetype": "text/x-python",
   "name": "python",
   "nbconvert_exporter": "python",
   "pygments_lexer": "ipython3",
   "version": "3.7.11"
  }
 },
 "nbformat": 4,
 "nbformat_minor": 5
}
