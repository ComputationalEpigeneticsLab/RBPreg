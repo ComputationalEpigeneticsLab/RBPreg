{
 "cells": [
  {
   "cell_type": "code",
   "execution_count": null,
   "id": "bb4a2c62",
   "metadata": {},
   "outputs": [],
   "source": [
    "import matplotlib.pyplot as plt\n",
    "import numpy as np ,pandas as pd\n",
    "from collections import OrderedDict,Counter\n",
    "import os\n",
    "import statsmodels.stats.multitest as multi\n",
    "import scipy.stats as stats\n",
    "from collections import Counter\n",
    "from IPython.core.interactiveshell import InteractiveShell\n",
    "InteractiveShell.ast_node_interactivity=\"all\"\n",
    "import math"
   ]
  },
  {
   "cell_type": "code",
   "execution_count": null,
   "id": "13268c92",
   "metadata": {},
   "outputs": [],
   "source": [
    "dir=\"E:\\\\project\\\\Expression profile\\\\1_gene_lnc\\\\LUAD\\\\\""
   ]
  },
  {
   "cell_type": "code",
   "execution_count": null,
   "id": "72a16ff8",
   "metadata": {},
   "outputs": [],
   "source": [
    "ENSG=\"ENSG00000165119\""
   ]
  },
  {
   "cell_type": "code",
   "execution_count": null,
   "id": "c1d9ef61",
   "metadata": {},
   "outputs": [],
   "source": [
    "LUAD_clinical=pd.read_csv(dir+\"TCGA-LUAD_clinical.csv\",header=0)"
   ]
  },
  {
   "cell_type": "code",
   "execution_count": null,
   "id": "2ac9bc02",
   "metadata": {
    "scrolled": false
   },
   "outputs": [],
   "source": [
    "LUAD_clinical.head(3)\n",
    "\n",
    "len(set(LUAD_clinical[\"submitter_id\"]))\n",
    "LUAD_clinical.shape\n",
    "LUAD_clinical[LUAD_clinical[\"submitter_id\"]==\"TCGA-05-4244\"][\"tumor_stage\"].tolist()[0]"
   ]
  },
  {
   "cell_type": "code",
   "execution_count": null,
   "id": "9bef1ed4",
   "metadata": {},
   "outputs": [],
   "source": [
    "cancer_exp=pd.read_csv(dir+\"gene_cancer_exp.txt\",header=None,sep=\"\\t\",index_col=0)\n",
    "\n",
    "cancer_sample=pd.read_csv(dir+\"cancer_sample.txt\",header=None)[0].tolist()\n",
    "\n",
    "cancer_sample[1:3]\n",
    "\n",
    "cancer_exp_colname=[]\n",
    "for ww in cancer_sample:\n",
    "    arr=ww.split(\"-\")\n",
    "    cancer_exp_colname.append(\"-\".join(arr[0:3]))\n",
    "\n",
    "cancer_exp.columns=cancer_exp_colname"
   ]
  },
  {
   "cell_type": "code",
   "execution_count": null,
   "id": "00a0461b",
   "metadata": {},
   "outputs": [],
   "source": [
    "cancer_exp.head(3)\n",
    "cancer_exp.shape"
   ]
  },
  {
   "cell_type": "code",
   "execution_count": null,
   "id": "fa36f3ae",
   "metadata": {},
   "outputs": [],
   "source": [
    "normal_exp=pd.read_csv(dir+\"gene_normal_exp.txt\",header=None,sep=\"\\t\",index_col=0)\n",
    "\n",
    "normal_sample=pd.read_csv(dir+\"normal_sample.txt\",header=None)[0].tolist()\n",
    "\n",
    "normal_exp_colname=[]\n",
    "for ww in normal_sample:\n",
    "    arr=ww.split(\"-\")\n",
    "    normal_exp_colname.append(\"-\".join(arr[0:3]))\n",
    "\n",
    "normal_exp.columns=normal_exp_colname"
   ]
  },
  {
   "cell_type": "code",
   "execution_count": null,
   "id": "d8b37c33",
   "metadata": {
    "scrolled": false
   },
   "outputs": [],
   "source": [
    "normal_exp.head(3)\n",
    "normal_exp.shape"
   ]
  },
  {
   "cell_type": "code",
   "execution_count": null,
   "id": "2ced06a2",
   "metadata": {},
   "outputs": [],
   "source": [
    "stage_infor=[]\n",
    "exp_infor=[]\n",
    "sample_infor=[]\n",
    "\n",
    "cancer_exp_use=cancer_exp.loc[ENSG]\n",
    "normal_exp_use=normal_exp.loc[ENSG]\n",
    "\n",
    "for k,v in cancer_exp_use.items():\n",
    "    sample_infor.append(k)\n",
    "    exp_infor.append(v)\n",
    "    stage_infor.append(LUAD_clinical[LUAD_clinical[\"submitter_id\"]==k][\"tumor_stage\"].tolist()[0])\n",
    "for k,v in normal_exp_use.items():\n",
    "    sample_infor.append(k)\n",
    "    exp_infor.append(v)\n",
    "    stage_infor.append(LUAD_clinical[LUAD_clinical[\"submitter_id\"]==k][\"tumor_stage\"].tolist()[0])"
   ]
  },
  {
   "cell_type": "code",
   "execution_count": null,
   "id": "b930f0a9",
   "metadata": {},
   "outputs": [],
   "source": [
    "luad_stage_infor=pd.DataFrame()\n",
    "\n",
    "luad_stage_infor[\"stage_infor\"]=stage_infor\n",
    "luad_stage_infor[\"exp_infor\"]=exp_infor\n",
    "luad_stage_infor[\"sample_infor\"]=sample_infor"
   ]
  },
  {
   "cell_type": "code",
   "execution_count": null,
   "id": "d92072e2",
   "metadata": {},
   "outputs": [],
   "source": [
    "luad_stage_infor.head(3)"
   ]
  },
  {
   "cell_type": "code",
   "execution_count": null,
   "id": "4c8b39af",
   "metadata": {},
   "outputs": [],
   "source": [
    "luad_stage_infor_use=luad_stage_infor[luad_stage_infor[\"stage_infor\"]!='not reported']"
   ]
  },
  {
   "cell_type": "code",
   "execution_count": null,
   "id": "c80c3de8",
   "metadata": {},
   "outputs": [],
   "source": [
    "stage_merge=[]\n",
    "for ww in luad_stage_infor_use[\"stage_infor\"]:\n",
    "    if ww in ['stage i','stage ia','stage ib']:\n",
    "        stage_merge.append(\"stage I\")\n",
    "    elif ww in ['stage ii','stage iia','stage iib']:\n",
    "        stage_merge.append(\"stage II\")\n",
    "    elif ww in ['stage iiia','stage iiib']:\n",
    "        stage_merge.append(\"stage III\")\n",
    "    else:\n",
    "        stage_merge.append(\"stage IV\")"
   ]
  },
  {
   "cell_type": "code",
   "execution_count": null,
   "id": "25ecbdee",
   "metadata": {},
   "outputs": [],
   "source": [
    "luad_stage_infor_use[\"stage_merge\"]=stage_merge"
   ]
  },
  {
   "cell_type": "code",
   "execution_count": null,
   "id": "80417d70",
   "metadata": {},
   "outputs": [],
   "source": [
    "set(luad_stage_infor_use[\"stage_merge\"])"
   ]
  },
  {
   "cell_type": "code",
   "execution_count": null,
   "id": "26f434e8",
   "metadata": {},
   "outputs": [],
   "source": [
    "luad_stage_infor_use.to_csv(\"E:\\\\project\\\\singcells\\\\9_HNRNPK\\\\TCGA_stage_grade_differ\\\\LUAD\\\\luad_stage_infor_use.txt\",header=True,sep=\"\\t\",index=False)"
   ]
  },
  {
   "cell_type": "code",
   "execution_count": null,
   "id": "612d0d6b",
   "metadata": {},
   "outputs": [],
   "source": [
    "####################LUSC############"
   ]
  },
  {
   "cell_type": "code",
   "execution_count": null,
   "id": "3f19f30c",
   "metadata": {},
   "outputs": [],
   "source": [
    "dir=\"E:\\\\project\\\\Expression profile\\\\1_gene_lnc\\\\LUSC\\\\\""
   ]
  },
  {
   "cell_type": "code",
   "execution_count": null,
   "id": "087fbb77",
   "metadata": {},
   "outputs": [],
   "source": [
    "LUSC_clinical=pd.read_csv(dir+\"TCGA-LUSC_clinical.csv\",header=0)"
   ]
  },
  {
   "cell_type": "code",
   "execution_count": null,
   "id": "15635d83",
   "metadata": {},
   "outputs": [],
   "source": [
    "LUSC_clinical.head(3)\n",
    "\n",
    "len(set(LUSC_clinical[\"submitter_id\"]))\n",
    "LUSC_clinical.shape"
   ]
  },
  {
   "cell_type": "code",
   "execution_count": null,
   "id": "b860e866",
   "metadata": {},
   "outputs": [],
   "source": [
    "cancer_exp=pd.read_csv(dir+\"gene_cancer_exp.txt\",header=None,sep=\"\\t\",index_col=0)\n",
    "\n",
    "cancer_sample=pd.read_csv(dir+\"cancer_sample.txt\",header=None)[0].tolist()\n",
    "\n",
    "cancer_sample[1:3]\n",
    "\n",
    "cancer_exp_colname=[]\n",
    "for ww in cancer_sample:\n",
    "    arr=ww.split(\"-\")\n",
    "    cancer_exp_colname.append(\"-\".join(arr[0:3]))\n",
    "\n",
    "cancer_exp.columns=cancer_exp_colname"
   ]
  },
  {
   "cell_type": "code",
   "execution_count": null,
   "id": "a62883a0",
   "metadata": {},
   "outputs": [],
   "source": [
    "normal_exp=pd.read_csv(dir+\"gene_normal_exp.txt\",header=None,sep=\"\\t\",index_col=0)\n",
    "\n",
    "normal_sample=pd.read_csv(dir+\"normal_sample.txt\",header=None)[0].tolist()\n",
    "\n",
    "normal_exp_colname=[]\n",
    "for ww in normal_sample:\n",
    "    arr=ww.split(\"-\")\n",
    "    normal_exp_colname.append(\"-\".join(arr[0:3]))\n",
    "\n",
    "normal_exp.columns=normal_exp_colname"
   ]
  },
  {
   "cell_type": "code",
   "execution_count": null,
   "id": "8d72cf74",
   "metadata": {},
   "outputs": [],
   "source": [
    "stage_infor=[]\n",
    "exp_infor=[]\n",
    "sample_infor=[]\n",
    "\n",
    "cancer_exp_use=cancer_exp.loc[ENSG]\n",
    "normal_exp_use=normal_exp.loc[ENSG]\n",
    "\n",
    "for k,v in cancer_exp_use.items():\n",
    "    sample_infor.append(k)\n",
    "    exp_infor.append(v)\n",
    "    stage_infor.append(LUSC_clinical[LUSC_clinical[\"submitter_id\"]==k][\"tumor_stage\"].tolist()[0])\n",
    "for k,v in normal_exp_use.items():\n",
    "    sample_infor.append(k)\n",
    "    exp_infor.append(v)\n",
    "    stage_infor.append(LUSC_clinical[LUSC_clinical[\"submitter_id\"]==k][\"tumor_stage\"].tolist()[0])"
   ]
  },
  {
   "cell_type": "code",
   "execution_count": null,
   "id": "048bb418",
   "metadata": {},
   "outputs": [],
   "source": [
    "lusc_stage_infor=pd.DataFrame()\n",
    "\n",
    "lusc_stage_infor[\"stage_infor\"]=stage_infor\n",
    "lusc_stage_infor[\"exp_infor\"]=exp_infor\n",
    "lusc_stage_infor[\"sample_infor\"]=sample_infor"
   ]
  },
  {
   "cell_type": "code",
   "execution_count": null,
   "id": "0651caa6",
   "metadata": {},
   "outputs": [],
   "source": [
    "lusc_stage_infor.shape\n",
    "lusc_stage_infor.head(3)"
   ]
  },
  {
   "cell_type": "code",
   "execution_count": null,
   "id": "03b215d7",
   "metadata": {},
   "outputs": [],
   "source": [
    "set(lusc_stage_infor[\"stage_infor\"])"
   ]
  },
  {
   "cell_type": "code",
   "execution_count": null,
   "id": "e9fb3483",
   "metadata": {},
   "outputs": [],
   "source": [
    "lusc_stage_infor_use=lusc_stage_infor[lusc_stage_infor[\"stage_infor\"]!='not reported']"
   ]
  },
  {
   "cell_type": "code",
   "execution_count": null,
   "id": "43acce1a",
   "metadata": {},
   "outputs": [],
   "source": [
    "stage_merge=[]\n",
    "for ww in lusc_stage_infor_use[\"stage_infor\"]:\n",
    "    if ww in ['stage i','stage ia','stage ib']:\n",
    "        stage_merge.append(\"stage I\")\n",
    "    elif ww in ['stage ii','stage iia','stage iib']:\n",
    "        stage_merge.append(\"stage II\")\n",
    "    elif ww in ['stage iii','stage iiia','stage iiib']:\n",
    "        stage_merge.append(\"stage III\")\n",
    "    else:\n",
    "        stage_merge.append(\"stage IV\")"
   ]
  },
  {
   "cell_type": "code",
   "execution_count": null,
   "id": "4ad3d36e",
   "metadata": {},
   "outputs": [],
   "source": [
    "lusc_stage_infor_use[\"stage_merge\"]=stage_merge"
   ]
  },
  {
   "cell_type": "code",
   "execution_count": null,
   "id": "4720cda1",
   "metadata": {},
   "outputs": [],
   "source": [
    "lusc_stage_infor_use.head(3)"
   ]
  },
  {
   "cell_type": "code",
   "execution_count": null,
   "id": "fe3a66a9",
   "metadata": {},
   "outputs": [],
   "source": [
    "lusc_stage_infor_use.shape\n",
    "len(stage_merge)"
   ]
  },
  {
   "cell_type": "code",
   "execution_count": null,
   "id": "3707ab3a",
   "metadata": {},
   "outputs": [],
   "source": [
    "lusc_stage_infor_use.to_csv(\"E:\\\\project\\\\singcells\\\\9_HNRNPK\\\\TCGA_stage_grade_differ\\\\LUSC\\\\lusc_stage_infor_use.txt\",header=True,sep=\"\\t\",index=False)"
   ]
  },
  {
   "cell_type": "code",
   "execution_count": null,
   "id": "0bd2f768",
   "metadata": {},
   "outputs": [],
   "source": []
  }
 ],
 "metadata": {
  "kernelspec": {
   "display_name": "py37",
   "language": "python",
   "name": "py37"
  },
  "language_info": {
   "codemirror_mode": {
    "name": "ipython",
    "version": 3
   },
   "file_extension": ".py",
   "mimetype": "text/x-python",
   "name": "python",
   "nbconvert_exporter": "python",
   "pygments_lexer": "ipython3",
   "version": "3.7.11"
  }
 },
 "nbformat": 4,
 "nbformat_minor": 5
}
