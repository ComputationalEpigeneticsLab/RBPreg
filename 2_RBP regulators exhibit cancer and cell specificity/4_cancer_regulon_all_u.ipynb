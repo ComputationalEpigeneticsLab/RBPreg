{
 "cells": [
  {
   "cell_type": "code",
   "execution_count": null,
   "metadata": {},
   "outputs": [],
   "source": [
    "import matplotlib.pyplot as plt\n",
    "import numpy as np ,pandas as pd\n",
    "from collections import OrderedDict,Counter\n",
    "import os\n",
    "import statsmodels.stats.multitest as multi\n",
    "import scipy.stats as stats\n",
    "from collections import Counter\n",
    "from IPython.core.interactiveshell import InteractiveShell\n",
    "InteractiveShell.ast_node_interactivity=\"all\"\n",
    "import math\n",
    "\n",
    "dir=\"E:\\\\project\\\\singcells\\\\SCENIC\\\\jt_4cancer_scenic_result\\\\SCENIC\\\\jt_4_cancer\\\\all\\\\\"\n",
    "\n",
    "scenic_re_data=pd.read_csv(dir+\"4_cancer_cancer_cell_regulons.csv\",header=0,sep=\",\",index_col=0)"
   ]
  },
  {
   "cell_type": "code",
   "execution_count": null,
   "metadata": {
    "scrolled": false
   },
   "outputs": [],
   "source": [
    "scenic_re_data.head(3)"
   ]
  },
  {
   "cell_type": "code",
   "execution_count": null,
   "metadata": {},
   "outputs": [],
   "source": [
    "cancers=[\"BC\",\"CRC\",\"LC\",\"OvC\"]\n",
    "cancers0=cancers[0]"
   ]
  },
  {
   "cell_type": "code",
   "execution_count": null,
   "metadata": {},
   "outputs": [],
   "source": [
    "for cancers0 in cancers:\n",
    "    bc_reggulons=[]\n",
    "\n",
    "    for k,v in scenic_re_data.iterrows():\n",
    "        if k.split(\"/\")[0] ==cancers0:\n",
    "            arr=v[1].split(\",\")\n",
    "            for reg0 in arr:     \n",
    "                bc_reggulons.append(reg0.split(\"(\")[0])\n",
    "\n",
    "\n",
    "\n",
    "    bc_reg_u=list(set(bc_reggulons))\n",
    "\n",
    "    w=open(\"E:\\\\project\\\\singcells\\\\1_B_tsne\\\\cancers_regulons\\\\\"+cancers0+\"_regulon_all_u.txt\",\"w\")\n",
    "    for ww in bc_reg_u:\n",
    "        w.write(ww.strip()+\"\\n\")\n",
    "    w.close()"
   ]
  },
  {
   "cell_type": "code",
   "execution_count": null,
   "metadata": {},
   "outputs": [],
   "source": [
    "###### 2022 5. 30"
   ]
  },
  {
   "cell_type": "code",
   "execution_count": 1,
   "metadata": {},
   "outputs": [],
   "source": [
    "import matplotlib.pyplot as plt\n",
    "import numpy as np ,pandas as pd\n",
    "from collections import OrderedDict,Counter\n",
    "import os\n",
    "import statsmodels.stats.multitest as multi\n",
    "import scipy.stats as stats\n",
    "from collections import Counter\n",
    "from IPython.core.interactiveshell import InteractiveShell\n",
    "InteractiveShell.ast_node_interactivity=\"all\"\n",
    "import math"
   ]
  },
  {
   "cell_type": "code",
   "execution_count": 6,
   "metadata": {},
   "outputs": [],
   "source": [
    "dir=\"E:\\\\project\\\\singcells\\\\SCENIC\\\\jt_4cancer_scenic_result\\\\\""
   ]
  },
  {
   "cell_type": "code",
   "execution_count": 7,
   "metadata": {},
   "outputs": [],
   "source": [
    "data=pd.read_csv(dir+\"4_cancer_cancer_cell_regulons.txt\",header=0,sep=\"\\t\")"
   ]
  },
  {
   "cell_type": "code",
   "execution_count": 8,
   "metadata": {},
   "outputs": [
    {
     "data": {
      "text/html": [
       "<div>\n",
       "<style scoped>\n",
       "    .dataframe tbody tr th:only-of-type {\n",
       "        vertical-align: middle;\n",
       "    }\n",
       "\n",
       "    .dataframe tbody tr th {\n",
       "        vertical-align: top;\n",
       "    }\n",
       "\n",
       "    .dataframe thead th {\n",
       "        text-align: right;\n",
       "    }\n",
       "</style>\n",
       "<table border=\"1\" class=\"dataframe\">\n",
       "  <thead>\n",
       "    <tr style=\"text-align: right;\">\n",
       "      <th></th>\n",
       "      <th>cancer_cell</th>\n",
       "      <th>cancers</th>\n",
       "      <th>celltypes</th>\n",
       "      <th>regulon_num</th>\n",
       "      <th>regulons</th>\n",
       "    </tr>\n",
       "  </thead>\n",
       "  <tbody>\n",
       "    <tr>\n",
       "      <th>0</th>\n",
       "      <td>CRC/Mast_cell</td>\n",
       "      <td>CRC</td>\n",
       "      <td>Mast_cell</td>\n",
       "      <td>18</td>\n",
       "      <td>SRSF7 (19g),RBM5 (34g),SF1 (23g),TIAL1 (72g),R...</td>\n",
       "    </tr>\n",
       "    <tr>\n",
       "      <th>1</th>\n",
       "      <td>CRC/Myeloid</td>\n",
       "      <td>CRC</td>\n",
       "      <td>Myeloid</td>\n",
       "      <td>11</td>\n",
       "      <td>SRSF10 (321g),SF1 (1983g),HNRNPF (2155g),HNRNP...</td>\n",
       "    </tr>\n",
       "    <tr>\n",
       "      <th>2</th>\n",
       "      <td>OvC/T_cell</td>\n",
       "      <td>OvC</td>\n",
       "      <td>T_cell</td>\n",
       "      <td>12</td>\n",
       "      <td>ELAVL1 (45g),PCBP2 (25g),TIAL1 (96g),HNRNPF (7...</td>\n",
       "    </tr>\n",
       "  </tbody>\n",
       "</table>\n",
       "</div>"
      ],
      "text/plain": [
       "     cancer_cell cancers  celltypes  regulon_num  \\\n",
       "0  CRC/Mast_cell     CRC  Mast_cell           18   \n",
       "1    CRC/Myeloid     CRC    Myeloid           11   \n",
       "2     OvC/T_cell     OvC     T_cell           12   \n",
       "\n",
       "                                            regulons  \n",
       "0  SRSF7 (19g),RBM5 (34g),SF1 (23g),TIAL1 (72g),R...  \n",
       "1  SRSF10 (321g),SF1 (1983g),HNRNPF (2155g),HNRNP...  \n",
       "2  ELAVL1 (45g),PCBP2 (25g),TIAL1 (96g),HNRNPF (7...  "
      ]
     },
     "execution_count": 8,
     "metadata": {},
     "output_type": "execute_result"
    }
   ],
   "source": [
    "data.head(3)"
   ]
  },
  {
   "cell_type": "code",
   "execution_count": 10,
   "metadata": {},
   "outputs": [],
   "source": []
  },
  {
   "cell_type": "code",
   "execution_count": 11,
   "metadata": {},
   "outputs": [
    {
     "data": {
      "text/html": [
       "<div>\n",
       "<style scoped>\n",
       "    .dataframe tbody tr th:only-of-type {\n",
       "        vertical-align: middle;\n",
       "    }\n",
       "\n",
       "    .dataframe tbody tr th {\n",
       "        vertical-align: top;\n",
       "    }\n",
       "\n",
       "    .dataframe thead th {\n",
       "        text-align: right;\n",
       "    }\n",
       "</style>\n",
       "<table border=\"1\" class=\"dataframe\">\n",
       "  <thead>\n",
       "    <tr style=\"text-align: right;\">\n",
       "      <th></th>\n",
       "      <th>cancer_cell</th>\n",
       "      <th>cancers</th>\n",
       "      <th>celltypes</th>\n",
       "      <th>regulon_num</th>\n",
       "      <th>regulons</th>\n",
       "    </tr>\n",
       "  </thead>\n",
       "  <tbody>\n",
       "    <tr>\n",
       "      <th>0</th>\n",
       "      <td>CRC/Mast_cell</td>\n",
       "      <td>CRC</td>\n",
       "      <td>Mast_cell</td>\n",
       "      <td>18</td>\n",
       "      <td>SRSF7 (19g),RBM5 (34g),SF1 (23g),TIAL1 (72g),R...</td>\n",
       "    </tr>\n",
       "    <tr>\n",
       "      <th>1</th>\n",
       "      <td>CRC/Myeloid</td>\n",
       "      <td>CRC</td>\n",
       "      <td>Myeloid</td>\n",
       "      <td>11</td>\n",
       "      <td>SRSF10 (321g),SF1 (1983g),HNRNPF (2155g),HNRNP...</td>\n",
       "    </tr>\n",
       "    <tr>\n",
       "      <th>4</th>\n",
       "      <td>CRC/Fibroblast</td>\n",
       "      <td>CRC</td>\n",
       "      <td>Fibroblast</td>\n",
       "      <td>13</td>\n",
       "      <td>NONO (51g),HNRNPDL (26g),RBM25 (25g),SRSF7 (17...</td>\n",
       "    </tr>\n",
       "  </tbody>\n",
       "</table>\n",
       "</div>"
      ],
      "text/plain": [
       "      cancer_cell cancers   celltypes  regulon_num  \\\n",
       "0   CRC/Mast_cell     CRC   Mast_cell           18   \n",
       "1     CRC/Myeloid     CRC     Myeloid           11   \n",
       "4  CRC/Fibroblast     CRC  Fibroblast           13   \n",
       "\n",
       "                                            regulons  \n",
       "0  SRSF7 (19g),RBM5 (34g),SF1 (23g),TIAL1 (72g),R...  \n",
       "1  SRSF10 (321g),SF1 (1983g),HNRNPF (2155g),HNRNP...  \n",
       "4  NONO (51g),HNRNPDL (26g),RBM25 (25g),SRSF7 (17...  "
      ]
     },
     "execution_count": 11,
     "metadata": {},
     "output_type": "execute_result"
    }
   ],
   "source": [
    "data_crc.head(3)"
   ]
  },
  {
   "cell_type": "code",
   "execution_count": 18,
   "metadata": {},
   "outputs": [],
   "source": [
    "\n"
   ]
  },
  {
   "cell_type": "code",
   "execution_count": 23,
   "metadata": {},
   "outputs": [
    {
     "data": {
      "text/plain": [
       "38"
      ]
     },
     "execution_count": 23,
     "metadata": {},
     "output_type": "execute_result"
    },
    {
     "data": {
      "text/plain": [
       "36"
      ]
     },
     "execution_count": 23,
     "metadata": {},
     "output_type": "execute_result"
    },
    {
     "data": {
      "text/plain": [
       "34"
      ]
     },
     "execution_count": 23,
     "metadata": {},
     "output_type": "execute_result"
    },
    {
     "data": {
      "text/plain": [
       "38"
      ]
     },
     "execution_count": 23,
     "metadata": {},
     "output_type": "execute_result"
    }
   ],
   "source": [
    "len(BC_reg)\n",
    "len(LC_reg)\n",
    "len(OvC_reg)\n",
    "len(crc_reg)"
   ]
  },
  {
   "cell_type": "code",
   "execution_count": 24,
   "metadata": {},
   "outputs": [
    {
     "data": {
      "text/plain": [
       "49"
      ]
     },
     "execution_count": 24,
     "metadata": {},
     "output_type": "execute_result"
    }
   ],
   "source": []
  },
  {
   "cell_type": "code",
   "execution_count": null,
   "metadata": {},
   "outputs": [],
   "source": []
  }
 ],
 "metadata": {
  "kernelspec": {
   "display_name": "Python 3",
   "language": "python",
   "name": "python3"
  },
  "language_info": {
   "codemirror_mode": {
    "name": "ipython",
    "version": 3
   },
   "file_extension": ".py",
   "mimetype": "text/x-python",
   "name": "python",
   "nbconvert_exporter": "python",
   "pygments_lexer": "ipython3",
   "version": "3.8.8"
  }
 },
 "nbformat": 4,
 "nbformat_minor": 2
}
