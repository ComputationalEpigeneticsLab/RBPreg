{
 "cells": [
  {
   "cell_type": "code",
   "execution_count": 1,
   "id": "c13e5cda",
   "metadata": {},
   "outputs": [],
   "source": [
    "import matplotlib.pyplot as plt\n",
    "import numpy as np ,pandas as pd\n",
    "from collections import OrderedDict,Counter\n",
    "import os\n",
    "import statsmodels.stats.multitest as multi\n",
    "import scipy.stats as stats\n",
    "from collections import Counter\n",
    "from IPython.core.interactiveshell import InteractiveShell\n",
    "InteractiveShell.ast_node_interactivity=\"all\"\n",
    "import math"
   ]
  },
  {
   "cell_type": "code",
   "execution_count": 6,
   "id": "612f0c00",
   "metadata": {},
   "outputs": [],
   "source": [
    "dir=\"E:\\\\project\\\\singcells\\\\1_diff_exper_analysis\\\\differ-analyse\\\\DE-single\\\\\"\n",
    "dir1=\"E:\\\\project\\\\singcells\\\\SCENIC\\\\jt_4cancer_scenic_result\\\\\""
   ]
  },
  {
   "cell_type": "code",
   "execution_count": 4,
   "id": "11c73605",
   "metadata": {},
   "outputs": [],
   "source": [
    "df=pd.read_csv(dir+\"DEsingle_regs_differ_analyse_re.txt\",header=0,sep=\"\\t\")"
   ]
  },
  {
   "cell_type": "code",
   "execution_count": 7,
   "id": "a789de43",
   "metadata": {},
   "outputs": [
    {
     "data": {
      "text/html": [
       "<div>\n",
       "<style scoped>\n",
       "    .dataframe tbody tr th:only-of-type {\n",
       "        vertical-align: middle;\n",
       "    }\n",
       "\n",
       "    .dataframe tbody tr th {\n",
       "        vertical-align: top;\n",
       "    }\n",
       "\n",
       "    .dataframe thead th {\n",
       "        text-align: right;\n",
       "    }\n",
       "</style>\n",
       "<table border=\"1\" class=\"dataframe\">\n",
       "  <thead>\n",
       "    <tr style=\"text-align: right;\">\n",
       "      <th></th>\n",
       "      <th>gene</th>\n",
       "      <th>cancer</th>\n",
       "      <th>cell</th>\n",
       "      <th>total_mean_1</th>\n",
       "      <th>total_mean_2</th>\n",
       "      <th>foldChange</th>\n",
       "      <th>pvalue</th>\n",
       "      <th>pvalue.adj.FDR</th>\n",
       "      <th>Type</th>\n",
       "      <th>State</th>\n",
       "    </tr>\n",
       "  </thead>\n",
       "  <tbody>\n",
       "    <tr>\n",
       "      <th>0</th>\n",
       "      <td>RBMS1</td>\n",
       "      <td>BC</td>\n",
       "      <td>B_cell</td>\n",
       "      <td>0.107210</td>\n",
       "      <td>0.398506</td>\n",
       "      <td>0.269030</td>\n",
       "      <td>0.000000</td>\n",
       "      <td>0.000000</td>\n",
       "      <td>DEg</td>\n",
       "      <td>down</td>\n",
       "    </tr>\n",
       "    <tr>\n",
       "      <th>1</th>\n",
       "      <td>TRA2B</td>\n",
       "      <td>BC</td>\n",
       "      <td>B_cell</td>\n",
       "      <td>0.514911</td>\n",
       "      <td>0.503151</td>\n",
       "      <td>1.023374</td>\n",
       "      <td>0.000084</td>\n",
       "      <td>0.000132</td>\n",
       "      <td>DEg</td>\n",
       "      <td>up</td>\n",
       "    </tr>\n",
       "    <tr>\n",
       "      <th>2</th>\n",
       "      <td>DDX58</td>\n",
       "      <td>BC</td>\n",
       "      <td>B_cell</td>\n",
       "      <td>0.111740</td>\n",
       "      <td>0.149152</td>\n",
       "      <td>0.749173</td>\n",
       "      <td>0.227987</td>\n",
       "      <td>0.247529</td>\n",
       "      <td>NaN</td>\n",
       "      <td>stable</td>\n",
       "    </tr>\n",
       "  </tbody>\n",
       "</table>\n",
       "</div>"
      ],
      "text/plain": [
       "    gene cancer    cell  total_mean_1  total_mean_2  foldChange    pvalue  \\\n",
       "0  RBMS1     BC  B_cell      0.107210      0.398506    0.269030  0.000000   \n",
       "1  TRA2B     BC  B_cell      0.514911      0.503151    1.023374  0.000084   \n",
       "2  DDX58     BC  B_cell      0.111740      0.149152    0.749173  0.227987   \n",
       "\n",
       "   pvalue.adj.FDR Type   State  \n",
       "0        0.000000  DEg    down  \n",
       "1        0.000132  DEg      up  \n",
       "2        0.247529  NaN  stable  "
      ]
     },
     "execution_count": 7,
     "metadata": {},
     "output_type": "execute_result"
    },
    {
     "data": {
      "text/plain": [
       "(433, 10)"
      ]
     },
     "execution_count": 7,
     "metadata": {},
     "output_type": "execute_result"
    }
   ],
   "source": [
    "df.head(3)\n",
    "df.shape"
   ]
  },
  {
   "cell_type": "code",
   "execution_count": 31,
   "id": "1ff6904e",
   "metadata": {},
   "outputs": [
    {
     "data": {
      "text/plain": [
       "{'Alveolar',\n",
       " 'B_cell',\n",
       " 'Cancer',\n",
       " 'DC',\n",
       " 'EC',\n",
       " 'Enteric_glia',\n",
       " 'Epithelial',\n",
       " 'Fibroblast',\n",
       " 'Mast_cell',\n",
       " 'Myeloid',\n",
       " 'T_cell'}"
      ]
     },
     "execution_count": 31,
     "metadata": {},
     "output_type": "execute_result"
    }
   ],
   "source": [
    "set(df[\"cell\"])"
   ]
  },
  {
   "cell_type": "code",
   "execution_count": null,
   "id": "11712b96",
   "metadata": {},
   "outputs": [],
   "source": [
    "df[(df[\"cancer\"]==\"BC\")&(df[\"cancer\"]==\"BC\")]"
   ]
  },
  {
   "cell_type": "code",
   "execution_count": 11,
   "id": "eed1a108",
   "metadata": {},
   "outputs": [],
   "source": [
    "bc_ll=df[(df[\"cancer\"]==\"BC\")][\"gene\"].tolist()\n",
    "lc_ll=df[(df[\"cancer\"]==\"LC\")][\"gene\"].tolist()\n",
    "crc_ll=df[(df[\"cancer\"]==\"CRC\")][\"gene\"].tolist()\n",
    "ovc_ll=df[(df[\"cancer\"]==\"OvC\")][\"gene\"].tolist()"
   ]
  },
  {
   "cell_type": "code",
   "execution_count": 12,
   "id": "7c30a46d",
   "metadata": {},
   "outputs": [],
   "source": [
    "inter_all=list(set(bc_ll).intersection(set(lc_ll)).intersection(set(crc_ll)).intersection(set(ovc_ll)))"
   ]
  },
  {
   "cell_type": "code",
   "execution_count": 22,
   "id": "9a1f937a",
   "metadata": {},
   "outputs": [
    {
     "data": {
      "text/plain": [
       "20"
      ]
     },
     "execution_count": 22,
     "metadata": {},
     "output_type": "execute_result"
    }
   ],
   "source": [
    "len(inter_all)"
   ]
  },
  {
   "cell_type": "code",
   "execution_count": 14,
   "id": "d11a40af",
   "metadata": {},
   "outputs": [],
   "source": [
    "####"
   ]
  },
  {
   "cell_type": "code",
   "execution_count": 15,
   "id": "b6afc259",
   "metadata": {},
   "outputs": [],
   "source": [
    "dir1=\"E:\\\\project\\\\singcells\\\\2_B_venn\\\\venn\\\\reglons_cell_activate\\\\\""
   ]
  },
  {
   "cell_type": "code",
   "execution_count": 20,
   "id": "a9b5d957",
   "metadata": {},
   "outputs": [],
   "source": [
    "bc=pd.read_csv(dir1+\"BC_cell_activate.txt\",header=None)[0].tolist()\n",
    "lc=pd.read_csv(dir1+\"LC_cell_activate.txt\",header=None)[0].tolist()\n",
    "crc=pd.read_csv(dir1+\"CRC_cell_activate.txt\",header=None)[0].tolist()\n",
    "ovc=pd.read_csv(dir1+\"OvC_cell_activate.txt\",header=None)[0].tolist()"
   ]
  },
  {
   "cell_type": "code",
   "execution_count": 21,
   "id": "6824d4eb",
   "metadata": {},
   "outputs": [],
   "source": [
    "inter_all=list(set(bc).intersection(set(lc)).intersection(set(crc)).intersection(set(ovc)))"
   ]
  },
  {
   "cell_type": "code",
   "execution_count": 23,
   "id": "64e1e2bf",
   "metadata": {},
   "outputs": [
    {
     "data": {
      "text/plain": [
       "20"
      ]
     },
     "execution_count": 23,
     "metadata": {},
     "output_type": "execute_result"
    }
   ],
   "source": [
    "len(inter_all)"
   ]
  },
  {
   "cell_type": "code",
   "execution_count": 25,
   "id": "a060f4ec",
   "metadata": {},
   "outputs": [],
   "source": [
    "bc=df[(df[\"cancer\"]==\"BC\")&(df[\"gene\"].isin(inter_all))]"
   ]
  },
  {
   "cell_type": "code",
   "execution_count": 27,
   "id": "c3e1b597",
   "metadata": {},
   "outputs": [
    {
     "data": {
      "text/html": [
       "<div>\n",
       "<style scoped>\n",
       "    .dataframe tbody tr th:only-of-type {\n",
       "        vertical-align: middle;\n",
       "    }\n",
       "\n",
       "    .dataframe tbody tr th {\n",
       "        vertical-align: top;\n",
       "    }\n",
       "\n",
       "    .dataframe thead th {\n",
       "        text-align: right;\n",
       "    }\n",
       "</style>\n",
       "<table border=\"1\" class=\"dataframe\">\n",
       "  <thead>\n",
       "    <tr style=\"text-align: right;\">\n",
       "      <th></th>\n",
       "      <th>gene</th>\n",
       "      <th>cancer</th>\n",
       "      <th>cell</th>\n",
       "      <th>total_mean_1</th>\n",
       "      <th>total_mean_2</th>\n",
       "      <th>foldChange</th>\n",
       "      <th>pvalue</th>\n",
       "      <th>pvalue.adj.FDR</th>\n",
       "      <th>Type</th>\n",
       "      <th>State</th>\n",
       "    </tr>\n",
       "  </thead>\n",
       "  <tbody>\n",
       "    <tr>\n",
       "      <th>1</th>\n",
       "      <td>TRA2B</td>\n",
       "      <td>BC</td>\n",
       "      <td>B_cell</td>\n",
       "      <td>0.514911</td>\n",
       "      <td>0.503151</td>\n",
       "      <td>1.023374</td>\n",
       "      <td>0.000084</td>\n",
       "      <td>0.000132</td>\n",
       "      <td>DEg</td>\n",
       "      <td>up</td>\n",
       "    </tr>\n",
       "    <tr>\n",
       "      <th>3</th>\n",
       "      <td>HNRNPK</td>\n",
       "      <td>BC</td>\n",
       "      <td>B_cell</td>\n",
       "      <td>1.361646</td>\n",
       "      <td>1.695966</td>\n",
       "      <td>0.802873</td>\n",
       "      <td>0.000000</td>\n",
       "      <td>0.000000</td>\n",
       "      <td>DEg</td>\n",
       "      <td>down</td>\n",
       "    </tr>\n",
       "    <tr>\n",
       "      <th>4</th>\n",
       "      <td>HNRNPH1</td>\n",
       "      <td>BC</td>\n",
       "      <td>B_cell</td>\n",
       "      <td>0.581729</td>\n",
       "      <td>0.569217</td>\n",
       "      <td>1.021981</td>\n",
       "      <td>0.000002</td>\n",
       "      <td>0.000004</td>\n",
       "      <td>DEg</td>\n",
       "      <td>up</td>\n",
       "    </tr>\n",
       "  </tbody>\n",
       "</table>\n",
       "</div>"
      ],
      "text/plain": [
       "      gene cancer    cell  total_mean_1  total_mean_2  foldChange    pvalue  \\\n",
       "1    TRA2B     BC  B_cell      0.514911      0.503151    1.023374  0.000084   \n",
       "3   HNRNPK     BC  B_cell      1.361646      1.695966    0.802873  0.000000   \n",
       "4  HNRNPH1     BC  B_cell      0.581729      0.569217    1.021981  0.000002   \n",
       "\n",
       "   pvalue.adj.FDR Type State  \n",
       "1        0.000132  DEg    up  \n",
       "3        0.000000  DEg  down  \n",
       "4        0.000004  DEg    up  "
      ]
     },
     "execution_count": 27,
     "metadata": {},
     "output_type": "execute_result"
    },
    {
     "data": {
      "text/plain": [
       "{'B_cell',\n",
       " 'Cancer',\n",
       " 'DC',\n",
       " 'EC',\n",
       " 'Fibroblast',\n",
       " 'Mast_cell',\n",
       " 'Myeloid',\n",
       " 'T_cell'}"
      ]
     },
     "execution_count": 27,
     "metadata": {},
     "output_type": "execute_result"
    }
   ],
   "source": [
    "bc.head(3)\n",
    "set(bc[\"cell\"])"
   ]
  },
  {
   "cell_type": "code",
   "execution_count": 38,
   "id": "88aca852",
   "metadata": {},
   "outputs": [
    {
     "data": {
      "text/plain": [
       "(10, 10)"
      ]
     },
     "execution_count": 38,
     "metadata": {},
     "output_type": "execute_result"
    },
    {
     "data": {
      "text/html": [
       "<div>\n",
       "<style scoped>\n",
       "    .dataframe tbody tr th:only-of-type {\n",
       "        vertical-align: middle;\n",
       "    }\n",
       "\n",
       "    .dataframe tbody tr th {\n",
       "        vertical-align: top;\n",
       "    }\n",
       "\n",
       "    .dataframe thead th {\n",
       "        text-align: right;\n",
       "    }\n",
       "</style>\n",
       "<table border=\"1\" class=\"dataframe\">\n",
       "  <thead>\n",
       "    <tr style=\"text-align: right;\">\n",
       "      <th></th>\n",
       "      <th>gene</th>\n",
       "      <th>cancer</th>\n",
       "      <th>cell</th>\n",
       "      <th>total_mean_1</th>\n",
       "      <th>total_mean_2</th>\n",
       "      <th>foldChange</th>\n",
       "      <th>pvalue</th>\n",
       "      <th>pvalue.adj.FDR</th>\n",
       "      <th>Type</th>\n",
       "      <th>State</th>\n",
       "    </tr>\n",
       "  </thead>\n",
       "  <tbody>\n",
       "    <tr>\n",
       "      <th>73</th>\n",
       "      <td>HNRNPH3</td>\n",
       "      <td>BC</td>\n",
       "      <td>Myeloid</td>\n",
       "      <td>0.781059</td>\n",
       "      <td>0.514234</td>\n",
       "      <td>1.518878</td>\n",
       "      <td>0.0</td>\n",
       "      <td>0.0</td>\n",
       "      <td>DEg</td>\n",
       "      <td>up</td>\n",
       "    </tr>\n",
       "    <tr>\n",
       "      <th>74</th>\n",
       "      <td>NONO</td>\n",
       "      <td>BC</td>\n",
       "      <td>Myeloid</td>\n",
       "      <td>0.818737</td>\n",
       "      <td>0.624594</td>\n",
       "      <td>1.310830</td>\n",
       "      <td>0.0</td>\n",
       "      <td>0.0</td>\n",
       "      <td>DEg</td>\n",
       "      <td>up</td>\n",
       "    </tr>\n",
       "    <tr>\n",
       "      <th>75</th>\n",
       "      <td>HNRNPF</td>\n",
       "      <td>BC</td>\n",
       "      <td>Myeloid</td>\n",
       "      <td>1.796334</td>\n",
       "      <td>1.072842</td>\n",
       "      <td>1.674370</td>\n",
       "      <td>0.0</td>\n",
       "      <td>0.0</td>\n",
       "      <td>DEg</td>\n",
       "      <td>up</td>\n",
       "    </tr>\n",
       "    <tr>\n",
       "      <th>76</th>\n",
       "      <td>SRSF6</td>\n",
       "      <td>BC</td>\n",
       "      <td>Myeloid</td>\n",
       "      <td>0.358961</td>\n",
       "      <td>0.242822</td>\n",
       "      <td>1.478290</td>\n",
       "      <td>0.0</td>\n",
       "      <td>0.0</td>\n",
       "      <td>DEg</td>\n",
       "      <td>up</td>\n",
       "    </tr>\n",
       "    <tr>\n",
       "      <th>79</th>\n",
       "      <td>TRA2B</td>\n",
       "      <td>BC</td>\n",
       "      <td>Myeloid</td>\n",
       "      <td>0.980143</td>\n",
       "      <td>0.481058</td>\n",
       "      <td>2.037474</td>\n",
       "      <td>0.0</td>\n",
       "      <td>0.0</td>\n",
       "      <td>DEg</td>\n",
       "      <td>up</td>\n",
       "    </tr>\n",
       "    <tr>\n",
       "      <th>80</th>\n",
       "      <td>PUM1</td>\n",
       "      <td>BC</td>\n",
       "      <td>Myeloid</td>\n",
       "      <td>0.555499</td>\n",
       "      <td>0.275608</td>\n",
       "      <td>2.015540</td>\n",
       "      <td>0.0</td>\n",
       "      <td>0.0</td>\n",
       "      <td>DEg</td>\n",
       "      <td>up</td>\n",
       "    </tr>\n",
       "    <tr>\n",
       "      <th>83</th>\n",
       "      <td>HNRNPK</td>\n",
       "      <td>BC</td>\n",
       "      <td>Myeloid</td>\n",
       "      <td>2.754582</td>\n",
       "      <td>1.623643</td>\n",
       "      <td>1.696544</td>\n",
       "      <td>0.0</td>\n",
       "      <td>0.0</td>\n",
       "      <td>DEg</td>\n",
       "      <td>up</td>\n",
       "    </tr>\n",
       "    <tr>\n",
       "      <th>84</th>\n",
       "      <td>TIAL1</td>\n",
       "      <td>BC</td>\n",
       "      <td>Myeloid</td>\n",
       "      <td>0.627291</td>\n",
       "      <td>0.395629</td>\n",
       "      <td>1.585556</td>\n",
       "      <td>0.0</td>\n",
       "      <td>0.0</td>\n",
       "      <td>DEg</td>\n",
       "      <td>up</td>\n",
       "    </tr>\n",
       "  </tbody>\n",
       "</table>\n",
       "</div>"
      ],
      "text/plain": [
       "       gene cancer     cell  total_mean_1  total_mean_2  foldChange  pvalue  \\\n",
       "73  HNRNPH3     BC  Myeloid      0.781059      0.514234    1.518878     0.0   \n",
       "74     NONO     BC  Myeloid      0.818737      0.624594    1.310830     0.0   \n",
       "75   HNRNPF     BC  Myeloid      1.796334      1.072842    1.674370     0.0   \n",
       "76    SRSF6     BC  Myeloid      0.358961      0.242822    1.478290     0.0   \n",
       "79    TRA2B     BC  Myeloid      0.980143      0.481058    2.037474     0.0   \n",
       "80     PUM1     BC  Myeloid      0.555499      0.275608    2.015540     0.0   \n",
       "83   HNRNPK     BC  Myeloid      2.754582      1.623643    1.696544     0.0   \n",
       "84    TIAL1     BC  Myeloid      0.627291      0.395629    1.585556     0.0   \n",
       "\n",
       "    pvalue.adj.FDR Type State  \n",
       "73             0.0  DEg    up  \n",
       "74             0.0  DEg    up  \n",
       "75             0.0  DEg    up  \n",
       "76             0.0  DEg    up  \n",
       "79             0.0  DEg    up  \n",
       "80             0.0  DEg    up  \n",
       "83             0.0  DEg    up  \n",
       "84             0.0  DEg    up  "
      ]
     },
     "execution_count": 38,
     "metadata": {},
     "output_type": "execute_result"
    }
   ],
   "source": [
    "bc[bc[\"cell\"]==\"T_cell\"].shape\n",
    "bc[bc[\"cell\"]==\"Myeloid\"]"
   ]
  },
  {
   "cell_type": "code",
   "execution_count": null,
   "id": "e51b2706",
   "metadata": {},
   "outputs": [],
   "source": []
  },
  {
   "cell_type": "code",
   "execution_count": null,
   "id": "494db4fe",
   "metadata": {},
   "outputs": [],
   "source": [
    "### bc left to right :\n",
    "## B_cell,Cancer,DC,EC,Fibroblast,Mast_cell,Myeloid,T_cell"
   ]
  },
  {
   "cell_type": "code",
   "execution_count": 39,
   "id": "b14f52ba",
   "metadata": {},
   "outputs": [],
   "source": [
    "crc=df[(df[\"cancer\"]==\"CRC\")&(df[\"gene\"].isin(inter_all))]\n",
    "\n",
    "set(crc[\"cell\"])"
   ]
  },
  {
   "cell_type": "code",
   "execution_count": 45,
   "id": "5f26a13a",
   "metadata": {},
   "outputs": [
    {
     "data": {
      "text/plain": [
       "(5, 10)"
      ]
     },
     "execution_count": 45,
     "metadata": {},
     "output_type": "execute_result"
    }
   ],
   "source": [
    "crc[crc[\"cell\"]==\"Enteric_glia\"].shape\n",
    "#crc[crc[\"cell\"]==\"B_cell\"]"
   ]
  },
  {
   "cell_type": "code",
   "execution_count": null,
   "id": "a16f5818",
   "metadata": {},
   "outputs": [],
   "source": [
    "### crc left to right :\n",
    "##B_cell,Cancer,EC,Enteric_glia,Epithelial,Fibroblast,Mast,Myeloid,T_cell"
   ]
  },
  {
   "cell_type": "code",
   "execution_count": 46,
   "id": "a6bf1b5a",
   "metadata": {},
   "outputs": [
    {
     "data": {
      "text/plain": [
       "{'Alveolar',\n",
       " 'B_cell',\n",
       " 'Cancer',\n",
       " 'EC',\n",
       " 'Epithelial',\n",
       " 'Fibroblast',\n",
       " 'Mast_cell',\n",
       " 'Myeloid',\n",
       " 'T_cell'}"
      ]
     },
     "execution_count": 46,
     "metadata": {},
     "output_type": "execute_result"
    }
   ],
   "source": [
    "lc=df[(df[\"cancer\"]==\"LC\")&(df[\"gene\"].isin(inter_all))]\n",
    "\n",
    "set(lc[\"cell\"])"
   ]
  },
  {
   "cell_type": "code",
   "execution_count": null,
   "id": "da896fbd",
   "metadata": {},
   "outputs": [],
   "source": [
    "### lc left to right :\n",
    "##Alveolar,B_cell,Cancer,EC,Epithelial,Fibroblast,Mast,Myeloid,T_cell"
   ]
  },
  {
   "cell_type": "code",
   "execution_count": 47,
   "id": "1eaee89a",
   "metadata": {},
   "outputs": [
    {
     "data": {
      "text/plain": [
       "{'B_cell', 'Cancer', 'EC', 'Fibroblast', 'Myeloid', 'T_cell'}"
      ]
     },
     "execution_count": 47,
     "metadata": {},
     "output_type": "execute_result"
    }
   ],
   "source": [
    "ovc=df[(df[\"cancer\"]==\"OvC\")&(df[\"gene\"].isin(inter_all))]\n",
    "\n",
    "set(ovc[\"cell\"])"
   ]
  },
  {
   "cell_type": "code",
   "execution_count": null,
   "id": "32206ba2",
   "metadata": {},
   "outputs": [],
   "source": [
    "###ovc left to right :\n",
    "##B_cell,Cancer,EC,Fibroblast,Myeloid,T_cell"
   ]
  },
  {
   "cell_type": "code",
   "execution_count": 8,
   "id": "deb704c7",
   "metadata": {},
   "outputs": [],
   "source": [
    "############"
   ]
  },
  {
   "cell_type": "code",
   "execution_count": 11,
   "id": "8ec70ae5",
   "metadata": {},
   "outputs": [],
   "source": [
    "cancer_cell_regulons=pd.read_csv(dir1+\"4_cancer_cancer_cell_regulons.txt\",header=0,sep=\"\\t\")\n",
    "regulons_infor=pd.read_csv(dir1+\"4_cancer_regulons_infor.txt\",header=0,sep=\"\\t\")"
   ]
  },
  {
   "cell_type": "code",
   "execution_count": 12,
   "id": "f50efa20",
   "metadata": {
    "scrolled": true
   },
   "outputs": [
    {
     "data": {
      "text/html": [
       "<div>\n",
       "<style scoped>\n",
       "    .dataframe tbody tr th:only-of-type {\n",
       "        vertical-align: middle;\n",
       "    }\n",
       "\n",
       "    .dataframe tbody tr th {\n",
       "        vertical-align: top;\n",
       "    }\n",
       "\n",
       "    .dataframe thead th {\n",
       "        text-align: right;\n",
       "    }\n",
       "</style>\n",
       "<table border=\"1\" class=\"dataframe\">\n",
       "  <thead>\n",
       "    <tr style=\"text-align: right;\">\n",
       "      <th></th>\n",
       "      <th>cancer_cell</th>\n",
       "      <th>cancers</th>\n",
       "      <th>celltypes</th>\n",
       "      <th>regulon_num</th>\n",
       "      <th>regulons</th>\n",
       "    </tr>\n",
       "  </thead>\n",
       "  <tbody>\n",
       "    <tr>\n",
       "      <th>0</th>\n",
       "      <td>CRC/Mast_cell</td>\n",
       "      <td>CRC</td>\n",
       "      <td>Mast_cell</td>\n",
       "      <td>18</td>\n",
       "      <td>SRSF7 (19g),RBM5 (34g),SF1 (23g),TIAL1 (72g),R...</td>\n",
       "    </tr>\n",
       "    <tr>\n",
       "      <th>1</th>\n",
       "      <td>CRC/Myeloid</td>\n",
       "      <td>CRC</td>\n",
       "      <td>Myeloid</td>\n",
       "      <td>11</td>\n",
       "      <td>SRSF10 (321g),SF1 (1983g),HNRNPF (2155g),HNRNP...</td>\n",
       "    </tr>\n",
       "    <tr>\n",
       "      <th>2</th>\n",
       "      <td>OvC/T_cell</td>\n",
       "      <td>OvC</td>\n",
       "      <td>T_cell</td>\n",
       "      <td>12</td>\n",
       "      <td>ELAVL1 (45g),PCBP2 (25g),TIAL1 (96g),HNRNPF (7...</td>\n",
       "    </tr>\n",
       "  </tbody>\n",
       "</table>\n",
       "</div>"
      ],
      "text/plain": [
       "     cancer_cell cancers  celltypes  regulon_num  \\\n",
       "0  CRC/Mast_cell     CRC  Mast_cell           18   \n",
       "1    CRC/Myeloid     CRC    Myeloid           11   \n",
       "2     OvC/T_cell     OvC     T_cell           12   \n",
       "\n",
       "                                            regulons  \n",
       "0  SRSF7 (19g),RBM5 (34g),SF1 (23g),TIAL1 (72g),R...  \n",
       "1  SRSF10 (321g),SF1 (1983g),HNRNPF (2155g),HNRNP...  \n",
       "2  ELAVL1 (45g),PCBP2 (25g),TIAL1 (96g),HNRNPF (7...  "
      ]
     },
     "execution_count": 12,
     "metadata": {},
     "output_type": "execute_result"
    },
    {
     "data": {
      "text/html": [
       "<div>\n",
       "<style scoped>\n",
       "    .dataframe tbody tr th:only-of-type {\n",
       "        vertical-align: middle;\n",
       "    }\n",
       "\n",
       "    .dataframe tbody tr th {\n",
       "        vertical-align: top;\n",
       "    }\n",
       "\n",
       "    .dataframe thead th {\n",
       "        text-align: right;\n",
       "    }\n",
       "</style>\n",
       "<table border=\"1\" class=\"dataframe\">\n",
       "  <thead>\n",
       "    <tr style=\"text-align: right;\">\n",
       "      <th></th>\n",
       "      <th>cancer_cell</th>\n",
       "      <th>cancer</th>\n",
       "      <th>cell_typle</th>\n",
       "      <th>regulon</th>\n",
       "      <th>threshold</th>\n",
       "      <th>nCellsAssigned</th>\n",
       "      <th>nGenes</th>\n",
       "    </tr>\n",
       "  </thead>\n",
       "  <tbody>\n",
       "    <tr>\n",
       "      <th>0</th>\n",
       "      <td>BC/B_cell</td>\n",
       "      <td>BC</td>\n",
       "      <td>B_cell</td>\n",
       "      <td>RBMS1 (29g)</td>\n",
       "      <td>0.00494</td>\n",
       "      <td>99</td>\n",
       "      <td>29</td>\n",
       "    </tr>\n",
       "    <tr>\n",
       "      <th>1</th>\n",
       "      <td>BC/B_cell</td>\n",
       "      <td>BC</td>\n",
       "      <td>B_cell</td>\n",
       "      <td>TRA2B (44g)</td>\n",
       "      <td>0.00765</td>\n",
       "      <td>116</td>\n",
       "      <td>44</td>\n",
       "    </tr>\n",
       "    <tr>\n",
       "      <th>2</th>\n",
       "      <td>BC/B_cell</td>\n",
       "      <td>BC</td>\n",
       "      <td>B_cell</td>\n",
       "      <td>DDX58 (42g)</td>\n",
       "      <td>0.00300</td>\n",
       "      <td>227</td>\n",
       "      <td>42</td>\n",
       "    </tr>\n",
       "  </tbody>\n",
       "</table>\n",
       "</div>"
      ],
      "text/plain": [
       "  cancer_cell cancer cell_typle      regulon  threshold  nCellsAssigned  \\\n",
       "0   BC/B_cell     BC     B_cell  RBMS1 (29g)    0.00494              99   \n",
       "1   BC/B_cell     BC     B_cell  TRA2B (44g)    0.00765             116   \n",
       "2   BC/B_cell     BC     B_cell  DDX58 (42g)    0.00300             227   \n",
       "\n",
       "   nGenes  \n",
       "0      29  \n",
       "1      44  \n",
       "2      42  "
      ]
     },
     "execution_count": 12,
     "metadata": {},
     "output_type": "execute_result"
    }
   ],
   "source": [
    "cancer_cell_regulons.head(3)\n",
    "regulons_infor.head(3)"
   ]
  },
  {
   "cell_type": "code",
   "execution_count": 35,
   "id": "b1fb4f81",
   "metadata": {},
   "outputs": [
    {
     "data": {
      "text/plain": [
       "(6, 5)"
      ]
     },
     "execution_count": 35,
     "metadata": {},
     "output_type": "execute_result"
    },
    {
     "data": {
      "text/html": [
       "<div>\n",
       "<style scoped>\n",
       "    .dataframe tbody tr th:only-of-type {\n",
       "        vertical-align: middle;\n",
       "    }\n",
       "\n",
       "    .dataframe tbody tr th {\n",
       "        vertical-align: top;\n",
       "    }\n",
       "\n",
       "    .dataframe thead th {\n",
       "        text-align: right;\n",
       "    }\n",
       "</style>\n",
       "<table border=\"1\" class=\"dataframe\">\n",
       "  <thead>\n",
       "    <tr style=\"text-align: right;\">\n",
       "      <th></th>\n",
       "      <th>cancer_cell</th>\n",
       "      <th>cancers</th>\n",
       "      <th>celltypes</th>\n",
       "      <th>regulon_num</th>\n",
       "      <th>regulons</th>\n",
       "    </tr>\n",
       "  </thead>\n",
       "  <tbody>\n",
       "    <tr>\n",
       "      <th>2</th>\n",
       "      <td>OvC/T_cell</td>\n",
       "      <td>OvC</td>\n",
       "      <td>T_cell</td>\n",
       "      <td>12</td>\n",
       "      <td>ELAVL1 (45g),PCBP2 (25g),TIAL1 (96g),HNRNPF (7...</td>\n",
       "    </tr>\n",
       "    <tr>\n",
       "      <th>3</th>\n",
       "      <td>OvC/Myeloid</td>\n",
       "      <td>OvC</td>\n",
       "      <td>Myeloid</td>\n",
       "      <td>15</td>\n",
       "      <td>YBX1 (27g),HNRNPF (343g),HNRNPK (26g),SRSF7 (1...</td>\n",
       "    </tr>\n",
       "    <tr>\n",
       "      <th>7</th>\n",
       "      <td>OvC/B_cell</td>\n",
       "      <td>OvC</td>\n",
       "      <td>B_cell</td>\n",
       "      <td>13</td>\n",
       "      <td>ELAVL1 (403g),PCBP2 (150g),MBNL1 (134g),HNRNPF...</td>\n",
       "    </tr>\n",
       "    <tr>\n",
       "      <th>15</th>\n",
       "      <td>OvC/EC</td>\n",
       "      <td>OvC</td>\n",
       "      <td>EC</td>\n",
       "      <td>18</td>\n",
       "      <td>SFPQ (27g),TRA2B (89g),SRSF7 (61g),MBNL1 (55g)...</td>\n",
       "    </tr>\n",
       "    <tr>\n",
       "      <th>29</th>\n",
       "      <td>OvC/Cancer</td>\n",
       "      <td>OvC</td>\n",
       "      <td>Cancer</td>\n",
       "      <td>19</td>\n",
       "      <td>SRSF4 (47g),SRSF10 (13g),PUM2 (191g),PUM1 (47g...</td>\n",
       "    </tr>\n",
       "    <tr>\n",
       "      <th>30</th>\n",
       "      <td>OvC/Fibroblast</td>\n",
       "      <td>OvC</td>\n",
       "      <td>Fibroblast</td>\n",
       "      <td>11</td>\n",
       "      <td>TIAL1 (193g),HNRNPH3 (422g),SRSF5 (25g),RBMS1 ...</td>\n",
       "    </tr>\n",
       "  </tbody>\n",
       "</table>\n",
       "</div>"
      ],
      "text/plain": [
       "       cancer_cell cancers   celltypes  regulon_num  \\\n",
       "2       OvC/T_cell     OvC      T_cell           12   \n",
       "3      OvC/Myeloid     OvC     Myeloid           15   \n",
       "7       OvC/B_cell     OvC      B_cell           13   \n",
       "15          OvC/EC     OvC          EC           18   \n",
       "29      OvC/Cancer     OvC      Cancer           19   \n",
       "30  OvC/Fibroblast     OvC  Fibroblast           11   \n",
       "\n",
       "                                             regulons  \n",
       "2   ELAVL1 (45g),PCBP2 (25g),TIAL1 (96g),HNRNPF (7...  \n",
       "3   YBX1 (27g),HNRNPF (343g),HNRNPK (26g),SRSF7 (1...  \n",
       "7   ELAVL1 (403g),PCBP2 (150g),MBNL1 (134g),HNRNPF...  \n",
       "15  SFPQ (27g),TRA2B (89g),SRSF7 (61g),MBNL1 (55g)...  \n",
       "29  SRSF4 (47g),SRSF10 (13g),PUM2 (191g),PUM1 (47g...  \n",
       "30  TIAL1 (193g),HNRNPH3 (422g),SRSF5 (25g),RBMS1 ...  "
      ]
     },
     "execution_count": 35,
     "metadata": {},
     "output_type": "execute_result"
    }
   ],
   "source": [
    "cancer_cell_regulons[cancer_cell_regulons[\"cancers\"]==\"OvC\"].shape\n",
    "bc_c=list(set(cancer_cell_regulons[cancer_cell_regulons[\"cancers\"]==\"OvC\"][\"celltypes\"]))\n",
    "bc_in=cancer_cell_regulons[cancer_cell_regulons[\"cancers\"]==\"OvC\"]\n",
    "bc_in"
   ]
  },
  {
   "cell_type": "code",
   "execution_count": 36,
   "id": "a21c0443",
   "metadata": {},
   "outputs": [
    {
     "name": "stdout",
     "output_type": "stream",
     "text": [
      "B_cell: 13种  （ELAVL1 (403g),PCBP2 (150g),MBNL1 (134g),HNRNPF (129g),PUM1 (152g),HNRNPH1 (224g),TIAL1 (1536g),HNRNPH3 (868g),SF1 (24g),SSB (22g),CELF1 (112g),SFPQ (150g),HNRNPK (20g)）\n",
      "Myeloid: 15种  （YBX1 (27g),HNRNPF (343g),HNRNPK (26g),SRSF7 (173g),TRA2B (20g),HNRNPH1 (182g),MBNL1 (24g),FMR1 (24g),SRSF6 (15g),RBM14 (132g),HNRNPD (31g),PUM1 (22g),SF1 (19g),NONO (1635g),RBM25 (252g)）\n",
      "T_cell: 12种  （ELAVL1 (45g),PCBP2 (25g),TIAL1 (96g),HNRNPF (779g),HNRNPH1 (673g),MBNL1 (1277g),SRSF7 (695g),TRA2B (24g),SFPQ (18g),G3BP1 (10g),SRSF6 (27g),SF1 (19g)）\n",
      "Fibroblast: 11种  （TIAL1 (193g),HNRNPH3 (422g),SRSF5 (25g),RBMS1 (15g),SRSF7 (554g),PCBP2 (130g),HNRNPH1 (46g),SRSF6 (28g),HNRNPDL (75g),PUM1 (31g),SF1 (11g)）\n",
      "Cancer: 19种  （SRSF4 (47g),SRSF10 (13g),PUM2 (191g),PUM1 (47g),PCBP2 (24g),HNRNPDL (49g),YBX1 (36g),HNRNPF (40g),TIAL1 (805g),SRSF7 (54g),SF1 (154g),HNRNPK (82g),NOVA1 (19g),HNRNPH1 (32g),SFPQ (19g),TIA1 (26g),SRSF6 (107g),HNRNPH3 (148g),TRA2B (35g)）\n",
      "EC: 18种  （SFPQ (27g),TRA2B (89g),SRSF7 (61g),MBNL1 (55g),PUM2 (48g),PUM1 (22g),RC3H1 (27g),RBMX (25g),HNRNPH1 (41g),HNRNPLL (25g),HNRNPK (1177g),HNRNPH3 (91g),TIAL1 (163g),FMR1 (147g),HNRNPF (2547g),SF1 (2085g),NONO (36g),SSB (23g)）\n"
     ]
    }
   ],
   "source": [
    "for ww in bc_c:\n",
    "    print(ww+\": \"+str(bc_in[bc_in[\"celltypes\"]==ww][\"regulon_num\"].tolist()[0])+\"种  （\"+bc_in[bc_in[\"celltypes\"]==ww][\"regulons\"].tolist()[0]+\"）\")\n",
    "    "
   ]
  },
  {
   "cell_type": "code",
   "execution_count": 27,
   "id": "3d1b573f",
   "metadata": {},
   "outputs": [
    {
     "data": {
      "text/plain": [
       "['B_cell',\n",
       " 'Myeloid',\n",
       " 'Cancer',\n",
       " 'Mast_cell',\n",
       " 'T_cell',\n",
       " 'Fibroblast',\n",
       " 'DC',\n",
       " 'EC']"
      ]
     },
     "execution_count": 27,
     "metadata": {},
     "output_type": "execute_result"
    }
   ],
   "source": [
    "bc_c"
   ]
  },
  {
   "cell_type": "code",
   "execution_count": 41,
   "id": "8eab214a",
   "metadata": {},
   "outputs": [
    {
     "data": {
      "text/plain": [
       "'Enteric_glia,Myeloid,B_cell,Epithelial,Mast_cell,T_cell,Fibroblast,Cancer,EC'"
      ]
     },
     "execution_count": 41,
     "metadata": {},
     "output_type": "execute_result"
    }
   ],
   "source": [
    "bc_c=list(set(cancer_cell_regulons[cancer_cell_regulons[\"cancers\"]==\"CRC\"][\"celltypes\"]))\n",
    "\",\".join(bc_c)"
   ]
  },
  {
   "cell_type": "code",
   "execution_count": null,
   "id": "2be1cce5",
   "metadata": {},
   "outputs": [],
   "source": []
  },
  {
   "cell_type": "code",
   "execution_count": null,
   "id": "c93426a2",
   "metadata": {},
   "outputs": [],
   "source": []
  }
 ],
 "metadata": {
  "kernelspec": {
   "display_name": "py37",
   "language": "python",
   "name": "py37"
  },
  "language_info": {
   "codemirror_mode": {
    "name": "ipython",
    "version": 3
   },
   "file_extension": ".py",
   "mimetype": "text/x-python",
   "name": "python",
   "nbconvert_exporter": "python",
   "pygments_lexer": "ipython3",
   "version": "3.7.11"
  }
 },
 "nbformat": 4,
 "nbformat_minor": 5
}
