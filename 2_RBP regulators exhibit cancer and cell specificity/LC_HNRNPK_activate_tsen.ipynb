{
 "cells": [
  {
   "cell_type": "code",
   "execution_count": null,
   "metadata": {},
   "outputs": [],
   "source": [
    "import matplotlib.pyplot as plt\n",
    "import numpy as np ,pandas as pd\n",
    "from collections import OrderedDict,Counter\n",
    "import os\n",
    "import statsmodels.stats.multitest as multi\n",
    "import scipy.stats as stats\n",
    "from collections import Counter\n",
    "from IPython.core.interactiveshell import InteractiveShell\n",
    "InteractiveShell.ast_node_interactivity=\"all\"\n",
    "import math"
   ]
  },
  {
   "cell_type": "code",
   "execution_count": null,
   "metadata": {},
   "outputs": [],
   "source": [
    "dir=\"E:\\\\project\\\\singcells\\\\1_C_regulons\\\\LC\\\\AUC_activate_cell\\\\\""
   ]
  },
  {
   "cell_type": "code",
   "execution_count": null,
   "metadata": {},
   "outputs": [],
   "source": [
    "files=os.listdir(dir)"
   ]
  },
  {
   "cell_type": "code",
   "execution_count": null,
   "metadata": {},
   "outputs": [],
   "source": [
    "f0=files[0]"
   ]
  },
  {
   "cell_type": "code",
   "execution_count": null,
   "metadata": {},
   "outputs": [],
   "source": [
    "hnrnpk_all=[\"HNRNPK (2280g)\",\"HNRNPK (578g)\",\"HNRNPK (23g)\",\"HNRNPK (49g)\",\"HNRNPK (36g)\"]"
   ]
  },
  {
   "cell_type": "code",
   "execution_count": null,
   "metadata": {},
   "outputs": [],
   "source": [
    "cell_name=[]\n",
    "cell_activate=[]\n",
    "for f0 in files:\n",
    "    data0=pd.read_csv(dir+f0,header=0,sep=\"\\t\",index_col=0)\n",
    "    inter0=list(set(hnrnpk_all).intersection(set(data0.index.tolist())))\n",
    "    inter0\n",
    "    if len(inter0)==0:\n",
    "        cell_name=cell_name+data0.columns.tolist()\n",
    "        cell_activate=cell_activate+[0]*data0.shape[1]\n",
    "    else:\n",
    "        cell_name=cell_name+data0.columns.tolist()\n",
    "        cell_activate=cell_activate+data0.loc[inter0[0]].tolist()\n",
    "\n"
   ]
  },
  {
   "cell_type": "code",
   "execution_count": null,
   "metadata": {},
   "outputs": [],
   "source": [
    "cell_infor=pd.read_csv(\"E:\\\\project\\\\singcells\\\\scRNA_data\\\\jt_pan-cancer blueprint microenvironment single-cell profiling\\\\LC_counts\\\\LC_metadata.csv\",header=0,sep=\",\")"
   ]
  },
  {
   "cell_type": "code",
   "execution_count": null,
   "metadata": {
    "scrolled": true
   },
   "outputs": [],
   "source": [
    "cell_infor.head(3)"
   ]
  },
  {
   "cell_type": "code",
   "execution_count": null,
   "metadata": {},
   "outputs": [],
   "source": [
    "cell_infor[cell_infor[\"CellType\"].isin([\"Cancer\",\"B_cell\",\"Fibroblast\",\"Mast_cell\",\"T_cell\"])].shape\n",
    "cell_infor[cell_infor[\"CellType\"].isin([\"Cancer\",\"B_cell\",\"T_cell\"])].shape"
   ]
  },
  {
   "cell_type": "code",
   "execution_count": null,
   "metadata": {},
   "outputs": [],
   "source": [
    "cell_name=cell_name+cell_infor[cell_infor[\"CellType\"]==\"Erythroblast\"][\"Cell\"].tolist()\n",
    "cell_activate=cell_activate+[0]*395"
   ]
  },
  {
   "cell_type": "code",
   "execution_count": null,
   "metadata": {},
   "outputs": [],
   "source": [
    "hnrnpk_df=pd.DataFrame()\n",
    "\n",
    "hnrnpk_df[\"cell_name\"]=cell_name\n",
    "hnrnpk_df[\"cell_activate\"]=cell_activate"
   ]
  },
  {
   "cell_type": "code",
   "execution_count": null,
   "metadata": {},
   "outputs": [],
   "source": [
    "on_off=[]\n",
    "for ww in cell_activate:\n",
    "    if ww >0:\n",
    "        on_off.append(\"on\")\n",
    "    else:\n",
    "        on_off.append(\"off\")\n",
    "\n",
    "hnrnpk_df[\"on_off\"]=on_off\n"
   ]
  },
  {
   "cell_type": "code",
   "execution_count": null,
   "metadata": {},
   "outputs": [],
   "source": [
    "Counter(on_off)\n",
    "Counter(cell_activate)"
   ]
  },
  {
   "cell_type": "code",
   "execution_count": null,
   "metadata": {
    "scrolled": true
   },
   "outputs": [],
   "source": [
    "hnrnpk_df.head(3)\n",
    "hnrnpk_df.shape"
   ]
  },
  {
   "cell_type": "code",
   "execution_count": null,
   "metadata": {},
   "outputs": [],
   "source": [
    "loc_lc=pd.read_csv(\"E:\\\\project\\\\singcells\\\\1_B_tsne\\\\pca\\\\lc_tsne_loc.txt\",header=0,sep=\"\\t\")"
   ]
  },
  {
   "cell_type": "code",
   "execution_count": null,
   "metadata": {},
   "outputs": [],
   "source": [
    "in_new=[]\n",
    "for ww in loc_lc.index:\n",
    "    arr=ww.split(\"-\")\n",
    "    in_new.append(\"_\".join(arr[0:2]))\n",
    "\n",
    "loc_lc.index=in_new"
   ]
  },
  {
   "cell_type": "code",
   "execution_count": null,
   "metadata": {},
   "outputs": [],
   "source": [
    "loc_lc.head(3)"
   ]
  },
  {
   "cell_type": "code",
   "execution_count": null,
   "metadata": {},
   "outputs": [],
   "source": [
    "loc_lc=loc_lc.loc[cell_name]"
   ]
  },
  {
   "cell_type": "code",
   "execution_count": null,
   "metadata": {},
   "outputs": [],
   "source": [
    "loc_lc[\"activte_type\"]=hnrnpk_df[\"on_off\"].tolist()\n",
    "loc_lc[\"cell_activate\"]=hnrnpk_df[\"cell_activate\"].tolist()"
   ]
  },
  {
   "cell_type": "code",
   "execution_count": null,
   "metadata": {},
   "outputs": [],
   "source": [
    "loc_lc.head(3)"
   ]
  },
  {
   "cell_type": "code",
   "execution_count": null,
   "metadata": {},
   "outputs": [],
   "source": [
    "loc_lc.to_csv(\"E:\\\\project\\\\singcells\\\\1_C_regulons\\\\LC\\\\HNRNPK\\\\lc_hnrnpk_cellActivate.txt\",header=True,sep=\"\\t\",index=True)"
   ]
  },
  {
   "cell_type": "code",
   "execution_count": null,
   "metadata": {},
   "outputs": [],
   "source": [
    "###效果不好"
   ]
  }
 ],
 "metadata": {
  "kernelspec": {
   "display_name": "py37",
   "language": "python",
   "name": "py37"
  },
  "language_info": {
   "codemirror_mode": {
    "name": "ipython",
    "version": 3
   },
   "file_extension": ".py",
   "mimetype": "text/x-python",
   "name": "python",
   "nbconvert_exporter": "python",
   "pygments_lexer": "ipython3",
   "version": "3.7.11"
  }
 },
 "nbformat": 4,
 "nbformat_minor": 2
}
