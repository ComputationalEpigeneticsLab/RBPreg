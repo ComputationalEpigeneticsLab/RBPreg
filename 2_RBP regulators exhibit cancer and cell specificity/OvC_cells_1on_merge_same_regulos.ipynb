{
 "cells": [
  {
   "cell_type": "code",
   "execution_count": null,
   "metadata": {},
   "outputs": [],
   "source": [
    "import matplotlib.pyplot as plt\n",
    "import numpy as np ,pandas as pd\n",
    "from collections import OrderedDict,Counter\n",
    "import os\n",
    "import statsmodels.stats.multitest as multi\n",
    "import scipy.stats as stats\n",
    "from collections import Counter\n",
    "from IPython.core.interactiveshell import InteractiveShell\n",
    "InteractiveShell.ast_node_interactivity=\"all\"\n",
    "import math"
   ]
  },
  {
   "cell_type": "code",
   "execution_count": null,
   "metadata": {},
   "outputs": [],
   "source": [
    "dir=\"E:\\\\project\\\\singcells\\\\1_C_regulons\\\\OvC\\\\AUC_activate_cell\\\\\"\n",
    "dir2=\"E:\\\\project\\\\singcells\\\\scRNA_data\\\\jt_pan-cancer blueprint microenvironment single-cell profiling\\\\OvC_counts\\\\\"\n",
    "dir1=\"E:\\\\project\\\\singcells\\\\SCENIC\\\\jt_4cancer_scenic_result\\\\SCENIC\\\\jt_4_cancer\\\\all\\\\\"\n",
    "dir3=\"E:\\\\project\\\\singcells\\\\1_C_regulons\\\\OvC\\\\\""
   ]
  },
  {
   "cell_type": "code",
   "execution_count": null,
   "metadata": {},
   "outputs": [],
   "source": [
    "B_cell=pd.read_csv(dir+\"OvC_B_cell_1on.txt\",header=0,index_col=0,sep=\"\\t\")\n",
    "Cancer=pd.read_csv(dir+\"OvC_Cancer_1on.txt\",header=0,index_col=0,sep=\"\\t\")\n",
    "EC=pd.read_csv(dir+\"OvC_EC_1on.txt\",header=0,index_col=0,sep=\"\\t\")\n",
    "Fibroblast=pd.read_csv(dir+\"OvC_Fibroblast_1on.txt\",header=0,index_col=0,sep=\"\\t\")\n",
    "Myeloid=pd.read_csv(dir+\"OvC_Myeloid_1on.txt\",header=0,index_col=0,sep=\"\\t\")\n",
    "T_cell=pd.read_csv(dir+\"OvC_T_cell_1on.txt\",header=0,index_col=0,sep=\"\\t\")\n",
    "col_name=B_cell.columns.tolist()+Cancer.columns.tolist()+EC.columns.tolist()+Fibroblast.columns.tolist()+Myeloid.columns.tolist()+T_cell.columns.tolist()\n"
   ]
  },
  {
   "cell_type": "code",
   "execution_count": null,
   "metadata": {},
   "outputs": [],
   "source": [
    "cell_infor=pd.read_csv(dir2+\"OvC_metadata.csv\",index_col=0)\n",
    "\n",
    "cell_infor.loc[col_name].to_csv(dir3+\"cells_infor_OvC_order.txt\",header=True,index=True,index_label=\"regulons\",sep=\"\\t\")"
   ]
  },
  {
   "cell_type": "code",
   "execution_count": null,
   "metadata": {},
   "outputs": [],
   "source": [
    "types=pd.read_excel(dir1+\"4_cancer_regulons_infor.xlsx\",index_col=0)\n",
    "\n",
    "nu=[]\n",
    "for ww in types.index:\n",
    "    if \"OvC\" in ww:\n",
    "        nu.append(ww)\n",
    "        \n",
    "\n",
    "len(nu)"
   ]
  },
  {
   "cell_type": "code",
   "execution_count": null,
   "metadata": {},
   "outputs": [],
   "source": [
    "data=pd.read_csv(dir3+\"OvC_cells_1on.txt\",header=0,index_col=0,sep=\"\\t\")\n",
    "\n"
   ]
  },
  {
   "cell_type": "code",
   "execution_count": null,
   "metadata": {},
   "outputs": [],
   "source": [
    "same_df=data.loc['SF1 (19g)']\n",
    "\n",
    "val=[0]*same_df.shape[1]\n",
    "for ind,row in same_df.iterrows():\n",
    "    val=np.array(row)+np.array(val)\n",
    "    \n",
    "data.loc[\"SF1 (19gdouble)\"]=list(val) \n",
    "\n",
    "\n",
    "same_df=data.loc['PUM1 (22g)']\n",
    "\n",
    "val=[0]*same_df.shape[1]\n",
    "for ind,row in same_df.iterrows():\n",
    "    val=np.array(row)+np.array(val)\n",
    "    \n",
    "data.loc[\"PUM1 (22gdouble)\"]=list(val) \n",
    "\n",
    "\n",
    "\n",
    "\n",
    "data=data.drop(index=['SF1 (19g)'])\n",
    "data=data.drop(index=['PUM1 (22g)'])\n"
   ]
  },
  {
   "cell_type": "code",
   "execution_count": null,
   "metadata": {},
   "outputs": [],
   "source": [
    "index_names=data.index.tolist()\n",
    "\n",
    "index_names_use=[] \n",
    "for ww in index_names:\n",
    "    index_names_use.append(ww.split(\" \")[0])\n",
    "\n",
    "index_names_use_u=list(set(index_names_use))"
   ]
  },
  {
   "cell_type": "code",
   "execution_count": null,
   "metadata": {},
   "outputs": [],
   "source": []
  },
  {
   "cell_type": "code",
   "execution_count": null,
   "metadata": {},
   "outputs": [],
   "source": [
    "len(index_names_use)\n",
    "len(index_names_use_u)"
   ]
  },
  {
   "cell_type": "code",
   "execution_count": null,
   "metadata": {},
   "outputs": [],
   "source": [
    "bc_regulons_merge=pd.DataFrame(columns=col_name)\n",
    "\n",
    "for reg0 in index_names_use_u:\n",
    "\n",
    "    all1=[]\n",
    "    for ww in index_names:\n",
    "        if reg0 == ww.split(\" \")[0]:\n",
    "            all1.append(ww)\n",
    "\n",
    "    if len(all1)>1:\n",
    "        data_reg0=data.loc[all1]\n",
    "\n",
    "        events=[0]*data.shape[1]\n",
    "\n",
    "        for ind,cols in data_reg0.iterrows():\n",
    "            events=np.array(cols)+np.array(events)\n",
    "\n",
    "\n",
    "        bc_regulons_merge.loc[reg0]=list(events)\n",
    "    else:\n",
    "        bc_regulons_merge.loc[all1[0]]=data.loc[all1[0]]"
   ]
  },
  {
   "cell_type": "code",
   "execution_count": null,
   "metadata": {},
   "outputs": [],
   "source": [
    "bc_regulons_merge.to_csv(dir3+\"OvC_cells_1on_merge_same_regulos.txt\",header=True,index=True,index_label=\"regulons\",sep=\"\\t\")"
   ]
  },
  {
   "cell_type": "code",
   "execution_count": null,
   "metadata": {},
   "outputs": [],
   "source": [
    "bc_regulons_merge.shape"
   ]
  },
  {
   "cell_type": "code",
   "execution_count": null,
   "metadata": {},
   "outputs": [],
   "source": [
    "cell_infor.loc[col_name].shape"
   ]
  },
  {
   "cell_type": "code",
   "execution_count": null,
   "metadata": {},
   "outputs": [],
   "source": [
    "list(set(cell_infor[\"CellType\"]))"
   ]
  },
  {
   "cell_type": "code",
   "execution_count": null,
   "metadata": {},
   "outputs": [],
   "source": [
    "bc_regulons_merge0=pd.read_csv(dir3+\"OvC_cells_1on_merge_same_regulos.txt\",header=0,index_col=0,sep=\"\\t\")\n",
    "\n",
    "bc_regulons_merge0.shape"
   ]
  },
  {
   "cell_type": "code",
   "execution_count": null,
   "metadata": {},
   "outputs": [],
   "source": [
    "onn=[]\n",
    "\n",
    "for ww in bc_regulons_merge0.columns:\n",
    "    if sum(bc_regulons_merge0[ww])>0:\n",
    "        onn.append(ww)"
   ]
  },
  {
   "cell_type": "code",
   "execution_count": null,
   "metadata": {},
   "outputs": [],
   "source": [
    "len(onn)"
   ]
  },
  {
   "cell_type": "code",
   "execution_count": null,
   "metadata": {},
   "outputs": [],
   "source": [
    "bc_regulons_merge_one_cell_on=bc_regulons_merge0[onn]\n",
    "\n",
    "bc_regulons_merge_one_cell_on.shape"
   ]
  },
  {
   "cell_type": "code",
   "execution_count": null,
   "metadata": {},
   "outputs": [],
   "source": [
    "regulon_no0=[]\n",
    "\n",
    "for ww in bc_regulons_merge_one_cell_on.index:\n",
    "    if sum(bc_regulons_merge_one_cell_on.loc[ww])>0:\n",
    "        regulon_no0.append(ww)"
   ]
  },
  {
   "cell_type": "code",
   "execution_count": null,
   "metadata": {},
   "outputs": [],
   "source": [
    "bc_regulons_merge_one_cell_on_regulon_no0=bc_regulons_merge_one_cell_on.loc[regulon_no0]\n",
    "\n",
    "bc_regulons_merge_one_cell_on_regulon_no0.shape"
   ]
  },
  {
   "cell_type": "code",
   "execution_count": null,
   "metadata": {},
   "outputs": [],
   "source": [
    "bc_regulons_merge_one_cell_on_regulon_no0.to_csv(dir3+\"OvC_cells_1on_merge_same_regulos_one_cell_on_regulon_no0.txt\",header=True,index=True,index_label=\"regulons\",sep=\"\\t\")\n",
    "\n",
    "cell_infor.loc[onn].to_csv(dir3+\"cells_infor_OvC_order_one_cell_on.txt\",header=True,index=True,index_label=\"regulons\",sep=\"\\t\")"
   ]
  },
  {
   "cell_type": "code",
   "execution_count": null,
   "metadata": {},
   "outputs": [],
   "source": [
    "cell_infor.loc[onn].shape"
   ]
  },
  {
   "cell_type": "code",
   "execution_count": null,
   "metadata": {},
   "outputs": [],
   "source": [
    "2 in bc_regulons_merge_one_cell_on_regulon_no0.values"
   ]
  },
  {
   "cell_type": "code",
   "execution_count": null,
   "metadata": {},
   "outputs": [],
   "source": []
  }
 ],
 "metadata": {
  "kernelspec": {
   "display_name": "Python [conda env:root] *",
   "language": "python",
   "name": "conda-root-py"
  },
  "language_info": {
   "codemirror_mode": {
    "name": "ipython",
    "version": 3
   },
   "file_extension": ".py",
   "mimetype": "text/x-python",
   "name": "python",
   "nbconvert_exporter": "python",
   "pygments_lexer": "ipython3",
   "version": "3.6.5"
  }
 },
 "nbformat": 4,
 "nbformat_minor": 2
}
