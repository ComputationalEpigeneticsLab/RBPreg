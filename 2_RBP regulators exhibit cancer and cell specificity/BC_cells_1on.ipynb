{
 "cells": [
  {
   "cell_type": "code",
   "execution_count": null,
   "metadata": {},
   "outputs": [],
   "source": [
    "\n",
    "import matplotlib.pyplot as plt\n",
    "import numpy as np ,pandas as pd\n",
    "from collections import OrderedDict,Counter\n",
    "import os\n",
    "import statsmodels.stats.multitest as multi\n",
    "import scipy.stats as stats\n",
    "from collections import Counter\n",
    "from IPython.core.interactiveshell import InteractiveShell\n",
    "InteractiveShell.ast_node_interactivity=\"all\"\n",
    "import math"
   ]
  },
  {
   "cell_type": "code",
   "execution_count": null,
   "metadata": {},
   "outputs": [],
   "source": [
    "dir=\"E:\\\\project\\\\singcells\\\\1_C_regulons\\\\BC\\\\AUC_activate_cell\\\\\"\n",
    "dir1=\"E:\\\\project\\\\singcells\\\\1_C_regulons\\\\BC\\\\AUC_value_matrix\\\\\"\n",
    "dir2=\"E:\\\\project\\\\singcells\\\\scRNA_data\\\\jt_pan-cancer blueprint microenvironment single-cell profiling\\\\BC_counts\\\\\""
   ]
  },
  {
   "cell_type": "code",
   "execution_count": null,
   "metadata": {},
   "outputs": [],
   "source": [
    "files=os.listdir(dir)\n",
    "files"
   ]
  },
  {
   "cell_type": "code",
   "execution_count": null,
   "metadata": {},
   "outputs": [],
   "source": [
    "B_cell=pd.read_csv(dir+\"BC_B_cell_1on.txt\",header=0,index_col=0,sep=\"\\t\")\n",
    "Cancer=pd.read_csv(dir+\"BC_Cancer_1on.txt\",header=0,index_col=0,sep=\"\\t\")\n",
    "DC=pd.read_csv(dir+\"BC_DC_1on.txt\",header=0,index_col=0,sep=\"\\t\")\n",
    "EC=pd.read_csv(dir+\"BC_EC_1on.txt\",header=0,index_col=0,sep=\"\\t\")\n",
    "Fibroblast=pd.read_csv(dir+\"BC_Fibroblast_1on.txt\",header=0,index_col=0,sep=\"\\t\")\n",
    "Mast=pd.read_csv(dir+\"BC_Mast_1on.txt\",header=0,index_col=0,sep=\"\\t\")\n",
    "Myeloid=pd.read_csv(dir+\"BC_Myeloid_1on.txt\",header=0,index_col=0,sep=\"\\t\")\n",
    "T_cell=pd.read_csv(dir+\"BC_T_cell_1on.txt\",header=0,index_col=0,sep=\"\\t\")"
   ]
  },
  {
   "cell_type": "code",
   "execution_count": null,
   "metadata": {},
   "outputs": [],
   "source": [
    "cell_infor=pd.read_csv(dir2+\"BC_metadata.csv\",index_col=0)"
   ]
  },
  {
   "cell_type": "code",
   "execution_count": null,
   "metadata": {},
   "outputs": [],
   "source": [
    "col_name=B_cell.columns.tolist()+Cancer.columns.tolist()+DC.columns.tolist()+EC.columns.tolist()+Fibroblast.columns.tolist()+Mast.columns.tolist()+Myeloid.columns.tolist()+T_cell.columns.tolist()"
   ]
  },
  {
   "cell_type": "code",
   "execution_count": null,
   "metadata": {},
   "outputs": [],
   "source": [
    "bc_cells_all=pd.DataFrame(columns=col_name)"
   ]
  },
  {
   "cell_type": "code",
   "execution_count": null,
   "metadata": {},
   "outputs": [],
   "source": [
    "###B CELL\n",
    "for ind,row in B_cell.iterrows():\n",
    "    r0=[]\n",
    "    for ww in col_name:\n",
    "        if ww in B_cell.columns:\n",
    "            r0.append(int(B_cell.loc[ind][ww]))\n",
    "        else:\n",
    "            r0.append(int(0))\n",
    "    \n",
    "    bc_cells_all.loc[ind]=r0        \n",
    "\n",
    "###Cancer\n",
    "for ind,row in Cancer.iterrows():\n",
    "    r0=[]\n",
    "    for ww in col_name:\n",
    "        if ww in Cancer.columns:\n",
    "            r0.append(int(Cancer.loc[ind][ww]))\n",
    "        else:\n",
    "            r0.append(int(0))\n",
    "    \n",
    "    bc_cells_all.loc[ind]=r0    \n",
    "\n",
    "### DC\n",
    "for ind,row in DC.iterrows():\n",
    "    r0=[]\n",
    "    for ww in col_name:\n",
    "        if ww in DC.columns:\n",
    "            r0.append(int(DC.loc[ind][ww]))\n",
    "        else:\n",
    "            r0.append(int(0))\n",
    "    \n",
    "    bc_cells_all.loc[ind]=r0    \n",
    "\n",
    "###EC\n",
    "for ind,row in EC.iterrows():\n",
    "    r0=[]\n",
    "    for ww in col_name:\n",
    "        if ww in EC.columns:\n",
    "            r0.append(int(EC.loc[ind][ww]))\n",
    "        else:\n",
    "            r0.append(int(0))\n",
    "    \n",
    "    bc_cells_all.loc[ind]=r0    \n",
    "\n",
    "###Fibroblast\n",
    "for ind,row in Fibroblast.iterrows():\n",
    "    r0=[]\n",
    "    for ww in col_name:\n",
    "        if ww in Fibroblast.columns:\n",
    "            r0.append(int(Fibroblast.loc[ind][ww]))\n",
    "        else:\n",
    "            r0.append(int(0))\n",
    "    \n",
    "    bc_cells_all.loc[ind]=r0    \n",
    "\n",
    "###B CELL\n",
    "for ind,row in B_cell.iterrows():\n",
    "    r0=[]\n",
    "    for ww in col_name:\n",
    "        if ww in B_cell.columns:\n",
    "            r0.append(int(B_cell.loc[ind][ww]))\n",
    "        else:\n",
    "            r0.append(int(0))\n",
    "    \n",
    "    bc_cells_all.loc[ind]=r0    \n",
    "\n",
    "###Mast\n",
    "for ind,row in Mast.iterrows():\n",
    "    r0=[]\n",
    "    for ww in col_name:\n",
    "        if ww in Mast.columns:\n",
    "            r0.append(int(Mast.loc[ind][ww]))\n",
    "        else:\n",
    "            r0.append(int(0))\n",
    "    \n",
    "    bc_cells_all.loc[ind]=r0    \n",
    "\n",
    "###Myeloid\n",
    "for ind,row in Myeloid.iterrows():\n",
    "    r0=[]\n",
    "    for ww in col_name:\n",
    "        if ww in Myeloid.columns:\n",
    "            r0.append(int(Myeloid.loc[ind][ww]))\n",
    "        else:\n",
    "            r0.append(int(0))\n",
    "    \n",
    "    bc_cells_all.loc[ind]=r0    \n",
    "\n",
    "###T_cell\n",
    "for ind,row in T_cell.iterrows():\n",
    "    r0=[]\n",
    "    for ww in col_name:\n",
    "        if ww in T_cell.columns:\n",
    "            r0.append(int(T_cell.loc[ind][ww]))\n",
    "        else:\n",
    "            r0.append(int(0))\n",
    "    \n",
    "    bc_cells_all.loc[ind]=r0    "
   ]
  },
  {
   "cell_type": "code",
   "execution_count": null,
   "metadata": {},
   "outputs": [],
   "source": [
    "dir3=\"E:\\\\project\\\\singcells\\\\1_C_regulons\\\\BC\\\\\""
   ]
  },
  {
   "cell_type": "code",
   "execution_count": null,
   "metadata": {},
   "outputs": [],
   "source": [
    "bc_cells_all.to_csv(dir3+\"BC_cells_1on.txt\",header=True,index=True,index_label=\"regulons\",sep=\"\\t\")"
   ]
  },
  {
   "cell_type": "code",
   "execution_count": null,
   "metadata": {},
   "outputs": [],
   "source": [
    "cell_infor.loc[col_name].to_csv(dir3+\"cells_infor_BC_order.txt\",header=True,index=True,index_label=\"regulons\",sep=\"\\t\")"
   ]
  },
  {
   "cell_type": "code",
   "execution_count": null,
   "metadata": {},
   "outputs": [],
   "source": []
  },
  {
   "cell_type": "code",
   "execution_count": null,
   "metadata": {},
   "outputs": [],
   "source": [
    "#####regulons same name merge\n",
    "data=pd.read_csv(dir3+\"BC_cells_1on.txt\",header=0,index_col=0,sep=\"\\t\")\n",
    "index_names=data.index.tolist()\n",
    "index_names_use=[] \n",
    "for ww in index_names:\n",
    "    index_names_use.append(ww.split(\" \")[0])"
   ]
  },
  {
   "cell_type": "code",
   "execution_count": null,
   "metadata": {},
   "outputs": [],
   "source": [
    "index_names_use_u=list(set(index_names_use))\n"
   ]
  },
  {
   "cell_type": "code",
   "execution_count": null,
   "metadata": {},
   "outputs": [],
   "source": [
    "len(index_names_use_u)\n",
    "len(index_names_use)\n",
    "data.shape"
   ]
  },
  {
   "cell_type": "code",
   "execution_count": null,
   "metadata": {},
   "outputs": [],
   "source": [
    "bc_regulons_merge=pd.DataFrame(columns=col_name)"
   ]
  },
  {
   "cell_type": "code",
   "execution_count": null,
   "metadata": {},
   "outputs": [],
   "source": [
    "#reg0=index_names_use_u[2]\n",
    "for reg0 in index_names_use_u:\n",
    "\n",
    "    all1=[]\n",
    "    for ww in index_names:\n",
    "        if reg0 == ww.split(\" \")[0]:\n",
    "            all1.append(ww)\n",
    "\n",
    "    if len(all1)>1:\n",
    "        data_reg0=data.loc[all1]\n",
    "\n",
    "        events=[0]*data.shape[1]\n",
    "\n",
    "        for ind,cols in data_reg0.iterrows():\n",
    "            events=np.array(cols)+np.array(events)\n",
    "\n",
    "\n",
    "        bc_regulons_merge.loc[reg0]=list(events)\n",
    "    else:\n",
    "        bc_regulons_merge.loc[all1[0]]=data.loc[all1[0]]"
   ]
  },
  {
   "cell_type": "code",
   "execution_count": null,
   "metadata": {},
   "outputs": [],
   "source": [
    "bc_regulons_merge.to_csv(dir3+\"BC_cells_1on_merge_same_regulos.txt\",header=True,index=True,index_label=\"regulons\",sep=\"\\t\")"
   ]
  },
  {
   "cell_type": "code",
   "execution_count": null,
   "metadata": {},
   "outputs": [],
   "source": [
    "bc_regulons_merge0=pd.read_csv(dir3+\"BC_cells_1on_merge_same_regulos.txt\",header=0,index_col=0,sep=\"\\t\")"
   ]
  },
  {
   "cell_type": "code",
   "execution_count": null,
   "metadata": {},
   "outputs": [],
   "source": [
    "bc_regulons_merge0.shape"
   ]
  },
  {
   "cell_type": "code",
   "execution_count": null,
   "metadata": {},
   "outputs": [],
   "source": [
    "onn=[]\n",
    "\n",
    "for ww in bc_regulons_merge0.columns:\n",
    "    if sum(bc_regulons_merge0[ww])>0:\n",
    "        onn.append(ww)"
   ]
  },
  {
   "cell_type": "code",
   "execution_count": null,
   "metadata": {},
   "outputs": [],
   "source": [
    "len(onn)"
   ]
  },
  {
   "cell_type": "code",
   "execution_count": null,
   "metadata": {},
   "outputs": [],
   "source": [
    "bc_regulons_merge_one_cell_on=bc_regulons_merge0[onn]\n",
    "\n",
    "bc_regulons_merge_one_cell_on.shape"
   ]
  },
  {
   "cell_type": "code",
   "execution_count": null,
   "metadata": {},
   "outputs": [],
   "source": [
    "regulon_no0=[]\n",
    "\n",
    "for ww in bc_regulons_merge_one_cell_on.index:\n",
    "    if sum(bc_regulons_merge_one_cell_on.loc[ww])>0:\n",
    "        regulon_no0.append(ww)\n",
    "        "
   ]
  },
  {
   "cell_type": "code",
   "execution_count": null,
   "metadata": {},
   "outputs": [],
   "source": [
    "len(regulon_no0)"
   ]
  },
  {
   "cell_type": "code",
   "execution_count": null,
   "metadata": {},
   "outputs": [],
   "source": [
    "bc_regulons_merge_one_cell_on_regulon_no0=bc_regulons_merge_one_cell_on.loc[regulon_no0]\n",
    "\n",
    "bc_regulons_merge_one_cell_on_regulon_no0.shape"
   ]
  },
  {
   "cell_type": "code",
   "execution_count": null,
   "metadata": {},
   "outputs": [],
   "source": [
    "bc_regulons_merge_one_cell_on_regulon_no0.to_csv(dir3+\"BC_cells_1on_merge_same_regulos_one_cell_on_regulon_no0.txt\",header=True,index=True,index_label=\"regulons\",sep=\"\\t\")"
   ]
  },
  {
   "cell_type": "code",
   "execution_count": null,
   "metadata": {},
   "outputs": [],
   "source": [
    "cell_infor.loc[onn].to_csv(dir3+\"cells_infor_BC_order_one_cell_on.txt\",header=True,index=True,index_label=\"regulons\",sep=\"\\t\")"
   ]
  },
  {
   "cell_type": "code",
   "execution_count": null,
   "metadata": {},
   "outputs": [],
   "source": [
    "cell_infor.loc[onn].shape"
   ]
  },
  {
   "cell_type": "code",
   "execution_count": null,
   "metadata": {},
   "outputs": [],
   "source": [
    "list(set(cell_infor[\"CellType\"]))"
   ]
  },
  {
   "cell_type": "code",
   "execution_count": null,
   "metadata": {},
   "outputs": [],
   "source": [
    "2 in bc_regulons_merge_one_cell_on_regulon_no0.values"
   ]
  },
  {
   "cell_type": "code",
   "execution_count": null,
   "metadata": {},
   "outputs": [],
   "source": []
  }
 ],
 "metadata": {
  "kernelspec": {
   "display_name": "py37",
   "language": "python",
   "name": "py37"
  },
  "language_info": {
   "codemirror_mode": {
    "name": "ipython",
    "version": 3
   },
   "file_extension": ".py",
   "mimetype": "text/x-python",
   "name": "python",
   "nbconvert_exporter": "python",
   "pygments_lexer": "ipython3",
   "version": "3.7.11"
  }
 },
 "nbformat": 4,
 "nbformat_minor": 2
}
