{
 "cells": [
  {
   "cell_type": "code",
   "execution_count": 1,
   "id": "a95219b8",
   "metadata": {},
   "outputs": [],
   "source": [
    "import matplotlib.pyplot as plt\n",
    "import numpy as np ,pandas as pd\n",
    "from collections import OrderedDict,Counter\n",
    "import os\n",
    "import statsmodels.stats.multitest as multi\n",
    "import scipy.stats as stats\n",
    "from collections import Counter\n",
    "from IPython.core.interactiveshell import InteractiveShell\n",
    "InteractiveShell.ast_node_interactivity=\"all\"\n",
    "import math"
   ]
  },
  {
   "cell_type": "code",
   "execution_count": 2,
   "id": "ff64fdfe",
   "metadata": {},
   "outputs": [],
   "source": [
    "dir=\"E:\\\\project\\\\singcells\\\\1_diff_exper_analysis\\\\differ-analyse\\\\DE-single\\\\\""
   ]
  },
  {
   "cell_type": "code",
   "execution_count": 4,
   "id": "90da9943",
   "metadata": {},
   "outputs": [],
   "source": [
    "data=pd.read_csv(dir+\"res_all.txt\",header=0,sep=\"\\t\")"
   ]
  },
  {
   "cell_type": "code",
   "execution_count": 5,
   "id": "0b08f044",
   "metadata": {},
   "outputs": [
    {
     "data": {
      "text/html": [
       "<div>\n",
       "<style scoped>\n",
       "    .dataframe tbody tr th:only-of-type {\n",
       "        vertical-align: middle;\n",
       "    }\n",
       "\n",
       "    .dataframe tbody tr th {\n",
       "        vertical-align: top;\n",
       "    }\n",
       "\n",
       "    .dataframe thead th {\n",
       "        text-align: right;\n",
       "    }\n",
       "</style>\n",
       "<table border=\"1\" class=\"dataframe\">\n",
       "  <thead>\n",
       "    <tr style=\"text-align: right;\">\n",
       "      <th></th>\n",
       "      <th>gene</th>\n",
       "      <th>cancer</th>\n",
       "      <th>cell</th>\n",
       "      <th>total_mean_1</th>\n",
       "      <th>total_mean_2</th>\n",
       "      <th>foldChange</th>\n",
       "      <th>pvalue</th>\n",
       "      <th>pvalue.adj.FDR</th>\n",
       "      <th>Type</th>\n",
       "      <th>State</th>\n",
       "    </tr>\n",
       "  </thead>\n",
       "  <tbody>\n",
       "    <tr>\n",
       "      <th>0</th>\n",
       "      <td>RBMS1</td>\n",
       "      <td>BC</td>\n",
       "      <td>B_cell</td>\n",
       "      <td>0.107210</td>\n",
       "      <td>0.398506</td>\n",
       "      <td>0.269030</td>\n",
       "      <td>0.000000</td>\n",
       "      <td>0.000000</td>\n",
       "      <td>DEg</td>\n",
       "      <td>down</td>\n",
       "    </tr>\n",
       "    <tr>\n",
       "      <th>1</th>\n",
       "      <td>TRA2B</td>\n",
       "      <td>BC</td>\n",
       "      <td>B_cell</td>\n",
       "      <td>0.514911</td>\n",
       "      <td>0.503151</td>\n",
       "      <td>1.023374</td>\n",
       "      <td>0.000084</td>\n",
       "      <td>0.000132</td>\n",
       "      <td>DEg</td>\n",
       "      <td>up</td>\n",
       "    </tr>\n",
       "    <tr>\n",
       "      <th>2</th>\n",
       "      <td>DDX58</td>\n",
       "      <td>BC</td>\n",
       "      <td>B_cell</td>\n",
       "      <td>0.111740</td>\n",
       "      <td>0.149152</td>\n",
       "      <td>0.749173</td>\n",
       "      <td>0.227987</td>\n",
       "      <td>0.247529</td>\n",
       "      <td>NaN</td>\n",
       "      <td>NaN</td>\n",
       "    </tr>\n",
       "  </tbody>\n",
       "</table>\n",
       "</div>"
      ],
      "text/plain": [
       "    gene cancer    cell  total_mean_1  total_mean_2  foldChange    pvalue  \\\n",
       "0  RBMS1     BC  B_cell      0.107210      0.398506    0.269030  0.000000   \n",
       "1  TRA2B     BC  B_cell      0.514911      0.503151    1.023374  0.000084   \n",
       "2  DDX58     BC  B_cell      0.111740      0.149152    0.749173  0.227987   \n",
       "\n",
       "   pvalue.adj.FDR Type State  \n",
       "0        0.000000  DEg  down  \n",
       "1        0.000132  DEg    up  \n",
       "2        0.247529  NaN   NaN  "
      ]
     },
     "execution_count": 5,
     "metadata": {},
     "output_type": "execute_result"
    }
   ],
   "source": [
    "data.head(3)"
   ]
  },
  {
   "cell_type": "code",
   "execution_count": 26,
   "id": "24de5e25",
   "metadata": {},
   "outputs": [
    {
     "data": {
      "text/plain": [
       "{'BC', 'CRC', 'LC', 'OvC'}"
      ]
     },
     "execution_count": 26,
     "metadata": {},
     "output_type": "execute_result"
    }
   ],
   "source": [
    "set(data[\"cancer\"])"
   ]
  },
  {
   "cell_type": "code",
   "execution_count": 6,
   "id": "7b9072fe",
   "metadata": {},
   "outputs": [],
   "source": [
    "###bc"
   ]
  },
  {
   "cell_type": "code",
   "execution_count": 40,
   "id": "14130996",
   "metadata": {},
   "outputs": [],
   "source": [
    "data_bc=data[data[\"cancer\"]==\"BC\"]\n",
    "\n",
    "data_bc_res_cellType_num=pd.DataFrame()\n",
    "\n",
    "regs=list(set(data_bc[\"gene\"]))\n",
    "\n",
    "num_c=[]\n",
    "for ww in regs:\n",
    "    num_c.append(data_bc[data_bc[\"gene\"]==ww].shape[0])\n",
    "\n",
    "data_bc_res_cellType_num[\"regs\"]=regs\n",
    "data_bc_res_cellType_num[\"num\"]=num_c\n",
    "\n",
    "data_bc_res_cellType_num_sort=data_bc_res_cellType_num.sort_values(by='num',ascending=False)\n",
    "\n",
    "data_bc_res_cellType_num_sort.to_csv(dir+\"top_exp(marker)_feature\\\\bc_reg_celltypeUP_infor.txt\",header=True,sep=\"\\t\",index=False)"
   ]
  },
  {
   "cell_type": "code",
   "execution_count": 25,
   "id": "fa2ad9ed",
   "metadata": {},
   "outputs": [],
   "source": [
    "###crc"
   ]
  },
  {
   "cell_type": "code",
   "execution_count": 56,
   "id": "07bd7d02",
   "metadata": {},
   "outputs": [],
   "source": [
    "data_bc=data[data[\"cancer\"]==\"CRC\"]\n",
    "\n",
    "data_bc_res_cellType_num=pd.DataFrame()\n",
    "\n",
    "regs=list(set(data_bc[\"gene\"]))\n",
    "\n",
    "num_c=[]\n",
    "for ww in regs:\n",
    "    num_c.append(data_bc[data_bc[\"gene\"]==ww].shape[0])\n",
    "\n",
    "data_bc_res_cellType_num[\"regs\"]=regs\n",
    "data_bc_res_cellType_num[\"num\"]=num_c\n",
    "\n",
    "data_bc_res_cellType_num_sort=data_bc_res_cellType_num.sort_values(by='num',ascending=False)\n",
    "\n",
    "data_bc_res_cellType_num_sort.to_csv(dir+\"top_exp(marker)_feature\\\\crc_reg_celltypeUP_infor.txt\",header=True,sep=\"\\t\",index=False)"
   ]
  },
  {
   "cell_type": "code",
   "execution_count": null,
   "id": "93960773",
   "metadata": {},
   "outputs": [],
   "source": [
    "###lc"
   ]
  },
  {
   "cell_type": "code",
   "execution_count": 57,
   "id": "0fc4ec13",
   "metadata": {},
   "outputs": [],
   "source": [
    "data_bc=data[data[\"cancer\"]==\"LC\"]\n",
    "\n",
    "data_bc_res_cellType_num=pd.DataFrame()\n",
    "\n",
    "regs=list(set(data_bc[\"gene\"]))\n",
    "\n",
    "num_c=[]\n",
    "for ww in regs:\n",
    "    num_c.append(data_bc[data_bc[\"gene\"]==ww].shape[0])\n",
    "\n",
    "data_bc_res_cellType_num[\"regs\"]=regs\n",
    "data_bc_res_cellType_num[\"num\"]=num_c\n",
    "\n",
    "data_bc_res_cellType_num_sort=data_bc_res_cellType_num.sort_values(by='num',ascending=False)\n",
    "\n",
    "data_bc_res_cellType_num_sort.to_csv(dir+\"top_exp(marker)_feature\\\\lc_reg_celltypeUP_infor.txt\",header=True,sep=\"\\t\",index=False)"
   ]
  },
  {
   "cell_type": "code",
   "execution_count": 34,
   "id": "46b144de",
   "metadata": {},
   "outputs": [],
   "source": [
    "###ovc"
   ]
  },
  {
   "cell_type": "code",
   "execution_count": 58,
   "id": "94ff2d58",
   "metadata": {},
   "outputs": [],
   "source": [
    "data_bc=data[data[\"cancer\"]==\"OvC\"]\n",
    "\n",
    "\n",
    "data_bc_res_cellType_num=pd.DataFrame()\n",
    "\n",
    "regs=list(set(data_bc[\"gene\"]))\n",
    "\n",
    "num_c=[]\n",
    "for ww in regs:\n",
    "    num_c.append(data_bc[data_bc[\"gene\"]==ww].shape[0])\n",
    "\n",
    "data_bc_res_cellType_num[\"regs\"]=regs\n",
    "data_bc_res_cellType_num[\"num\"]=num_c\n",
    "\n",
    "data_bc_res_cellType_num_sort=data_bc_res_cellType_num.sort_values(by='num',ascending=False)\n",
    "\n",
    "data_bc_res_cellType_num_sort.to_csv(dir+\"top_exp(marker)_feature\\\\ovc_reg_celltypeUP_infor.txt\",header=True,sep=\"\\t\",index=False)"
   ]
  },
  {
   "cell_type": "code",
   "execution_count": 37,
   "id": "fbbc2132",
   "metadata": {},
   "outputs": [
    {
     "data": {
      "text/plain": [
       "{'a', 'b'}"
      ]
     },
     "execution_count": 37,
     "metadata": {},
     "output_type": "execute_result"
    }
   ],
   "source": [
    "set([\"b\",\"b\",\"a\"])"
   ]
  },
  {
   "cell_type": "code",
   "execution_count": 39,
   "id": "6bfbfaf6",
   "metadata": {},
   "outputs": [
    {
     "data": {
      "text/plain": [
       "array(['a', 'b'], dtype='<U1')"
      ]
     },
     "execution_count": 39,
     "metadata": {},
     "output_type": "execute_result"
    }
   ],
   "source": [
    "np.unique([\"b\",\"b\",\"a\"])"
   ]
  },
  {
   "cell_type": "code",
   "execution_count": null,
   "id": "e034f923",
   "metadata": {},
   "outputs": [],
   "source": [
    "()"
   ]
  }
 ],
 "metadata": {
  "kernelspec": {
   "display_name": "py37",
   "language": "python",
   "name": "py37"
  },
  "language_info": {
   "codemirror_mode": {
    "name": "ipython",
    "version": 3
   },
   "file_extension": ".py",
   "mimetype": "text/x-python",
   "name": "python",
   "nbconvert_exporter": "python",
   "pygments_lexer": "ipython3",
   "version": "3.7.11"
  }
 },
 "nbformat": 4,
 "nbformat_minor": 5
}
