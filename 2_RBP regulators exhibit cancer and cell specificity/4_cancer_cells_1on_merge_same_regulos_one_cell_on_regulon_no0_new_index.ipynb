{
 "cells": [
  {
   "cell_type": "code",
   "execution_count": 39,
   "metadata": {},
   "outputs": [],
   "source": [
    "import matplotlib.pyplot as plt\n",
    "import numpy as np ,pandas as pd\n",
    "from collections import OrderedDict,Counter\n",
    "import os\n",
    "import statsmodels.stats.multitest as multi\n",
    "import scipy.stats as stats\n",
    "from collections import Counter\n",
    "from IPython.core.interactiveshell import InteractiveShell\n",
    "InteractiveShell.ast_node_interactivity=\"all\"\n",
    "import math"
   ]
  },
  {
   "cell_type": "code",
   "execution_count": 40,
   "metadata": {},
   "outputs": [],
   "source": [
    "dir=\"E:\\\\project\\\\singcells\\\\SCENIC\\\\jt_4cancer_scenic_result\\\\\"\n",
    "dir1=\"E:\\\\project\\\\singcells\\\\1_C_regulons\\\\\""
   ]
  },
  {
   "cell_type": "code",
   "execution_count": 41,
   "metadata": {},
   "outputs": [],
   "source": [
    "cancers=[\"BC\",\"CRC\",\"LC\",\"OvC\"]"
   ]
  },
  {
   "cell_type": "code",
   "execution_count": 42,
   "metadata": {},
   "outputs": [],
   "source": [
    "cacner_reglons_targene=pd.read_csv(dir+\"4_cancer_reglons_targetgene.txt\",header=0,index_col=0,sep=\"\\t\")"
   ]
  },
  {
   "cell_type": "code",
   "execution_count": 43,
   "metadata": {},
   "outputs": [],
   "source": [
    "#ca0=cancers[0]\n",
    "for ca0 in cancers:\n",
    "\n",
    "    data=pd.read_csv(dir1+ca0+\"\\\\\"+ca0+\"_cells_1on_merge_same_regulos_one_cell_on_regulon_no0.txt\",header=0,index_col=0,sep=\"\\t\")\n",
    "\n",
    "    index_new=[]\n",
    "\n",
    "    for index0 in data.index.tolist():\n",
    "        if \"(\" in index0:\n",
    "            index_new.append(index0)\n",
    "        else:\n",
    "            c_r_t0=cacner_reglons_targene.loc[ca0]\n",
    "\n",
    "            targenes=[]\n",
    "\n",
    "            for ind,cols in c_r_t0.iterrows():\n",
    "                if cols[1].split(\" \")[0] ==index0:\n",
    "                    targenes=targenes+cols[-1].split(\",\")\n",
    "\n",
    "\n",
    "            index_new.append(index0+\" (\"+str(len(list(set(targenes))))+\"g)\")\n",
    "\n",
    "\n",
    "\n",
    "    data.index=index_new\n",
    "\n",
    "    data.to_csv(dir1+ca0+\"\\\\\"+ca0+\"_cells_1on_merge_same_regulos_one_cell_on_regulon_no0_new_index.txt\",header=True,index=True,sep=\"\\t\",index_label=\"regulons\")"
   ]
  },
  {
   "cell_type": "code",
   "execution_count": null,
   "metadata": {},
   "outputs": [],
   "source": []
  }
 ],
 "metadata": {
  "kernelspec": {
   "display_name": "Python [conda env:root] *",
   "language": "python",
   "name": "conda-root-py"
  },
  "language_info": {
   "codemirror_mode": {
    "name": "ipython",
    "version": 3
   },
   "file_extension": ".py",
   "mimetype": "text/x-python",
   "name": "python",
   "nbconvert_exporter": "python",
   "pygments_lexer": "ipython3",
   "version": "3.6.5"
  }
 },
 "nbformat": 4,
 "nbformat_minor": 2
}
