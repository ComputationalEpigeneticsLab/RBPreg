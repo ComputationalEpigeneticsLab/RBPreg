{
 "cells": [
  {
   "cell_type": "code",
   "execution_count": null,
   "metadata": {},
   "outputs": [],
   "source": [
    "import matplotlib.pyplot as plt\n",
    "import numpy as np ,pandas as pd\n",
    "from collections import OrderedDict,Counter\n",
    "import os\n",
    "import statsmodels.stats.multitest as multi\n",
    "import scipy.stats as stats\n",
    "from collections import Counter\n",
    "from IPython.core.interactiveshell import InteractiveShell\n",
    "InteractiveShell.ast_node_interactivity=\"all\"\n",
    "import math"
   ]
  },
  {
   "cell_type": "code",
   "execution_count": null,
   "metadata": {},
   "outputs": [],
   "source": [
    "###BC"
   ]
  },
  {
   "cell_type": "code",
   "execution_count": null,
   "metadata": {},
   "outputs": [],
   "source": [
    "dir=\"E:\\\\project\\\\singcells\\\\scRNA_data\\\\jt_pan-cancer blueprint microenvironment single-cell profiling\\\\BC_counts\\\\bc_10x\\\\\"\n",
    "dir1=\"E:\\\\project\\\\singcells\\\\scRNA_data\\\\jt_pan-cancer blueprint microenvironment single-cell profiling\\\\BC_counts\\\\\""
   ]
  },
  {
   "cell_type": "code",
   "execution_count": null,
   "metadata": {},
   "outputs": [],
   "source": [
    "type_infor=pd.read_csv(dir1+\"BC_metadata.csv\",header=0,index_col=0,sep=\",\")\n",
    "\n",
    "data=pd.read_csv(dir+\"barcodes_org.tsv\",header=None)"
   ]
  },
  {
   "cell_type": "code",
   "execution_count": null,
   "metadata": {},
   "outputs": [],
   "source": [
    "zd=Counter({})\n",
    "\n",
    "for k,v in type_infor.iterrows():\n",
    "        zd[k.replace(\"_\",\"-\")]=v[-1]"
   ]
  },
  {
   "cell_type": "code",
   "execution_count": null,
   "metadata": {
    "scrolled": true
   },
   "outputs": [],
   "source": [
    "name_type=[]\n",
    "for ww in data[0].tolist():   \n",
    "    name_type.append(ww.replace(\"_\",\"-\")+\"-\"+zd[ww.replace(\"_\",\"-\")])\n"
   ]
  },
  {
   "cell_type": "code",
   "execution_count": null,
   "metadata": {},
   "outputs": [],
   "source": [
    "w=open(dir+\"barcodes.tsv\",\"w\")\n",
    "\n",
    "for ww in name_type:    \n",
    "    w.write(ww+\"\\n\")\n",
    "w.close()"
   ]
  },
  {
   "cell_type": "code",
   "execution_count": null,
   "metadata": {},
   "outputs": [],
   "source": [
    "###CRC"
   ]
  },
  {
   "cell_type": "code",
   "execution_count": null,
   "metadata": {},
   "outputs": [],
   "source": [
    "dir=\"E:\\\\project\\\\singcells\\\\scRNA_data\\\\jt_pan-cancer blueprint microenvironment single-cell profiling\\\\CRC_counts\\\\crc_10x\\\\\"\n",
    "dir1=\"E:\\\\project\\\\singcells\\\\scRNA_data\\\\jt_pan-cancer blueprint microenvironment single-cell profiling\\\\CRC_counts\\\\\""
   ]
  },
  {
   "cell_type": "code",
   "execution_count": null,
   "metadata": {},
   "outputs": [],
   "source": [
    "type_infor=pd.read_csv(dir1+\"CRC_metadata.csv\",header=0,index_col=0,sep=\",\")\n",
    "\n",
    "data=pd.read_csv(dir+\"barcodes_org.tsv\",header=None)"
   ]
  },
  {
   "cell_type": "code",
   "execution_count": null,
   "metadata": {},
   "outputs": [],
   "source": [
    "zd=Counter({})\n",
    "\n",
    "for k,v in type_infor.iterrows():\n",
    "        zd[k.replace(\"_\",\"-\")]=v[-1]"
   ]
  },
  {
   "cell_type": "code",
   "execution_count": null,
   "metadata": {},
   "outputs": [],
   "source": [
    "name_type=[]\n",
    "for ww in data[0].tolist():   \n",
    "    name_type.append(ww.replace(\"_\",\"-\")+\"-\"+zd[ww.replace(\"_\",\"-\")])"
   ]
  },
  {
   "cell_type": "code",
   "execution_count": null,
   "metadata": {},
   "outputs": [],
   "source": [
    "w=open(dir+\"barcodes.tsv\",\"w\")\n",
    "\n",
    "for ww in name_type:    \n",
    "    w.write(ww+\"\\n\")\n",
    "w.close()"
   ]
  },
  {
   "cell_type": "code",
   "execution_count": null,
   "metadata": {},
   "outputs": [],
   "source": [
    "##LC"
   ]
  },
  {
   "cell_type": "code",
   "execution_count": null,
   "metadata": {},
   "outputs": [],
   "source": [
    "dir=\"E:\\\\project\\\\singcells\\\\scRNA_data\\\\jt_pan-cancer blueprint microenvironment single-cell profiling\\\\LC_counts\\\\lc_10x\\\\\"\n",
    "dir1=\"E:\\\\project\\\\singcells\\\\scRNA_data\\\\jt_pan-cancer blueprint microenvironment single-cell profiling\\\\LC_counts\\\\\""
   ]
  },
  {
   "cell_type": "code",
   "execution_count": null,
   "metadata": {},
   "outputs": [],
   "source": [
    "type_infor=pd.read_csv(dir1+\"LC_metadata.csv\",header=0,index_col=0,sep=\",\")\n",
    "\n",
    "data=pd.read_csv(dir+\"barcodes_org.tsv\",header=None)"
   ]
  },
  {
   "cell_type": "code",
   "execution_count": null,
   "metadata": {},
   "outputs": [],
   "source": [
    "zd=Counter({})\n",
    "\n",
    "for k,v in type_infor.iterrows():\n",
    "        zd[k.replace(\"_\",\"-\")]=v[-1]"
   ]
  },
  {
   "cell_type": "code",
   "execution_count": null,
   "metadata": {},
   "outputs": [],
   "source": [
    "name_type=[]\n",
    "for ww in data[0].tolist():   \n",
    "    name_type.append(ww.replace(\"_\",\"-\")+\"-\"+zd[ww.replace(\"_\",\"-\")])"
   ]
  },
  {
   "cell_type": "code",
   "execution_count": null,
   "metadata": {},
   "outputs": [],
   "source": [
    "w=open(dir+\"barcodes.tsv\",\"w\")\n",
    "\n",
    "for ww in name_type:    \n",
    "    w.write(ww+\"\\n\")\n",
    "w.close()"
   ]
  },
  {
   "cell_type": "code",
   "execution_count": null,
   "metadata": {},
   "outputs": [],
   "source": []
  }
 ],
 "metadata": {
  "kernelspec": {
   "display_name": "py37",
   "language": "python",
   "name": "py37"
  },
  "language_info": {
   "codemirror_mode": {
    "name": "ipython",
    "version": 3
   },
   "file_extension": ".py",
   "mimetype": "text/x-python",
   "name": "python",
   "nbconvert_exporter": "python",
   "pygments_lexer": "ipython3",
   "version": "3.7.11"
  }
 },
 "nbformat": 4,
 "nbformat_minor": 2
}
