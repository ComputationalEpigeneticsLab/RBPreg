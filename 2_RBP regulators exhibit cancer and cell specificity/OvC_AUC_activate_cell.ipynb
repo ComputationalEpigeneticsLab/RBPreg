{
 "cells": [
  {
   "cell_type": "code",
   "execution_count": null,
   "metadata": {},
   "outputs": [],
   "source": [
    "\n",
    "import matplotlib.pyplot as plt\n",
    "import numpy as np ,pandas as pd\n",
    "from collections import OrderedDict,Counter\n",
    "import os\n",
    "import statsmodels.stats.multitest as multi\n",
    "import scipy.stats as stats\n",
    "from collections import Counter\n",
    "from IPython.core.interactiveshell import InteractiveShell\n",
    "InteractiveShell.ast_node_interactivity=\"all\"\n",
    "import math\n",
    "\n",
    "dir=\"E:\\\\project\\\\singcells\\\\1_C_regulons\\\\OvC\\\\AUC_activate_cell\\\\\"\n",
    "dir1=\"E:\\\\project\\\\singcells\\\\1_C_regulons\\\\OvC\\\\AUC_value_matrix\\\\\"\n",
    "dir2=\"E:\\\\project\\\\singcells\\\\SCENIC\\\\jt_4cancer_scenic_result\\\\SCENIC\\\\jt_4_cancer\\\\all\\\\\"\n",
    "\n",
    "auc_thred=pd.read_excel(dir2+\"4_cancer_regulons_infor.xlsx\")\n",
    "\n",
    "col_name=[]\n",
    "for ww in auc_thred[\"cancer_cell\"]:\n",
    "    col_name.append(ww.split(\"/\")[0]+\"_\"+ww.split(\"/\")[1])\n",
    "\n",
    "auc_thred.index=col_name\n",
    "\n",
    "files=os.listdir(dir1)\n",
    "#file0=files[0]\n",
    "\n",
    "for file0 in files:\n",
    "\n",
    "    auc_mat=pd.read_csv(dir1+file0,header=0,index_col=0,sep=\"\\t\")\n",
    "\n",
    "    cancer_type=file0[0:-8]\n",
    "    #cancer_type\n",
    "\n",
    "\n",
    "    df0=auc_thred.loc[cancer_type]\n",
    "\n",
    "    auc_0_1on=auc_mat\n",
    "\n",
    "    for ind,row in auc_mat.iterrows():\n",
    "        thr_v=df0[df0[\"regulon\"]==ind][\"threshold\"][0]\n",
    "        evnt=[]\n",
    "        for ww in row:\n",
    "            if float(ww) <float(thr_v) :\n",
    "                evnt.append(0)\n",
    "            else:\n",
    "                evnt.append(1)\n",
    "        auc_0_1on.loc[ind]=evnt\n",
    "\n",
    "\n",
    "    auc_0_1on.to_csv(dir+cancer_type+\"_1on.txt\",header=True,index=True,index_label=\"regulons\",sep=\"\\t\")"
   ]
  },
  {
   "cell_type": "code",
   "execution_count": null,
   "metadata": {},
   "outputs": [],
   "source": []
  }
 ],
 "metadata": {
  "kernelspec": {
   "display_name": "Python [conda env:root] *",
   "language": "python",
   "name": "conda-root-py"
  },
  "language_info": {
   "codemirror_mode": {
    "name": "ipython",
    "version": 3
   },
   "file_extension": ".py",
   "mimetype": "text/x-python",
   "name": "python",
   "nbconvert_exporter": "python",
   "pygments_lexer": "ipython3",
   "version": "3.6.5"
  }
 },
 "nbformat": 4,
 "nbformat_minor": 2
}
